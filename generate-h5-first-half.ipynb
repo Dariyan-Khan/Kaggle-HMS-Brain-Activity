{
 "cells": [
  {
   "cell_type": "code",
   "execution_count": 1,
   "id": "33aa78b5",
   "metadata": {
    "_cell_guid": "b1076dfc-b9ad-4769-8c92-a6c4dae69d19",
    "_uuid": "8f2839f25d086af736a60e9eeb907d3b93b6e0e5",
    "execution": {
     "iopub.execute_input": "2024-03-25T23:46:58.637023Z",
     "iopub.status.busy": "2024-03-25T23:46:58.636037Z",
     "iopub.status.idle": "2024-03-25T23:47:33.081261Z",
     "shell.execute_reply": "2024-03-25T23:47:33.079980Z"
    },
    "papermill": {
     "duration": 34.452718,
     "end_time": "2024-03-25T23:47:33.083896",
     "exception": false,
     "start_time": "2024-03-25T23:46:58.631178",
     "status": "completed"
    },
    "tags": []
   },
   "outputs": [
    {
     "name": "stdout",
     "output_type": "stream",
     "text": [
      "iisignature not found. Installing...\n",
      "Collecting iisignature\n",
      "  Downloading iisignature-0.24.tar.gz (1.3 MB)\n",
      "\u001b[2K     \u001b[90m━━━━━━━━━━━━━━━━━━━━━━━━━━━━━━━━━━━━━━━━\u001b[0m \u001b[32m1.3/1.3 MB\u001b[0m \u001b[31m11.4 MB/s\u001b[0m eta \u001b[36m0:00:00\u001b[0m\n",
      "\u001b[?25h  Preparing metadata (setup.py): started\n",
      "  Preparing metadata (setup.py): finished with status 'done'\n",
      "Requirement already satisfied: numpy>1.7 in /opt/conda/lib/python3.10/site-packages (from iisignature) (1.26.4)\n",
      "Building wheels for collected packages: iisignature\n",
      "  Building wheel for iisignature (setup.py): started\n",
      "  Building wheel for iisignature (setup.py): finished with status 'done'\n",
      "  Created wheel for iisignature: filename=iisignature-0.24-cp310-cp310-linux_x86_64.whl size=1401821 sha256=6b2ccfbadcf1c869c3c2e972f0e72b87e517abc9a851f9b1ff1a15ac0b808963\n",
      "  Stored in directory: /root/.cache/pip/wheels/c8/13/d1/42e1aa7f8a8e1189360df53c461f0e13f43e0d2170ef16d349\n",
      "Successfully built iisignature\n",
      "Installing collected packages: iisignature\n",
      "Successfully installed iisignature-0.24\n"
     ]
    }
   ],
   "source": [
    "# This Python 3 environment comes with many helpful analytics libraries installed\n",
    "# It is defined by the kaggle/python Docker image: https://github.com/kaggle/docker-python\n",
    "# For example, here's several helpful packages to load\n",
    "\n",
    "import numpy as np # linear algebra\n",
    "import pandas as pd # data processing, CSV file I/O (e.g. pd.read_csv)\n",
    "\n",
    "# Input data files are available in the read-only \"../input/\" directory\n",
    "# For example, running this (by clicking run or pressing Shift+Enter) will list all files under the input directory\n",
    "\n",
    "import os\n",
    "\n",
    "import sys\n",
    "sys.path.append('/kaggle/usr/lib')\n",
    "\n",
    "from basic_preprocessing_utility_script import process_as_h5, signature, get_eeg_sp_data\n",
    "\n",
    "\n",
    "# 106800 examples in the train set"
   ]
  },
  {
   "cell_type": "code",
   "execution_count": 2,
   "id": "adb57d2a",
   "metadata": {
    "execution": {
     "iopub.execute_input": "2024-03-25T23:47:33.091341Z",
     "iopub.status.busy": "2024-03-25T23:47:33.090804Z",
     "iopub.status.idle": "2024-03-25T23:47:33.098939Z",
     "shell.execute_reply": "2024-03-25T23:47:33.097877Z"
    },
    "papermill": {
     "duration": 0.014413,
     "end_time": "2024-03-25T23:47:33.101236",
     "exception": false,
     "start_time": "2024-03-25T23:47:33.086823",
     "status": "completed"
    },
    "tags": []
   },
   "outputs": [
    {
     "name": "stdout",
     "output_type": "stream",
     "text": [
      "Help on function process_as_h5 in module basic_preprocessing_utility_script:\n",
      "\n",
      "process_as_h5(file, start_index=None, end_index=None, num_examples=None, apply_sig=False)\n",
      "    Takes in the dataset, performs signature and then stores data\n",
      "    Choose number of of examples. It i suseful to choose a small number\n",
      "    initially for testing\n",
      "    \n",
      "    start_index = num of example to starrt from\n",
      "    end_index = num of example to end at\n",
      "    num_examples = number of examples from start (used if start and end index are None)\n",
      "\n"
     ]
    }
   ],
   "source": [
    "help(process_as_h5)"
   ]
  },
  {
   "cell_type": "code",
   "execution_count": 3,
   "id": "6d629cb3",
   "metadata": {
    "execution": {
     "iopub.execute_input": "2024-03-25T23:47:33.108451Z",
     "iopub.status.busy": "2024-03-25T23:47:33.108102Z",
     "iopub.status.idle": "2024-03-25T23:47:34.365791Z",
     "shell.execute_reply": "2024-03-25T23:47:34.364388Z"
    },
    "papermill": {
     "duration": 1.266044,
     "end_time": "2024-03-25T23:47:34.370116",
     "exception": false,
     "start_time": "2024-03-25T23:47:33.104072",
     "status": "completed"
    },
    "tags": []
   },
   "outputs": [
    {
     "name": "stderr",
     "output_type": "stream",
     "text": [
      "100%|██████████| 10/10 [00:00<00:00, 12.89it/s]\n"
     ]
    },
    {
     "name": "stdout",
     "output_type": "stream",
     "text": [
      "Files created!\n"
     ]
    }
   ],
   "source": [
    "total_in_dataset = 106800\n",
    "filename = '/kaggle/input/hms-harmful-brain-activity-classification/train.csv'\n",
    "process_as_h5(filename, end_index = 10)\n"
   ]
  },
  {
   "cell_type": "code",
   "execution_count": null,
   "id": "570fd963",
   "metadata": {
    "papermill": {
     "duration": 0.003212,
     "end_time": "2024-03-25T23:47:34.376721",
     "exception": false,
     "start_time": "2024-03-25T23:47:34.373509",
     "status": "completed"
    },
    "tags": []
   },
   "outputs": [],
   "source": []
  }
 ],
 "metadata": {
  "kaggle": {
   "accelerator": "none",
   "dataSources": [
    {
     "databundleVersionId": 7469972,
     "sourceId": 59093,
     "sourceType": "competition"
    },
    {
     "sourceId": 168759401,
     "sourceType": "kernelVersion"
    }
   ],
   "dockerImageVersionId": 30673,
   "isGpuEnabled": false,
   "isInternetEnabled": true,
   "language": "python",
   "sourceType": "notebook"
  },
  "kernelspec": {
   "display_name": "Python 3",
   "language": "python",
   "name": "python3"
  },
  "language_info": {
   "codemirror_mode": {
    "name": "ipython",
    "version": 3
   },
   "file_extension": ".py",
   "mimetype": "text/x-python",
   "name": "python",
   "nbconvert_exporter": "python",
   "pygments_lexer": "ipython3",
   "version": "3.10.13"
  },
  "papermill": {
   "default_parameters": {},
   "duration": 39.255823,
   "end_time": "2024-03-25T23:47:34.901193",
   "environment_variables": {},
   "exception": null,
   "input_path": "__notebook__.ipynb",
   "output_path": "__notebook__.ipynb",
   "parameters": {},
   "start_time": "2024-03-25T23:46:55.645370",
   "version": "2.5.0"
  }
 },
 "nbformat": 4,
 "nbformat_minor": 5
}
