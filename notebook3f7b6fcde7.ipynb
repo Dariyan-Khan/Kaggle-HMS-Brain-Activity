{
 "cells": [
  {
   "cell_type": "code",
   "execution_count": 1,
   "id": "99780423",
   "metadata": {
    "_cell_guid": "b1076dfc-b9ad-4769-8c92-a6c4dae69d19",
    "_uuid": "8f2839f25d086af736a60e9eeb907d3b93b6e0e5",
    "execution": {
     "iopub.execute_input": "2024-02-28T15:15:27.369311Z",
     "iopub.status.busy": "2024-02-28T15:15:27.368856Z",
     "iopub.status.idle": "2024-02-28T15:16:09.464840Z",
     "shell.execute_reply": "2024-02-28T15:16:09.463524Z"
    },
    "papermill": {
     "duration": 42.105137,
     "end_time": "2024-02-28T15:16:09.468577",
     "exception": false,
     "start_time": "2024-02-28T15:15:27.363440",
     "status": "completed"
    },
    "tags": []
   },
   "outputs": [
    {
     "name": "stdout",
     "output_type": "stream",
     "text": [
      "Collecting iisignature\r\n",
      "  Downloading iisignature-0.24.tar.gz (1.3 MB)\r\n",
      "\u001b[2K     \u001b[90m━━━━━━━━━━━━━━━━━━━━━━━━━━━━━━━━━━━━━━━━\u001b[0m \u001b[32m1.3/1.3 MB\u001b[0m \u001b[31m11.1 MB/s\u001b[0m eta \u001b[36m0:00:00\u001b[0m\r\n",
      "\u001b[?25h  Preparing metadata (setup.py) ... \u001b[?25l-\b \b\\\b \bdone\r\n",
      "\u001b[?25hRequirement already satisfied: numpy>1.7 in /opt/conda/lib/python3.10/site-packages (from iisignature) (1.26.4)\r\n",
      "Building wheels for collected packages: iisignature\r\n",
      "  Building wheel for iisignature (setup.py) ... \u001b[?25l-\b \b\\\b \b|\b \bdone\r\n",
      "\u001b[?25h  Created wheel for iisignature: filename=iisignature-0.24-cp310-cp310-linux_x86_64.whl size=1401821 sha256=a1db4dab3b9590b89f202f53be51eba383a74a44c1f1c02e155633c3eba8c956\r\n",
      "  Stored in directory: /root/.cache/pip/wheels/c8/13/d1/42e1aa7f8a8e1189360df53c461f0e13f43e0d2170ef16d349\r\n",
      "Successfully built iisignature\r\n",
      "Installing collected packages: iisignature\r\n",
      "Successfully installed iisignature-0.24\r\n",
      "/kaggle/input/process-dataset/__results__.html\n",
      "/kaggle/input/process-dataset/__notebook__.ipynb\n",
      "/kaggle/input/process-dataset/__output__.json\n",
      "/kaggle/input/process-dataset/custom.css\n",
      "/kaggle/input/process-dataset/hdf5/data.h5\n",
      "/kaggle/input/process-dataset/__results___files/__results___25_0.png\n",
      "/kaggle/input/process-dataset/__results___files/__results___23_2.png\n"
     ]
    }
   ],
   "source": [
    "# This Python 3 environment comes with many helpful analytics libraries installed\n",
    "# It is defined by the kaggle/python Docker image: https://github.com/kaggle/docker-python\n",
    "# For example, here's several helpful packages to load\n",
    "!pip install iisignature\n",
    "import numpy as np # linear algebra\n",
    "import pandas as pd # data processing, CSV file I/O (e.g. pd.read_csv)\n",
    "\n",
    "# Input data files are available in the read-only \"../input/\" directory\n",
    "# For example, running this (by clicking run or pressing Shift+Enter) will list all files under the input directory\n",
    "\n",
    "import os\n",
    "for dirname, _, filenames in os.walk('/kaggle/input'):\n",
    "    for filename in filenames:\n",
    "        print(os.path.join(dirname, filename))\n",
    "\n",
    "import time\n",
    "import h5py\n",
    "import iisignature\n",
    "# You can write up to 20GB to the current directory (/kaggle/working/) that gets preserved as output when you create a version using \"Save & Run All\" \n",
    "# You can also write temporary files to /kaggle/temp/, but they won't be saved outside of the current session"
   ]
  },
  {
   "cell_type": "code",
   "execution_count": 2,
   "id": "49c52f45",
   "metadata": {
    "execution": {
     "iopub.execute_input": "2024-02-28T15:16:09.477908Z",
     "iopub.status.busy": "2024-02-28T15:16:09.477242Z",
     "iopub.status.idle": "2024-02-28T15:16:09.878129Z",
     "shell.execute_reply": "2024-02-28T15:16:09.876313Z"
    },
    "papermill": {
     "duration": 0.40943,
     "end_time": "2024-02-28T15:16:09.881782",
     "exception": false,
     "start_time": "2024-02-28T15:16:09.472352",
     "status": "completed"
    },
    "tags": []
   },
   "outputs": [
    {
     "name": "stdout",
     "output_type": "stream",
     "text": [
      "0.19687223434448242\n",
      "0.19186925888061523\n",
      "(100, 272)\n",
      "[[ 2.81000519e+00 -5.62000275e+00 -1.66800003e+01 ...  9.84132174e+02\n",
      "  -5.72794664e+03  4.55630571e+03]\n",
      " [ 4.70800018e+01  1.63999176e+00 -1.15699997e+01 ... -2.44401675e+03\n",
      "  -4.25572097e+04  2.78480036e+04]\n",
      " [ 2.07400055e+01  1.82499924e+01  1.00006104e-01 ... -3.22165559e+03\n",
      "  -2.83683000e+04  1.27520494e+04]\n",
      " ...\n",
      " [ 2.87999954e+01 -8.62999725e+00 -7.55999947e+00 ... -1.03953532e+03\n",
      "   3.26724591e+02  1.38864424e+01]\n",
      " [-9.39999390e+00  2.12999992e+01  4.35099983e+01 ... -5.88229552e+02\n",
      "   3.36620259e+02  4.12232166e+01]\n",
      " [-3.23900003e+01 -1.45100002e+01 -2.79999962e+01 ...  2.13309850e+03\n",
      "   2.54202511e+03  4.51501399e+02]]\n"
     ]
    }
   ],
   "source": [
    "# print(os.getcwd())\n",
    "start = time.time()\n",
    "hf = h5py.File('../input/process-dataset/hdf5/data.h5', 'r')\n",
    "data = hf.get('train_eeg_small')[:]\n",
    "hf.close()\n",
    "# print(data.shape)\n",
    "end = time.time()\n",
    "print(end - start)\n",
    "sig = iisignature.sig(data, 2)#\n",
    "print(time.time() - end)\n",
    "print(sig.shape)\n",
    "print(sig)"
   ]
  },
  {
   "cell_type": "code",
   "execution_count": null,
   "id": "5a5b7cb5",
   "metadata": {
    "papermill": {
     "duration": 0.003385,
     "end_time": "2024-02-28T15:16:09.888723",
     "exception": false,
     "start_time": "2024-02-28T15:16:09.885338",
     "status": "completed"
    },
    "tags": []
   },
   "outputs": [],
   "source": []
  }
 ],
 "metadata": {
  "kaggle": {
   "accelerator": "none",
   "dataSources": [
    {
     "sourceId": 164717189,
     "sourceType": "kernelVersion"
    }
   ],
   "dockerImageVersionId": 30664,
   "isGpuEnabled": false,
   "isInternetEnabled": true,
   "language": "python",
   "sourceType": "notebook"
  },
  "kernelspec": {
   "display_name": "Python 3",
   "language": "python",
   "name": "python3"
  },
  "language_info": {
   "codemirror_mode": {
    "name": "ipython",
    "version": 3
   },
   "file_extension": ".py",
   "mimetype": "text/x-python",
   "name": "python",
   "nbconvert_exporter": "python",
   "pygments_lexer": "ipython3",
   "version": "3.10.13"
  },
  "papermill": {
   "default_parameters": {},
   "duration": 46.642404,
   "end_time": "2024-02-28T15:16:10.616592",
   "environment_variables": {},
   "exception": null,
   "input_path": "__notebook__.ipynb",
   "output_path": "__notebook__.ipynb",
   "parameters": {},
   "start_time": "2024-02-28T15:15:23.974188",
   "version": "2.5.0"
  }
 },
 "nbformat": 4,
 "nbformat_minor": 5
}
