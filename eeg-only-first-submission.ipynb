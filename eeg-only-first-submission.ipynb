{
 "cells": [
  {
   "cell_type": "code",
   "execution_count": 1,
   "id": "9c49e9bc",
   "metadata": {
    "execution": {
     "iopub.execute_input": "2024-03-24T10:06:44.163545Z",
     "iopub.status.busy": "2024-03-24T10:06:44.162288Z",
     "iopub.status.idle": "2024-03-24T10:06:45.257636Z",
     "shell.execute_reply": "2024-03-24T10:06:45.256314Z"
    },
    "papermill": {
     "duration": 1.112082,
     "end_time": "2024-03-24T10:06:45.260541",
     "exception": false,
     "start_time": "2024-03-24T10:06:44.148459",
     "status": "completed"
    },
    "tags": []
   },
   "outputs": [
    {
     "name": "stdout",
     "output_type": "stream",
     "text": [
      "/kaggle/working\r\n"
     ]
    }
   ],
   "source": [
    "!pwd"
   ]
  },
  {
   "cell_type": "code",
   "execution_count": 2,
   "id": "007b6f60",
   "metadata": {
    "execution": {
     "iopub.execute_input": "2024-03-24T10:06:45.287125Z",
     "iopub.status.busy": "2024-03-24T10:06:45.286283Z",
     "iopub.status.idle": "2024-03-24T10:06:45.296008Z",
     "shell.execute_reply": "2024-03-24T10:06:45.295102Z"
    },
    "papermill": {
     "duration": 0.025891,
     "end_time": "2024-03-24T10:06:45.298442",
     "exception": false,
     "start_time": "2024-03-24T10:06:45.272551",
     "status": "completed"
    },
    "tags": []
   },
   "outputs": [],
   "source": [
    "import os\n",
    "import zipfile\n",
    "\n",
    "def zip_folder(folder_path, output_zip):\n",
    "    \"\"\"\n",
    "    Zip the contents of an entire folder (with that folder included\n",
    "    in the archive). Empty directories are included in the archive as well.\n",
    "    \"\"\"\n",
    "    with zipfile.ZipFile(output_zip, 'w', zipfile.ZIP_DEFLATED) as zipf:\n",
    "        lenDirPath = len(folder_path)\n",
    "        for root, _, files in os.walk(folder_path):\n",
    "            # Include all subdirectories, including empty ones.\n",
    "            for dirName in os.listdir(root):\n",
    "                dirPath = os.path.join(root, dirName)\n",
    "                if os.path.isdir(dirPath):\n",
    "                    zipf.write(dirPath, os.path.relpath(dirPath, folder_path))\n",
    "            # Add files\n",
    "            for file in files:\n",
    "                filePath = os.path.join(root, file)\n",
    "                zipf.write(filePath, os.path.relpath(filePath, folder_path))"
   ]
  },
  {
   "cell_type": "code",
   "execution_count": 3,
   "id": "ddfaf237",
   "metadata": {
    "execution": {
     "iopub.execute_input": "2024-03-24T10:06:45.324478Z",
     "iopub.status.busy": "2024-03-24T10:06:45.323626Z",
     "iopub.status.idle": "2024-03-24T10:07:42.973592Z",
     "shell.execute_reply": "2024-03-24T10:07:42.972515Z"
    },
    "papermill": {
     "duration": 57.666158,
     "end_time": "2024-03-24T10:07:42.976559",
     "exception": false,
     "start_time": "2024-03-24T10:06:45.310401",
     "status": "completed"
    },
    "tags": []
   },
   "outputs": [
    {
     "name": "stdout",
     "output_type": "stream",
     "text": [
      "Processing ./isig.zip\r\n",
      "  Preparing metadata (setup.py) ... \u001b[?25l-\b \b\\\b \bdone\r\n",
      "\u001b[?25hRequirement already satisfied: numpy>1.7 in /opt/conda/lib/python3.10/site-packages (from iisignature==0.24) (1.24.4)\r\n",
      "Building wheels for collected packages: iisignature\r\n",
      "  Building wheel for iisignature (setup.py) ... \u001b[?25l-\b \b\\\b \b|\b \bdone\r\n",
      "\u001b[?25h  Created wheel for iisignature: filename=iisignature-0.24-cp310-cp310-linux_x86_64.whl size=1401821 sha256=d2b6be50a7a97f3cc6945ef80eccdddc1db854c6fc0d033ddea58253caebebf1\r\n",
      "  Stored in directory: /tmp/pip-ephem-wheel-cache-mh3vq602/wheels/1e/cc/c1/df8da0c28148d0b5dd2ba81acb40a50cda02da4b95bba89080\r\n",
      "Successfully built iisignature\r\n",
      "Installing collected packages: iisignature\r\n",
      "Successfully installed iisignature-0.24\r\n"
     ]
    }
   ],
   "source": [
    "zip_folder(\"/kaggle/input/isig-wheels/iisignature-0.24\", \"./isig.zip\")\n",
    "\n",
    "!pip install \"./isig.zip\""
   ]
  },
  {
   "cell_type": "code",
   "execution_count": 4,
   "id": "79a9eb78",
   "metadata": {
    "execution": {
     "iopub.execute_input": "2024-03-24T10:07:43.005198Z",
     "iopub.status.busy": "2024-03-24T10:07:43.004667Z",
     "iopub.status.idle": "2024-03-24T10:07:44.451844Z",
     "shell.execute_reply": "2024-03-24T10:07:44.450561Z"
    },
    "papermill": {
     "duration": 1.464962,
     "end_time": "2024-03-24T10:07:44.454596",
     "exception": false,
     "start_time": "2024-03-24T10:07:42.989634",
     "status": "completed"
    },
    "tags": []
   },
   "outputs": [
    {
     "name": "stdout",
     "output_type": "stream",
     "text": [
      "iisignature is already installed.\n"
     ]
    }
   ],
   "source": [
    "from basic_preprocessing_utility_script import process_as_h5, signature, get_eeg_sp_data, zip_folder"
   ]
  },
  {
   "cell_type": "code",
   "execution_count": 5,
   "id": "47482168",
   "metadata": {
    "_cell_guid": "b1076dfc-b9ad-4769-8c92-a6c4dae69d19",
    "_uuid": "8f2839f25d086af736a60e9eeb907d3b93b6e0e5",
    "execution": {
     "iopub.execute_input": "2024-03-24T10:07:44.484284Z",
     "iopub.status.busy": "2024-03-24T10:07:44.483412Z",
     "iopub.status.idle": "2024-03-24T10:07:44.489869Z",
     "shell.execute_reply": "2024-03-24T10:07:44.488929Z"
    },
    "papermill": {
     "duration": 0.023524,
     "end_time": "2024-03-24T10:07:44.492335",
     "exception": false,
     "start_time": "2024-03-24T10:07:44.468811",
     "status": "completed"
    },
    "tags": []
   },
   "outputs": [],
   "source": [
    "import sys\n",
    "sys.path.append('/kaggle/usr/lib')\n",
    "\n",
    "import numpy as np\n",
    "import pandas as pd\n",
    "import os\n",
    "import time\n",
    "import h5py\n",
    "from tqdm import tqdm\n",
    "\n",
    "import iisignature as isig\n",
    "\n",
    "import matplotlib.pyplot as plt\n",
    "\n"
   ]
  },
  {
   "cell_type": "code",
   "execution_count": 6,
   "id": "fa09f2ee",
   "metadata": {
    "execution": {
     "iopub.execute_input": "2024-03-24T10:07:44.520680Z",
     "iopub.status.busy": "2024-03-24T10:07:44.520303Z",
     "iopub.status.idle": "2024-03-24T10:07:44.524435Z",
     "shell.execute_reply": "2024-03-24T10:07:44.523362Z"
    },
    "papermill": {
     "duration": 0.021154,
     "end_time": "2024-03-24T10:07:44.526710",
     "exception": false,
     "start_time": "2024-03-24T10:07:44.505556",
     "status": "completed"
    },
    "tags": []
   },
   "outputs": [],
   "source": [
    "# filename = '/kaggle/input/hms-harmful-brain-activity-classification/train.csv'\n",
    "# process_as_h5(filename, num_examples = 1000)"
   ]
  },
  {
   "cell_type": "code",
   "execution_count": 7,
   "id": "b2aa34b9",
   "metadata": {
    "execution": {
     "iopub.execute_input": "2024-03-24T10:07:44.554714Z",
     "iopub.status.busy": "2024-03-24T10:07:44.554308Z",
     "iopub.status.idle": "2024-03-24T10:07:49.646954Z",
     "shell.execute_reply": "2024-03-24T10:07:49.643513Z"
    },
    "papermill": {
     "duration": 5.110705,
     "end_time": "2024-03-24T10:07:49.650517",
     "exception": false,
     "start_time": "2024-03-24T10:07:44.539812",
     "status": "completed"
    },
    "tags": []
   },
   "outputs": [
    {
     "name": "stdout",
     "output_type": "stream",
     "text": [
      "Keys: <KeysViewHDF5 ['eeg', 'num_votes', 'sp', 'targets']>\n"
     ]
    }
   ],
   "source": [
    "hdf5_file = '/kaggle/input/generate-h5-data/hdf5/processed_dataset_1000.h5'\n",
    "num_examples = 1000\n",
    "\n",
    "\n",
    "\n",
    "with h5py.File(hdf5_file, 'r') as file:\n",
    "    # List all groups\n",
    "    \n",
    "    print(\"Keys: %s\" % file.keys())\n",
    "    \n",
    "    file_keys = list(file.keys())\n",
    "\n",
    "    a_group_key = list(file.keys())[0]\n",
    "    \n",
    "    eeg_data = np.array(file[f\"eeg\"])\n",
    "    sp_data = np.array(file[f\"sp\"])\n",
    "    targets = np.array(file[f\"targets\"])\n",
    "    num_votes = np.array(file[f\"num_votes\"])\n",
    "    num_votes = num_votes.reshape((len(num_votes), -1))\n",
    "    "
   ]
  },
  {
   "cell_type": "markdown",
   "id": "7fd37cbb",
   "metadata": {
    "papermill": {
     "duration": 0.012982,
     "end_time": "2024-03-24T10:07:49.677932",
     "exception": false,
     "start_time": "2024-03-24T10:07:49.664950",
     "status": "completed"
    },
    "tags": []
   },
   "source": [
    "## We try just using the EEG data"
   ]
  },
  {
   "cell_type": "code",
   "execution_count": 8,
   "id": "2144648b",
   "metadata": {
    "execution": {
     "iopub.execute_input": "2024-03-24T10:07:49.706751Z",
     "iopub.status.busy": "2024-03-24T10:07:49.705712Z",
     "iopub.status.idle": "2024-03-24T10:07:49.711309Z",
     "shell.execute_reply": "2024-03-24T10:07:49.710182Z"
    },
    "papermill": {
     "duration": 0.022707,
     "end_time": "2024-03-24T10:07:49.713714",
     "exception": false,
     "start_time": "2024-03-24T10:07:49.691007",
     "status": "completed"
    },
    "tags": []
   },
   "outputs": [
    {
     "name": "stdout",
     "output_type": "stream",
     "text": [
      "(1000, 2000, 18)\n",
      "(1000, 6)\n",
      "(1000, 4, 300, 100)\n"
     ]
    }
   ],
   "source": [
    "print(eeg_data.shape)\n",
    "print(targets.shape)\n",
    "print(sp_data.shape)"
   ]
  },
  {
   "cell_type": "markdown",
   "id": "ecacc6e6",
   "metadata": {
    "papermill": {
     "duration": 0.013044,
     "end_time": "2024-03-24T10:07:49.739944",
     "exception": false,
     "start_time": "2024-03-24T10:07:49.726900",
     "status": "completed"
    },
    "tags": []
   },
   "source": [
    "## We try applying the signature across each signal"
   ]
  },
  {
   "cell_type": "markdown",
   "id": "bbed1da6",
   "metadata": {
    "papermill": {
     "duration": 0.013654,
     "end_time": "2024-03-24T10:07:49.768863",
     "exception": false,
     "start_time": "2024-03-24T10:07:49.755209",
     "status": "completed"
    },
    "tags": []
   },
   "source": [
    "### We apply the signature across the different streams (there are 4 of length 4, and then one 'other' of length 2)"
   ]
  },
  {
   "cell_type": "code",
   "execution_count": 9,
   "id": "b460c62c",
   "metadata": {
    "execution": {
     "iopub.execute_input": "2024-03-24T10:07:49.806517Z",
     "iopub.status.busy": "2024-03-24T10:07:49.805610Z",
     "iopub.status.idle": "2024-03-24T10:08:05.322851Z",
     "shell.execute_reply": "2024-03-24T10:08:05.321730Z"
    },
    "papermill": {
     "duration": 15.536186,
     "end_time": "2024-03-24T10:08:05.325501",
     "exception": false,
     "start_time": "2024-03-24T10:07:49.789315",
     "status": "completed"
    },
    "tags": []
   },
   "outputs": [],
   "source": [
    "eeg_streams = [eeg_data[:,:,:4],  eeg_data[:,:,4:8], eeg_data[:,:,8:12], eeg_data[:,:,12:16], eeg_data[:,:,16:]]\n",
    "eeg_stream_sig = [signature(stream, level=4) for stream in eeg_streams]\n"
   ]
  },
  {
   "cell_type": "code",
   "execution_count": 10,
   "id": "55683eb4",
   "metadata": {
    "execution": {
     "iopub.execute_input": "2024-03-24T10:08:05.355308Z",
     "iopub.status.busy": "2024-03-24T10:08:05.354378Z",
     "iopub.status.idle": "2024-03-24T10:08:05.360267Z",
     "shell.execute_reply": "2024-03-24T10:08:05.359061Z"
    },
    "papermill": {
     "duration": 0.023663,
     "end_time": "2024-03-24T10:08:05.362953",
     "exception": false,
     "start_time": "2024-03-24T10:08:05.339290",
     "status": "completed"
    },
    "tags": []
   },
   "outputs": [
    {
     "name": "stdout",
     "output_type": "stream",
     "text": [
      "(1000, 340)\n",
      "(1000, 340)\n",
      "(1000, 340)\n",
      "(1000, 340)\n",
      "(1000, 30)\n"
     ]
    }
   ],
   "source": [
    "for stream in eeg_stream_sig:\n",
    "    print(stream.shape)"
   ]
  },
  {
   "cell_type": "code",
   "execution_count": 11,
   "id": "8443baf6",
   "metadata": {
    "execution": {
     "iopub.execute_input": "2024-03-24T10:08:05.391527Z",
     "iopub.status.busy": "2024-03-24T10:08:05.391017Z",
     "iopub.status.idle": "2024-03-24T10:08:05.402423Z",
     "shell.execute_reply": "2024-03-24T10:08:05.401054Z"
    },
    "papermill": {
     "duration": 0.027916,
     "end_time": "2024-03-24T10:08:05.404652",
     "exception": false,
     "start_time": "2024-03-24T10:08:05.376736",
     "status": "completed"
    },
    "tags": []
   },
   "outputs": [
    {
     "name": "stdout",
     "output_type": "stream",
     "text": [
      "(1000, 1390)\n"
     ]
    }
   ],
   "source": [
    "eeg_sig = np.concatenate(eeg_stream_sig, axis=-1)\n",
    "\n",
    "print(eeg_sig.shape)"
   ]
  },
  {
   "cell_type": "markdown",
   "id": "e5f4671c",
   "metadata": {
    "papermill": {
     "duration": 0.012878,
     "end_time": "2024-03-24T10:08:05.430835",
     "exception": false,
     "start_time": "2024-03-24T10:08:05.417957",
     "status": "completed"
    },
    "tags": []
   },
   "source": [
    "Create historgram of values in eeg_sig to see in what range values in the signautre are in"
   ]
  },
  {
   "cell_type": "code",
   "execution_count": 12,
   "id": "2a087d10",
   "metadata": {
    "execution": {
     "iopub.execute_input": "2024-03-24T10:08:05.459159Z",
     "iopub.status.busy": "2024-03-24T10:08:05.458725Z",
     "iopub.status.idle": "2024-03-24T10:08:05.937116Z",
     "shell.execute_reply": "2024-03-24T10:08:05.936000Z"
    },
    "papermill": {
     "duration": 0.495396,
     "end_time": "2024-03-24T10:08:05.939471",
     "exception": false,
     "start_time": "2024-03-24T10:08:05.444075",
     "status": "completed"
    },
    "tags": []
   },
   "outputs": [
    {
     "data": {
      "image/png": "[encoded data removed]",
      "text/plain": [
       "<Figure size 640x480 with 1 Axes>"
      ]
     },
     "metadata": {},
     "output_type": "display_data"
    }
   ],
   "source": [
    "# Creating the histogram\n",
    "import matplotlib.pyplot as plt\n",
    "\n",
    "plt.hist(eeg_sig.reshape(-1), bins=100, alpha=0.7, color='green', edgecolor='black')\n",
    "\n",
    "plt.title('Histogram of Values in Array')\n",
    "plt.xlabel('Value')\n",
    "plt.ylabel('Frequency')\n",
    "\n",
    "# Display the histogram\n",
    "plt.show()"
   ]
  },
  {
   "cell_type": "code",
   "execution_count": 13,
   "id": "042e226a",
   "metadata": {
    "execution": {
     "iopub.execute_input": "2024-03-24T10:08:05.968371Z",
     "iopub.status.busy": "2024-03-24T10:08:05.967950Z",
     "iopub.status.idle": "2024-03-24T10:08:06.245341Z",
     "shell.execute_reply": "2024-03-24T10:08:06.244252Z"
    },
    "papermill": {
     "duration": 0.294766,
     "end_time": "2024-03-24T10:08:06.247927",
     "exception": false,
     "start_time": "2024-03-24T10:08:05.953161",
     "status": "completed"
    },
    "tags": []
   },
   "outputs": [
    {
     "data": {
      "image/png": "[encoded data removed]",
      "text/plain": [
       "<Figure size 640x480 with 1 Axes>"
      ]
     },
     "metadata": {},
     "output_type": "display_data"
    }
   ],
   "source": [
    "# Creating the histogram\n",
    "plt.hist(eeg_sig[0], bins=30, alpha=0.7, color='green', edgecolor='black')\n",
    "\n",
    "plt.title('Histogram of Values in Array')\n",
    "plt.xlabel('Value')\n",
    "plt.ylabel('Frequency')\n",
    "\n",
    "# Display the histogram\n",
    "plt.show()"
   ]
  },
  {
   "cell_type": "markdown",
   "id": "0aa34f99",
   "metadata": {
    "papermill": {
     "duration": 0.014031,
     "end_time": "2024-03-24T10:08:06.276240",
     "exception": false,
     "start_time": "2024-03-24T10:08:06.262209",
     "status": "completed"
    },
    "tags": []
   },
   "source": [
    "### We clip the output of the signature to be between -0.5 and 0.5"
   ]
  },
  {
   "cell_type": "code",
   "execution_count": 14,
   "id": "e81a5345",
   "metadata": {
    "execution": {
     "iopub.execute_input": "2024-03-24T10:08:06.306796Z",
     "iopub.status.busy": "2024-03-24T10:08:06.306164Z",
     "iopub.status.idle": "2024-03-24T10:08:06.316973Z",
     "shell.execute_reply": "2024-03-24T10:08:06.315948Z"
    },
    "papermill": {
     "duration": 0.029108,
     "end_time": "2024-03-24T10:08:06.319637",
     "exception": false,
     "start_time": "2024-03-24T10:08:06.290529",
     "status": "completed"
    },
    "tags": []
   },
   "outputs": [],
   "source": [
    "eeg_sig_clip = np.clip(eeg_sig, a_min=-0.5, a_max=0.5)"
   ]
  },
  {
   "cell_type": "markdown",
   "id": "ca920efa",
   "metadata": {
    "papermill": {
     "duration": 0.01376,
     "end_time": "2024-03-24T10:08:06.347576",
     "exception": false,
     "start_time": "2024-03-24T10:08:06.333816",
     "status": "completed"
    },
    "tags": []
   },
   "source": [
    "### Write the above preprocessing steps as a single function"
   ]
  },
  {
   "cell_type": "code",
   "execution_count": 15,
   "id": "f127ca65",
   "metadata": {
    "execution": {
     "iopub.execute_input": "2024-03-24T10:08:06.378287Z",
     "iopub.status.busy": "2024-03-24T10:08:06.377870Z",
     "iopub.status.idle": "2024-03-24T10:08:06.385393Z",
     "shell.execute_reply": "2024-03-24T10:08:06.384071Z"
    },
    "papermill": {
     "duration": 0.026188,
     "end_time": "2024-03-24T10:08:06.387891",
     "exception": false,
     "start_time": "2024-03-24T10:08:06.361703",
     "status": "completed"
    },
    "tags": []
   },
   "outputs": [],
   "source": [
    "def preprocess(pre_eeg):\n",
    "    pre_eeg_streams = [pre_eeg[:,:,:4],  pre_eeg[:,:,4:8], pre_eeg[:,:,8:12],\n",
    "                       pre_eeg[:,:,12:16], pre_eeg[:,:,16:]]\n",
    "    \n",
    "    pre_eeg_stream_sig = [signature(stream, level=4) for stream in pre_eeg_streams]\n",
    "    pre_eeg_sig = np.concatenate(pre_eeg_stream_sig, axis=-1)\n",
    "    pre_eeg_sig_clip = np.clip(pre_eeg_sig, a_min=-0.5, a_max=0.5)\n",
    "    return pre_eeg_sig_clip\n",
    "    \n",
    "    "
   ]
  },
  {
   "cell_type": "code",
   "execution_count": 16,
   "id": "9baed587",
   "metadata": {
    "execution": {
     "iopub.execute_input": "2024-03-24T10:08:06.418726Z",
     "iopub.status.busy": "2024-03-24T10:08:06.418350Z",
     "iopub.status.idle": "2024-03-24T10:08:10.027567Z",
     "shell.execute_reply": "2024-03-24T10:08:10.026619Z"
    },
    "papermill": {
     "duration": 3.627823,
     "end_time": "2024-03-24T10:08:10.030354",
     "exception": false,
     "start_time": "2024-03-24T10:08:06.402531",
     "status": "completed"
    },
    "tags": []
   },
   "outputs": [],
   "source": [
    "import numpy as np\n",
    "import torch\n",
    "from torch.utils.data import TensorDataset, DataLoader, random_split\n",
    "\n",
    "# Mock data\n",
    "features = eeg_sig_clip\n",
    "targets = targets\n",
    "\n",
    "# Convert to PyTorch tensors\n",
    "features_tensor = torch.tensor(features, dtype=torch.float32)\n",
    "targets_tensor = torch.tensor(targets, dtype=torch.float32)\n",
    "\n",
    "# Create a TensorDataset\n",
    "dataset = TensorDataset(features_tensor, targets_tensor)\n",
    "\n",
    "# Split dataset into train and test sets\n",
    "train_size = int(0.8 * len(dataset))\n",
    "test_size = len(dataset) - train_size\n",
    "train_dataset, test_dataset = random_split(dataset, [train_size, test_size])\n",
    "\n",
    "# Create DataLoaders\n",
    "train_loader = DataLoader(train_dataset, batch_size=64, shuffle=True)\n",
    "test_loader = DataLoader(test_dataset, batch_size=64, shuffle=False)\n",
    "\n",
    "\n",
    "\n",
    "import torch.nn as nn\n",
    "import torch.nn.functional as F\n",
    "\n",
    "class DeeperNN(nn.Module):\n",
    "    def __init__(self):\n",
    "        super(DeeperNN, self).__init__()\n",
    "        self.fc1 = nn.Linear(1390, 1024)  # Increase the number of neurons\n",
    "        self.bn1 = nn.BatchNorm1d(1024)   # Batch normalization\n",
    "        self.dropout1 = nn.Dropout(0.5)   # Dropout\n",
    "        \n",
    "        self.fc2 = nn.Linear(1024, 512)\n",
    "        self.bn2 = nn.BatchNorm1d(512)\n",
    "        self.dropout2 = nn.Dropout(0.5)\n",
    "        \n",
    "        self.fc3 = nn.Linear(512, 256)\n",
    "        self.bn3 = nn.BatchNorm1d(256)\n",
    "        self.dropout3 = nn.Dropout(0.5)\n",
    "        \n",
    "        self.fc4 = nn.Linear(256, 128)\n",
    "        self.bn4 = nn.BatchNorm1d(128)\n",
    "        self.dropout4 = nn.Dropout(0.5)\n",
    "        \n",
    "        self.fc5 = nn.Linear(128, 6)     # Final layer remains the same\n",
    "\n",
    "    def forward(self, x):\n",
    "        x = F.relu(self.bn1(self.fc1(x)))\n",
    "        x = self.dropout1(x)\n",
    "        \n",
    "        x = F.relu(self.bn2(self.fc2(x)))\n",
    "        x = self.dropout2(x)\n",
    "        \n",
    "        x = F.relu(self.bn3(self.fc3(x)))\n",
    "        x = self.dropout3(x)\n",
    "        \n",
    "        x = F.relu(self.bn4(self.fc4(x)))\n",
    "        x = self.dropout4(x)\n",
    "        \n",
    "        x = self.fc5(x)\n",
    "        return F.log_softmax(x, dim=1) # Ensure output sums to 1\n",
    "\n",
    "# Initialize the model\n",
    "model = DeeperNN()\n",
    "\n",
    "\n",
    "\n"
   ]
  },
  {
   "cell_type": "code",
   "execution_count": 17,
   "id": "d6854d35",
   "metadata": {
    "execution": {
     "iopub.execute_input": "2024-03-24T10:08:10.061400Z",
     "iopub.status.busy": "2024-03-24T10:08:10.060136Z",
     "iopub.status.idle": "2024-03-24T10:08:15.716035Z",
     "shell.execute_reply": "2024-03-24T10:08:15.714798Z"
    },
    "papermill": {
     "duration": 5.67379,
     "end_time": "2024-03-24T10:08:15.718350",
     "exception": false,
     "start_time": "2024-03-24T10:08:10.044560",
     "status": "completed"
    },
    "tags": []
   },
   "outputs": [
    {
     "name": "stdout",
     "output_type": "stream",
     "text": [
      "Epoch 1, Training Loss: 0.9090050229659448, Test Loss: 2.4788935482501984\n",
      "Epoch 2, Training Loss: 0.6802517496622525, Test Loss: 0.6528038829565048\n",
      "Epoch 3, Training Loss: 0.5613714983830085, Test Loss: 0.43798720091581345\n",
      "Epoch 4, Training Loss: 0.4769271451693315, Test Loss: 0.36821160838007927\n",
      "Epoch 5, Training Loss: 0.4232286077279311, Test Loss: 0.34861689805984497\n",
      "Epoch 6, Training Loss: 0.36656827193040115, Test Loss: 0.34013117104768753\n",
      "Epoch 7, Training Loss: 0.36016703568972075, Test Loss: 0.33311376348137856\n",
      "Epoch 8, Training Loss: 0.29922389411009276, Test Loss: 0.35052037239074707\n",
      "Epoch 9, Training Loss: 0.2909939231780859, Test Loss: 0.31441720947623253\n",
      "Epoch 10, Training Loss: 0.2608757374378351, Test Loss: 0.3295060954988003\n"
     ]
    }
   ],
   "source": [
    "import torch.optim as optim\n",
    "import matplotlib.pyplot as plt\n",
    "\n",
    "# Assume nn, model, train_loader, and test_loader are already defined\n",
    "\n",
    "# Loss function and optimizer\n",
    "criterion = nn.KLDivLoss(reduction='batchmean')\n",
    "optimizer = optim.Adam(model.parameters(), lr=0.01)\n",
    "\n",
    "losses = []  # List to store the average loss per epoch\n",
    "test_losses = []  # List to store the average test loss per epoch\n",
    "\n",
    "# Training loop\n",
    "num_epochs = 10\n",
    "for epoch in range(num_epochs):\n",
    "    model.train()  # Set the model to training mode\n",
    "    total_loss = 0\n",
    "    for inputs, labels in train_loader:\n",
    "        optimizer.zero_grad()\n",
    "        outputs = model(inputs)\n",
    "        loss = criterion(outputs, labels)\n",
    "        loss.backward()\n",
    "        optimizer.step()\n",
    "        total_loss += loss.item()\n",
    "\n",
    "    avg_loss = total_loss / len(train_loader)\n",
    "    losses.append(avg_loss)\n",
    "\n",
    "    # Evaluate on test set\n",
    "    model.eval()  # Set the model to evaluation mode\n",
    "    total_test_loss = 0\n",
    "    with torch.no_grad():  # Disable gradient calculation for evaluation\n",
    "        for inputs, labels in test_loader:\n",
    "            outputs = model(inputs)\n",
    "            test_loss = criterion(outputs, labels)\n",
    "            total_test_loss += test_loss.item()\n",
    "    \n",
    "    avg_test_loss = total_test_loss / len(test_loader)\n",
    "    test_losses.append(avg_test_loss)\n",
    "    \n",
    "    print(f\"Epoch {epoch+1}, Training Loss: {avg_loss}, Test Loss: {avg_test_loss}\")"
   ]
  },
  {
   "cell_type": "code",
   "execution_count": 18,
   "id": "90a1cccc",
   "metadata": {
    "execution": {
     "iopub.execute_input": "2024-03-24T10:08:15.751815Z",
     "iopub.status.busy": "2024-03-24T10:08:15.751242Z",
     "iopub.status.idle": "2024-03-24T10:08:15.989605Z",
     "shell.execute_reply": "2024-03-24T10:08:15.988421Z"
    },
    "papermill": {
     "duration": 0.257352,
     "end_time": "2024-03-24T10:08:15.992379",
     "exception": false,
     "start_time": "2024-03-24T10:08:15.735027",
     "status": "completed"
    },
    "tags": []
   },
   "outputs": [
    {
     "data": {
      "image/png": "[encoded data removed]",
      "text/plain": [
       "<Figure size 640x480 with 1 Axes>"
      ]
     },
     "metadata": {},
     "output_type": "display_data"
    }
   ],
   "source": [
    "\n",
    "\n",
    "# Plotting\n",
    "plt.plot(losses, label='Training Loss')\n",
    "plt.plot(test_losses, label='Test Loss')\n",
    "plt.title('Training vs Test Loss')\n",
    "plt.xlabel('Epoch')\n",
    "plt.ylabel('KL Divergence Loss')\n",
    "plt.legend()\n",
    "plt.show()\n"
   ]
  },
  {
   "cell_type": "markdown",
   "id": "674883dd",
   "metadata": {
    "papermill": {
     "duration": 0.01625,
     "end_time": "2024-03-24T10:08:16.024462",
     "exception": false,
     "start_time": "2024-03-24T10:08:16.008212",
     "status": "completed"
    },
    "tags": []
   },
   "source": [
    "## Try Submitting"
   ]
  },
  {
   "cell_type": "code",
   "execution_count": 19,
   "id": "348377b1",
   "metadata": {
    "execution": {
     "iopub.execute_input": "2024-03-24T10:08:16.057962Z",
     "iopub.status.busy": "2024-03-24T10:08:16.057304Z",
     "iopub.status.idle": "2024-03-24T10:08:16.080945Z",
     "shell.execute_reply": "2024-03-24T10:08:16.079669Z"
    },
    "papermill": {
     "duration": 0.042986,
     "end_time": "2024-03-24T10:08:16.083169",
     "exception": false,
     "start_time": "2024-03-24T10:08:16.040183",
     "status": "completed"
    },
    "tags": []
   },
   "outputs": [
    {
     "name": "stdout",
     "output_type": "stream",
     "text": [
      "Test shape: (1, 3)\n"
     ]
    },
    {
     "data": {
      "text/plain": [
       "spectrogram_id        853520\n",
       "eeg_id            3911565283\n",
       "patient_id              6885\n",
       "Name: 0, dtype: int64"
      ]
     },
     "execution_count": 19,
     "metadata": {},
     "output_type": "execute_result"
    }
   ],
   "source": [
    "test = pd.read_csv('/kaggle/input/hms-harmful-brain-activity-classification/test.csv')\n",
    "print('Test shape:',test.shape)\n",
    "\n",
    "\n",
    "EEG_SUB_PATH_TEMPL = '/kaggle/input/hms-harmful-brain-activity-classification/test_eegs/'\n",
    "SP_SUB_PATH_TEMPL = '/kaggle/input/hms-harmful-brain-activity-classification/test_spectrograms/'\n",
    "\n",
    "test.head()\n",
    "\n",
    "test.iloc[0]"
   ]
  },
  {
   "cell_type": "code",
   "execution_count": 20,
   "id": "585fa96b",
   "metadata": {
    "execution": {
     "iopub.execute_input": "2024-03-24T10:08:16.117605Z",
     "iopub.status.busy": "2024-03-24T10:08:16.116672Z",
     "iopub.status.idle": "2024-03-24T10:08:16.122809Z",
     "shell.execute_reply": "2024-03-24T10:08:16.121772Z"
    },
    "papermill": {
     "duration": 0.025781,
     "end_time": "2024-03-24T10:08:16.125155",
     "exception": false,
     "start_time": "2024-03-24T10:08:16.099374",
     "status": "completed"
    },
    "tags": []
   },
   "outputs": [],
   "source": [
    "# # Read all spectrograms\n",
    "# PATH = '/kaggle/input/hms-harmful-brain-activity-classification/test_spectrograms'\n",
    "# files = os.listdir(PATH)\n",
    "# print(f'There are {len(files)} test spectrogram parquets')\n",
    "# test_specs = {}\n",
    "# for i,f in enumerate(files):\n",
    "#     tmp = pd.read_parquet(f'{PATH}/{f}')\n",
    "#     name = int(f.split('.')[0])\n",
    "#     print(tmp)\n",
    "#     test_specs[name] = tmp.iloc[:,1:].values"
   ]
  },
  {
   "cell_type": "code",
   "execution_count": null,
   "id": "80c4461c",
   "metadata": {
    "execution": {
     "iopub.execute_input": "2024-03-20T16:58:45.850888Z",
     "iopub.status.busy": "2024-03-20T16:58:45.85053Z",
     "iopub.status.idle": "2024-03-20T16:58:45.857275Z",
     "shell.execute_reply": "2024-03-20T16:58:45.855793Z",
     "shell.execute_reply.started": "2024-03-20T16:58:45.850857Z"
    },
    "papermill": {
     "duration": 0.015579,
     "end_time": "2024-03-24T10:08:16.157224",
     "exception": false,
     "start_time": "2024-03-24T10:08:16.141645",
     "status": "completed"
    },
    "tags": []
   },
   "outputs": [],
   "source": []
  },
  {
   "cell_type": "code",
   "execution_count": 21,
   "id": "aedfcbd7",
   "metadata": {
    "execution": {
     "iopub.execute_input": "2024-03-24T10:08:16.191032Z",
     "iopub.status.busy": "2024-03-24T10:08:16.190631Z",
     "iopub.status.idle": "2024-03-24T10:08:16.205850Z",
     "shell.execute_reply": "2024-03-24T10:08:16.204747Z"
    },
    "papermill": {
     "duration": 0.03504,
     "end_time": "2024-03-24T10:08:16.208250",
     "exception": false,
     "start_time": "2024-03-24T10:08:16.173210",
     "status": "completed"
    },
    "tags": []
   },
   "outputs": [],
   "source": [
    "def get_sub_eeg_sp_data(train_row):\n",
    "    \"\"\"Gets EEG and Spectogram data from a specific row in the dataset\"\"\"\n",
    "    \n",
    "    eeg_id = train_row.eeg_id\n",
    "    sp_id = train_row.spectrogram_id\n",
    "    \n",
    "    eeg_parquet = pd.read_parquet(f'{EEG_SUB_PATH_TEMPL}{eeg_id}.parquet')\n",
    "    sp = pd.read_parquet(f'{SP_SUB_PATH_TEMPL}{sp_id}.parquet')\n",
    "    \n",
    "    rows = len(eeg_parquet)\n",
    "    eeg_offset = (rows-10_000)//2\n",
    "    \n",
    "    \n",
    "    # get middle 50 seconds of eeg data\n",
    "    #eeg_offset = int(train_row.eeg_label_offset_seconds + 20) #only 10 central seconds from 50 secs were labeled, which should be seconds 20-30 in the sample\n",
    "    eeg_data = eeg_parquet.iloc[eeg_offset:eeg_offset + 10_000]\n",
    "    \n",
    "    \n",
    "    # sp_offset = int(train_row.spectrogram_label_offset_seconds )\n",
    "    \n",
    "    # get spectrogram data\n",
    "    # sp = sp_parquet.loc[(sp_parquet.time>=sp_offset)&(sp_parquet.time<sp_offset+SP_WIN)]\n",
    "    sp = sp.loc[:, sp.columns != 'time']\n",
    "    sp = {\n",
    "        \"LL\": sp.filter(regex='^LL', axis=1),\n",
    "        \"RL\": sp.filter(regex='^RL', axis=1),\n",
    "        \"RP\": sp.filter(regex='^RP', axis=1),\n",
    "        \"LP\": sp.filter(regex='^LP', axis=1)}\n",
    "    \n",
    "    # calculate eeg data\n",
    "    # print(eeg_data.keys()) # Has keys Index(['Fp1', 'F3', 'C3', 'P3', 'F7', 'T3', 'T5', 'O1', 'Fz', 'Cz', 'Pz',\n",
    "                            # 'Fp2', 'F4', 'C4', 'P4', 'F8', 'T4', 'T6', 'O2', 'EKG']\n",
    "    # assert 0 == 1\n",
    "    \n",
    "    CHAINS = {\n",
    "    'LL' : [(\"Fp1\",\"F7\"),(\"F7\",\"T3\"),(\"T3\",\"T5\"),(\"T5\",\"O1\")],\n",
    "    'RL' : [(\"Fp2\",\"F8\"),(\"F8\",\"T4\"),(\"T4\",\"T6\"),(\"T6\",\"O2\")],\n",
    "    'LP' : [(\"Fp1\",\"F3\"),(\"F3\",\"C3\"),(\"C3\",\"P3\"),(\"P3\",\"O1\")],\n",
    "    'RP' : [(\"Fp2\",\"F4\"),(\"F4\",\"C4\"),(\"C4\",\"P4\"),(\"P4\",\"O2\")],\n",
    "    'other' : [(\"Fz\",\"Cz\"), (\"Cz\", \"Pz\"), (\"EKG\")]\n",
    "}\n",
    "    \n",
    "    eeg = pd.DataFrame({})\n",
    "    for chain in CHAINS.keys():\n",
    "        for s_i, signals in enumerate(CHAINS[chain]):\n",
    "            if len(signals) == 2:\n",
    "                diff=eeg_data[signals[0]]-eeg_data[signals[1]] # Subtracts relevant fields as in the image above\n",
    "                diff.ffill(inplace = True) # forward fills in the casse of nan values\n",
    "                eeg[f\"{chain}: {signals[0]} - {signals[1]}\"] = diff\n",
    "            \n",
    "            elif len(signals) == 1:\n",
    "                sig=eeg_data[signals[0]]\n",
    "                sig.ffill(inplace = True) \n",
    "                eeg[f\"{chain}: {signals[0]}\"] = sig\n",
    "                \n",
    "                \n",
    "    \n",
    "    return eeg, sp"
   ]
  },
  {
   "cell_type": "code",
   "execution_count": 22,
   "id": "a6d9bf6c",
   "metadata": {
    "execution": {
     "iopub.execute_input": "2024-03-24T10:08:16.241739Z",
     "iopub.status.busy": "2024-03-24T10:08:16.241330Z",
     "iopub.status.idle": "2024-03-24T10:08:16.490854Z",
     "shell.execute_reply": "2024-03-24T10:08:16.489785Z"
    },
    "papermill": {
     "duration": 0.269018,
     "end_time": "2024-03-24T10:08:16.493294",
     "exception": false,
     "start_time": "2024-03-24T10:08:16.224276",
     "status": "completed"
    },
    "tags": []
   },
   "outputs": [
    {
     "name": "stderr",
     "output_type": "stream",
     "text": [
      "100%|██████████| 1/1 [00:00<00:00,  4.26it/s]\n"
     ]
    },
    {
     "data": {
      "text/plain": [
       "array([[[ 26.11      ,   6.09      ,   2.83      , ..., -12.41      ,\n",
       "          31.380001  ,  24.289999  ],\n",
       "        [ 65.39001   , -47.380005  ,  -6.5200005 , ..., -12.78      ,\n",
       "          35.34      ,  23.3       ],\n",
       "        [  8.649998  ,  -3.289999  ,   0.52000046, ..., -25.64      ,\n",
       "          26.83      ,  21.        ],\n",
       "        ...,\n",
       "        [-43.39      ,  18.630001  ,  28.78      , ..., -52.12      ,\n",
       "         -16.39      ,  21.629997  ],\n",
       "        [-44.690002  ,  23.130001  ,  25.96      , ..., -50.050003  ,\n",
       "         -14.73      ,  20.920002  ],\n",
       "        [-37.53      ,  27.5       ,  22.44      , ..., -40.63      ,\n",
       "          -3.75      ,  23.39      ]]], dtype=float32)"
      ]
     },
     "execution_count": 22,
     "metadata": {},
     "output_type": "execute_result"
    }
   ],
   "source": [
    "eeg_arr = []\n",
    "for i in tqdm(range(len(test))):\n",
    "        exp_row = test.iloc[i]\n",
    "        eeg_data, sp_dict = get_sub_eeg_sp_data(exp_row)\n",
    "        eeg_arr.append(eeg_data.to_numpy())\n",
    "\n",
    "# eeg_sub, sp_sub = get_sub_eeg_sp_data(test.iloc[0])\n",
    "\n",
    "eeg_arr = np.array(eeg_arr)\n",
    "\n",
    "eeg_arr"
   ]
  },
  {
   "cell_type": "code",
   "execution_count": 23,
   "id": "a0a781f4",
   "metadata": {
    "execution": {
     "iopub.execute_input": "2024-03-24T10:08:16.528704Z",
     "iopub.status.busy": "2024-03-24T10:08:16.528282Z",
     "iopub.status.idle": "2024-03-24T10:08:16.534180Z",
     "shell.execute_reply": "2024-03-24T10:08:16.533146Z"
    },
    "papermill": {
     "duration": 0.026454,
     "end_time": "2024-03-24T10:08:16.536485",
     "exception": false,
     "start_time": "2024-03-24T10:08:16.510031",
     "status": "completed"
    },
    "tags": []
   },
   "outputs": [],
   "source": [
    "sub = pd.DataFrame({'eeg_id':test.eeg_id.values})"
   ]
  },
  {
   "cell_type": "code",
   "execution_count": 24,
   "id": "2bbc9982",
   "metadata": {
    "execution": {
     "iopub.execute_input": "2024-03-24T10:08:16.571726Z",
     "iopub.status.busy": "2024-03-24T10:08:16.571302Z",
     "iopub.status.idle": "2024-03-24T10:08:16.577921Z",
     "shell.execute_reply": "2024-03-24T10:08:16.576924Z"
    },
    "papermill": {
     "duration": 0.026615,
     "end_time": "2024-03-24T10:08:16.580094",
     "exception": false,
     "start_time": "2024-03-24T10:08:16.553479",
     "status": "completed"
    },
    "tags": []
   },
   "outputs": [
    {
     "data": {
      "text/plain": [
       "(1, 10000, 18)"
      ]
     },
     "execution_count": 24,
     "metadata": {},
     "output_type": "execute_result"
    }
   ],
   "source": [
    "eeg_arr.shape"
   ]
  },
  {
   "cell_type": "code",
   "execution_count": 25,
   "id": "f70fc6e2",
   "metadata": {
    "execution": {
     "iopub.execute_input": "2024-03-24T10:08:16.615186Z",
     "iopub.status.busy": "2024-03-24T10:08:16.614745Z",
     "iopub.status.idle": "2024-03-24T10:08:16.619214Z",
     "shell.execute_reply": "2024-03-24T10:08:16.618160Z"
    },
    "papermill": {
     "duration": 0.02465,
     "end_time": "2024-03-24T10:08:16.621413",
     "exception": false,
     "start_time": "2024-03-24T10:08:16.596763",
     "status": "completed"
    },
    "tags": []
   },
   "outputs": [],
   "source": [
    "# eeg_sub = np.expand_dims(eeg_sub, axis=0)\n",
    "\n",
    "# print(eeg_sub.shape)"
   ]
  },
  {
   "cell_type": "code",
   "execution_count": 26,
   "id": "22498c1c",
   "metadata": {
    "execution": {
     "iopub.execute_input": "2024-03-24T10:08:16.656570Z",
     "iopub.status.busy": "2024-03-24T10:08:16.656147Z",
     "iopub.status.idle": "2024-03-24T10:08:16.738700Z",
     "shell.execute_reply": "2024-03-24T10:08:16.737535Z"
    },
    "papermill": {
     "duration": 0.103176,
     "end_time": "2024-03-24T10:08:16.741392",
     "exception": false,
     "start_time": "2024-03-24T10:08:16.638216",
     "status": "completed"
    },
    "tags": []
   },
   "outputs": [],
   "source": [
    "prep_eeg_sub = preprocess(eeg_arr)"
   ]
  },
  {
   "cell_type": "code",
   "execution_count": 27,
   "id": "5a19b28a",
   "metadata": {
    "execution": {
     "iopub.execute_input": "2024-03-24T10:08:16.777271Z",
     "iopub.status.busy": "2024-03-24T10:08:16.776839Z",
     "iopub.status.idle": "2024-03-24T10:08:16.782145Z",
     "shell.execute_reply": "2024-03-24T10:08:16.781009Z"
    },
    "papermill": {
     "duration": 0.026066,
     "end_time": "2024-03-24T10:08:16.784499",
     "exception": false,
     "start_time": "2024-03-24T10:08:16.758433",
     "status": "completed"
    },
    "tags": []
   },
   "outputs": [
    {
     "name": "stdout",
     "output_type": "stream",
     "text": [
      "(1, 1390)\n"
     ]
    }
   ],
   "source": [
    "print(prep_eeg_sub.shape)"
   ]
  },
  {
   "cell_type": "code",
   "execution_count": 28,
   "id": "b89c45a7",
   "metadata": {
    "execution": {
     "iopub.execute_input": "2024-03-24T10:08:16.820105Z",
     "iopub.status.busy": "2024-03-24T10:08:16.819708Z",
     "iopub.status.idle": "2024-03-24T10:08:16.834301Z",
     "shell.execute_reply": "2024-03-24T10:08:16.832827Z"
    },
    "papermill": {
     "duration": 0.03507,
     "end_time": "2024-03-24T10:08:16.836513",
     "exception": false,
     "start_time": "2024-03-24T10:08:16.801443",
     "status": "completed"
    },
    "tags": []
   },
   "outputs": [
    {
     "name": "stdout",
     "output_type": "stream",
     "text": [
      "This is the sub pred sum: 1.0\n",
      "[[2.3951111e-02 1.7083004e-03 9.8283449e-03 9.1402378e-04 9.4553316e-01\n",
      "  1.8065115e-02]]\n"
     ]
    }
   ],
   "source": [
    "model.eval()\n",
    "\n",
    "sub_pred = model(torch.from_numpy(prep_eeg_sub).float()) # this gives the log of the probs\n",
    "\n",
    "sub_pred = np.exp(sub_pred.detach().numpy())\n",
    "\n",
    "print(\"This is the sub pred sum:\",sub_pred.sum())\n",
    "print(sub_pred)"
   ]
  },
  {
   "cell_type": "code",
   "execution_count": 29,
   "id": "e07bf04b",
   "metadata": {
    "execution": {
     "iopub.execute_input": "2024-03-24T10:08:16.872345Z",
     "iopub.status.busy": "2024-03-24T10:08:16.871962Z",
     "iopub.status.idle": "2024-03-24T10:08:16.897416Z",
     "shell.execute_reply": "2024-03-24T10:08:16.896451Z"
    },
    "papermill": {
     "duration": 0.046138,
     "end_time": "2024-03-24T10:08:16.899696",
     "exception": false,
     "start_time": "2024-03-24T10:08:16.853558",
     "status": "completed"
    },
    "tags": []
   },
   "outputs": [
    {
     "name": "stdout",
     "output_type": "stream",
     "text": [
      "Submission shape (1, 7)\n"
     ]
    },
    {
     "data": {
      "text/html": [
       "<div>\n",
       "<style scoped>\n",
       "    .dataframe tbody tr th:only-of-type {\n",
       "        vertical-align: middle;\n",
       "    }\n",
       "\n",
       "    .dataframe tbody tr th {\n",
       "        vertical-align: top;\n",
       "    }\n",
       "\n",
       "    .dataframe thead th {\n",
       "        text-align: right;\n",
       "    }\n",
       "</style>\n",
       "<table border=\"1\" class=\"dataframe\">\n",
       "  <thead>\n",
       "    <tr style=\"text-align: right;\">\n",
       "      <th></th>\n",
       "      <th>eeg_id</th>\n",
       "      <th>seizure_vote</th>\n",
       "      <th>lpd_vote</th>\n",
       "      <th>gpd_vote</th>\n",
       "      <th>lrda_vote</th>\n",
       "      <th>grda_vote</th>\n",
       "      <th>other_vote</th>\n",
       "    </tr>\n",
       "  </thead>\n",
       "  <tbody>\n",
       "    <tr>\n",
       "      <th>0</th>\n",
       "      <td>3911565283</td>\n",
       "      <td>0.023951</td>\n",
       "      <td>0.001708</td>\n",
       "      <td>0.009828</td>\n",
       "      <td>0.000914</td>\n",
       "      <td>0.945533</td>\n",
       "      <td>0.018065</td>\n",
       "    </tr>\n",
       "  </tbody>\n",
       "</table>\n",
       "</div>"
      ],
      "text/plain": [
       "       eeg_id  seizure_vote  lpd_vote  gpd_vote  lrda_vote  grda_vote  \\\n",
       "0  3911565283      0.023951  0.001708  0.009828   0.000914   0.945533   \n",
       "\n",
       "   other_vote  \n",
       "0    0.018065  "
      ]
     },
     "metadata": {},
     "output_type": "display_data"
    },
    {
     "name": "stdout",
     "output_type": "stream",
     "text": [
      "Sub row 0 sums to: 1.0000000523286872\n"
     ]
    }
   ],
   "source": [
    "# CREATE SUBMISSION.CSV\n",
    "from IPython.display import display\n",
    "\n",
    "TARGETS = ['seizure_vote', 'lpd_vote', 'gpd_vote', 'lrda_vote', 'grda_vote', 'other_vote']\n",
    "sub[TARGETS] = sub_pred\n",
    "sub.to_csv('submission.csv',index=False)\n",
    "print('Submission shape',sub.shape)\n",
    "display( sub.head() )\n",
    "\n",
    "# SANITY CHECK TO CONFIRM PREDICTIONS SUM TO ONE\n",
    "print('Sub row 0 sums to:',sub.iloc[0,-6:].sum())"
   ]
  },
  {
   "cell_type": "code",
   "execution_count": null,
   "id": "d15234f1",
   "metadata": {
    "papermill": {
     "duration": 0.0796,
     "end_time": "2024-03-24T10:08:16.996328",
     "exception": false,
     "start_time": "2024-03-24T10:08:16.916728",
     "status": "completed"
    },
    "tags": []
   },
   "outputs": [],
   "source": []
  }
 ],
 "metadata": {
  "kaggle": {
   "accelerator": "none",
   "dataSources": [
    {
     "databundleVersionId": 7469972,
     "sourceId": 59093,
     "sourceType": "competition"
    },
    {
     "datasetId": 4657249,
     "sourceId": 7924525,
     "sourceType": "datasetVersion"
    },
    {
     "sourceId": 168465212,
     "sourceType": "kernelVersion"
    },
    {
     "sourceId": 168466214,
     "sourceType": "kernelVersion"
    }
   ],
   "dockerImageVersionId": 30646,
   "isGpuEnabled": false,
   "isInternetEnabled": false,
   "language": "python",
   "sourceType": "notebook"
  },
  "kernelspec": {
   "display_name": "Python 3",
   "language": "python",
   "name": "python3"
  },
  "language_info": {
   "codemirror_mode": {
    "name": "ipython",
    "version": 3
   },
   "file_extension": ".py",
   "mimetype": "text/x-python",
   "name": "python",
   "nbconvert_exporter": "python",
   "pygments_lexer": "ipython3",
   "version": "3.10.13"
  },
  "papermill": {
   "default_parameters": {},
   "duration": 98.148754,
   "end_time": "2024-03-24T10:08:19.288118",
   "environment_variables": {},
   "exception": null,
   "input_path": "__notebook__.ipynb",
   "output_path": "__notebook__.ipynb",
   "parameters": {},
   "start_time": "2024-03-24T10:06:41.139364",
   "version": "2.5.0"
  }
 },
 "nbformat": 4,
 "nbformat_minor": 5
}
