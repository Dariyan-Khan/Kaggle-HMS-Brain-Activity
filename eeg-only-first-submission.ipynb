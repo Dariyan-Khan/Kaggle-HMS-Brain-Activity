{
 "cells": [
  {
   "cell_type": "code",
   "execution_count": 1,
   "id": "152f7adb",
   "metadata": {
    "execution": {
     "iopub.execute_input": "2024-03-24T10:28:51.675945Z",
     "iopub.status.busy": "2024-03-24T10:28:51.675548Z",
     "iopub.status.idle": "2024-03-24T10:28:52.778699Z",
     "shell.execute_reply": "2024-03-24T10:28:52.777309Z"
    },
    "papermill": {
     "duration": 1.121257,
     "end_time": "2024-03-24T10:28:52.781480",
     "exception": false,
     "start_time": "2024-03-24T10:28:51.660223",
     "status": "completed"
    },
    "tags": []
   },
   "outputs": [
    {
     "name": "stdout",
     "output_type": "stream",
     "text": [
      "/kaggle/working\r\n"
     ]
    }
   ],
   "source": [
    "!pwd"
   ]
  },
  {
   "cell_type": "code",
   "execution_count": 2,
   "id": "d170b787",
   "metadata": {
    "execution": {
     "iopub.execute_input": "2024-03-24T10:28:52.808501Z",
     "iopub.status.busy": "2024-03-24T10:28:52.807139Z",
     "iopub.status.idle": "2024-03-24T10:28:52.817862Z",
     "shell.execute_reply": "2024-03-24T10:28:52.816621Z"
    },
    "papermill": {
     "duration": 0.0267,
     "end_time": "2024-03-24T10:28:52.820411",
     "exception": false,
     "start_time": "2024-03-24T10:28:52.793711",
     "status": "completed"
    },
    "tags": []
   },
   "outputs": [],
   "source": [
    "import os\n",
    "import zipfile\n",
    "\n",
    "def zip_folder(folder_path, output_zip):\n",
    "    \"\"\"\n",
    "    Zip the contents of an entire folder (with that folder included\n",
    "    in the archive). Empty directories are included in the archive as well.\n",
    "    \"\"\"\n",
    "    with zipfile.ZipFile(output_zip, 'w', zipfile.ZIP_DEFLATED) as zipf:\n",
    "        lenDirPath = len(folder_path)\n",
    "        for root, _, files in os.walk(folder_path):\n",
    "            # Include all subdirectories, including empty ones.\n",
    "            for dirName in os.listdir(root):\n",
    "                dirPath = os.path.join(root, dirName)\n",
    "                if os.path.isdir(dirPath):\n",
    "                    zipf.write(dirPath, os.path.relpath(dirPath, folder_path))\n",
    "            # Add files\n",
    "            for file in files:\n",
    "                filePath = os.path.join(root, file)\n",
    "                zipf.write(filePath, os.path.relpath(filePath, folder_path))"
   ]
  },
  {
   "cell_type": "code",
   "execution_count": 3,
   "id": "967040dd",
   "metadata": {
    "execution": {
     "iopub.execute_input": "2024-03-24T10:28:52.846231Z",
     "iopub.status.busy": "2024-03-24T10:28:52.845851Z",
     "iopub.status.idle": "2024-03-24T10:29:51.461981Z",
     "shell.execute_reply": "2024-03-24T10:29:51.460454Z"
    },
    "papermill": {
     "duration": 58.632485,
     "end_time": "2024-03-24T10:29:51.464972",
     "exception": false,
     "start_time": "2024-03-24T10:28:52.832487",
     "status": "completed"
    },
    "tags": []
   },
   "outputs": [
    {
     "name": "stdout",
     "output_type": "stream",
     "text": [
      "Processing ./isig.zip\r\n",
      "  Preparing metadata (setup.py) ... \u001b[?25l-\b \b\\\b \bdone\r\n",
      "\u001b[?25hRequirement already satisfied: numpy>1.7 in /opt/conda/lib/python3.10/site-packages (from iisignature==0.24) (1.24.4)\r\n",
      "Building wheels for collected packages: iisignature\r\n",
      "  Building wheel for iisignature (setup.py) ... \u001b[?25l-\b \b\\\b \b|\b \bdone\r\n",
      "\u001b[?25h  Created wheel for iisignature: filename=iisignature-0.24-cp310-cp310-linux_x86_64.whl size=1401821 sha256=fa707365d58b171e8f0982688bcbbfd49d913868e9f6e346b6fdfe36023f91dc\r\n",
      "  Stored in directory: /tmp/pip-ephem-wheel-cache-e5pgom3u/wheels/1e/cc/c1/df8da0c28148d0b5dd2ba81acb40a50cda02da4b95bba89080\r\n",
      "Successfully built iisignature\r\n",
      "Installing collected packages: iisignature\r\n",
      "Successfully installed iisignature-0.24\r\n"
     ]
    }
   ],
   "source": [
    "zip_folder(\"/kaggle/input/isig-wheels/iisignature-0.24\", \"./isig.zip\")\n",
    "\n",
    "!pip install \"./isig.zip\""
   ]
  },
  {
   "cell_type": "code",
   "execution_count": 4,
   "id": "574ee365",
   "metadata": {
    "execution": {
     "iopub.execute_input": "2024-03-24T10:29:51.494546Z",
     "iopub.status.busy": "2024-03-24T10:29:51.494113Z",
     "iopub.status.idle": "2024-03-24T10:29:53.091435Z",
     "shell.execute_reply": "2024-03-24T10:29:53.089297Z"
    },
    "papermill": {
     "duration": 1.616285,
     "end_time": "2024-03-24T10:29:53.094567",
     "exception": false,
     "start_time": "2024-03-24T10:29:51.478282",
     "status": "completed"
    },
    "tags": []
   },
   "outputs": [
    {
     "name": "stdout",
     "output_type": "stream",
     "text": [
      "iisignature is already installed.\n"
     ]
    }
   ],
   "source": [
    "from basic_preprocessing_utility_script import process_as_h5, signature, get_eeg_sp_data, zip_folder"
   ]
  },
  {
   "cell_type": "code",
   "execution_count": 5,
   "id": "64161d13",
   "metadata": {
    "_cell_guid": "b1076dfc-b9ad-4769-8c92-a6c4dae69d19",
    "_uuid": "8f2839f25d086af736a60e9eeb907d3b93b6e0e5",
    "execution": {
     "iopub.execute_input": "2024-03-24T10:29:53.123879Z",
     "iopub.status.busy": "2024-03-24T10:29:53.123276Z",
     "iopub.status.idle": "2024-03-24T10:29:53.129812Z",
     "shell.execute_reply": "2024-03-24T10:29:53.128629Z"
    },
    "papermill": {
     "duration": 0.023156,
     "end_time": "2024-03-24T10:29:53.132067",
     "exception": false,
     "start_time": "2024-03-24T10:29:53.108911",
     "status": "completed"
    },
    "tags": []
   },
   "outputs": [],
   "source": [
    "import sys\n",
    "sys.path.append('/kaggle/usr/lib')\n",
    "\n",
    "import numpy as np\n",
    "import pandas as pd\n",
    "import os\n",
    "import time\n",
    "import h5py\n",
    "from tqdm import tqdm\n",
    "\n",
    "import iisignature as isig\n",
    "\n",
    "import matplotlib.pyplot as plt\n",
    "\n"
   ]
  },
  {
   "cell_type": "code",
   "execution_count": 6,
   "id": "2ac02899",
   "metadata": {
    "execution": {
     "iopub.execute_input": "2024-03-24T10:29:53.160583Z",
     "iopub.status.busy": "2024-03-24T10:29:53.159787Z",
     "iopub.status.idle": "2024-03-24T10:29:53.164046Z",
     "shell.execute_reply": "2024-03-24T10:29:53.163040Z"
    },
    "papermill": {
     "duration": 0.021057,
     "end_time": "2024-03-24T10:29:53.166338",
     "exception": false,
     "start_time": "2024-03-24T10:29:53.145281",
     "status": "completed"
    },
    "tags": []
   },
   "outputs": [],
   "source": [
    "# filename = '/kaggle/input/hms-harmful-brain-activity-classification/train.csv'\n",
    "# process_as_h5(filename, num_examples = 1000)"
   ]
  },
  {
   "cell_type": "code",
   "execution_count": 7,
   "id": "c899a91b",
   "metadata": {
    "execution": {
     "iopub.execute_input": "2024-03-24T10:29:53.195269Z",
     "iopub.status.busy": "2024-03-24T10:29:53.194521Z",
     "iopub.status.idle": "2024-03-24T10:29:58.886612Z",
     "shell.execute_reply": "2024-03-24T10:29:58.885383Z"
    },
    "papermill": {
     "duration": 5.709939,
     "end_time": "2024-03-24T10:29:58.889440",
     "exception": false,
     "start_time": "2024-03-24T10:29:53.179501",
     "status": "completed"
    },
    "tags": []
   },
   "outputs": [
    {
     "name": "stdout",
     "output_type": "stream",
     "text": [
      "Keys: <KeysViewHDF5 ['eeg', 'num_votes', 'sp', 'targets']>\n"
     ]
    }
   ],
   "source": [
    "hdf5_file = '/kaggle/input/generate-h5-data/hdf5/processed_dataset_1000.h5'\n",
    "num_examples = 1000\n",
    "\n",
    "\n",
    "\n",
    "with h5py.File(hdf5_file, 'r') as file:\n",
    "    # List all groups\n",
    "    \n",
    "    print(\"Keys: %s\" % file.keys())\n",
    "    \n",
    "    file_keys = list(file.keys())\n",
    "\n",
    "    a_group_key = list(file.keys())[0]\n",
    "    \n",
    "    eeg_data = np.array(file[f\"eeg\"])\n",
    "    sp_data = np.array(file[f\"sp\"])\n",
    "    targets = np.array(file[f\"targets\"])\n",
    "    num_votes = np.array(file[f\"num_votes\"])\n",
    "    num_votes = num_votes.reshape((len(num_votes), -1))\n",
    "    "
   ]
  },
  {
   "cell_type": "markdown",
   "id": "8cc0033c",
   "metadata": {
    "papermill": {
     "duration": 0.012736,
     "end_time": "2024-03-24T10:29:58.916310",
     "exception": false,
     "start_time": "2024-03-24T10:29:58.903574",
     "status": "completed"
    },
    "tags": []
   },
   "source": [
    "## We try just using the EEG data"
   ]
  },
  {
   "cell_type": "code",
   "execution_count": 8,
   "id": "62af2685",
   "metadata": {
    "execution": {
     "iopub.execute_input": "2024-03-24T10:29:58.944097Z",
     "iopub.status.busy": "2024-03-24T10:29:58.943697Z",
     "iopub.status.idle": "2024-03-24T10:29:58.949973Z",
     "shell.execute_reply": "2024-03-24T10:29:58.948856Z"
    },
    "papermill": {
     "duration": 0.023211,
     "end_time": "2024-03-24T10:29:58.952413",
     "exception": false,
     "start_time": "2024-03-24T10:29:58.929202",
     "status": "completed"
    },
    "tags": []
   },
   "outputs": [
    {
     "name": "stdout",
     "output_type": "stream",
     "text": [
      "(1000, 2000, 18)\n",
      "(1000, 6)\n",
      "(1000, 4, 300, 100)\n"
     ]
    }
   ],
   "source": [
    "print(eeg_data.shape)\n",
    "print(targets.shape)\n",
    "print(sp_data.shape)"
   ]
  },
  {
   "cell_type": "markdown",
   "id": "1dd141b2",
   "metadata": {
    "papermill": {
     "duration": 0.012888,
     "end_time": "2024-03-24T10:29:58.979480",
     "exception": false,
     "start_time": "2024-03-24T10:29:58.966592",
     "status": "completed"
    },
    "tags": []
   },
   "source": [
    "## We try applying the signature across each signal"
   ]
  },
  {
   "cell_type": "markdown",
   "id": "7c440931",
   "metadata": {
    "papermill": {
     "duration": 0.012864,
     "end_time": "2024-03-24T10:29:59.005404",
     "exception": false,
     "start_time": "2024-03-24T10:29:58.992540",
     "status": "completed"
    },
    "tags": []
   },
   "source": [
    "### We apply the signature across the different streams (there are 4 of length 4, and then one 'other' of length 2)"
   ]
  },
  {
   "cell_type": "code",
   "execution_count": 9,
   "id": "7afffd05",
   "metadata": {
    "execution": {
     "iopub.execute_input": "2024-03-24T10:29:59.033779Z",
     "iopub.status.busy": "2024-03-24T10:29:59.033359Z",
     "iopub.status.idle": "2024-03-24T10:30:14.922365Z",
     "shell.execute_reply": "2024-03-24T10:30:14.921315Z"
    },
    "papermill": {
     "duration": 15.906315,
     "end_time": "2024-03-24T10:30:14.925191",
     "exception": false,
     "start_time": "2024-03-24T10:29:59.018876",
     "status": "completed"
    },
    "tags": []
   },
   "outputs": [],
   "source": [
    "eeg_streams = [eeg_data[:,:,:4],  eeg_data[:,:,4:8], eeg_data[:,:,8:12], eeg_data[:,:,12:16], eeg_data[:,:,16:]]\n",
    "eeg_stream_sig = [signature(stream, level=4) for stream in eeg_streams]\n"
   ]
  },
  {
   "cell_type": "code",
   "execution_count": 10,
   "id": "fd1510c6",
   "metadata": {
    "execution": {
     "iopub.execute_input": "2024-03-24T10:30:14.953143Z",
     "iopub.status.busy": "2024-03-24T10:30:14.952729Z",
     "iopub.status.idle": "2024-03-24T10:30:14.958113Z",
     "shell.execute_reply": "2024-03-24T10:30:14.956950Z"
    },
    "papermill": {
     "duration": 0.023405,
     "end_time": "2024-03-24T10:30:14.961798",
     "exception": false,
     "start_time": "2024-03-24T10:30:14.938393",
     "status": "completed"
    },
    "tags": []
   },
   "outputs": [
    {
     "name": "stdout",
     "output_type": "stream",
     "text": [
      "(1000, 340)\n",
      "(1000, 340)\n",
      "(1000, 340)\n",
      "(1000, 340)\n",
      "(1000, 30)\n"
     ]
    }
   ],
   "source": [
    "for stream in eeg_stream_sig:\n",
    "    print(stream.shape)"
   ]
  },
  {
   "cell_type": "code",
   "execution_count": 11,
   "id": "fc89706b",
   "metadata": {
    "execution": {
     "iopub.execute_input": "2024-03-24T10:30:14.990127Z",
     "iopub.status.busy": "2024-03-24T10:30:14.989751Z",
     "iopub.status.idle": "2024-03-24T10:30:15.001236Z",
     "shell.execute_reply": "2024-03-24T10:30:14.999755Z"
    },
    "papermill": {
     "duration": 0.028723,
     "end_time": "2024-03-24T10:30:15.003973",
     "exception": false,
     "start_time": "2024-03-24T10:30:14.975250",
     "status": "completed"
    },
    "tags": []
   },
   "outputs": [
    {
     "name": "stdout",
     "output_type": "stream",
     "text": [
      "(1000, 1390)\n"
     ]
    }
   ],
   "source": [
    "eeg_sig = np.concatenate(eeg_stream_sig, axis=-1)\n",
    "\n",
    "print(eeg_sig.shape)"
   ]
  },
  {
   "cell_type": "markdown",
   "id": "905cd116",
   "metadata": {
    "papermill": {
     "duration": 0.012817,
     "end_time": "2024-03-24T10:30:15.030212",
     "exception": false,
     "start_time": "2024-03-24T10:30:15.017395",
     "status": "completed"
    },
    "tags": []
   },
   "source": [
    "Create historgram of values in eeg_sig to see in what range values in the signautre are in"
   ]
  },
  {
   "cell_type": "code",
   "execution_count": 12,
   "id": "a7d08581",
   "metadata": {
    "execution": {
     "iopub.execute_input": "2024-03-24T10:30:15.058185Z",
     "iopub.status.busy": "2024-03-24T10:30:15.057804Z",
     "iopub.status.idle": "2024-03-24T10:30:15.567288Z",
     "shell.execute_reply": "2024-03-24T10:30:15.565553Z"
    },
    "papermill": {
     "duration": 0.528226,
     "end_time": "2024-03-24T10:30:15.571693",
     "exception": false,
     "start_time": "2024-03-24T10:30:15.043467",
     "status": "completed"
    },
    "tags": []
   },
   "outputs": [
    {
     "data": {
      "image/png": "[encoded data removed]",
      "text/plain": [
       "<Figure size 640x480 with 1 Axes>"
      ]
     },
     "metadata": {},
     "output_type": "display_data"
    }
   ],
   "source": [
    "# Creating the histogram\n",
    "import matplotlib.pyplot as plt\n",
    "\n",
    "plt.hist(eeg_sig.reshape(-1), bins=100, alpha=0.7, color='green', edgecolor='black')\n",
    "\n",
    "plt.title('Histogram of Values in Array')\n",
    "plt.xlabel('Value')\n",
    "plt.ylabel('Frequency')\n",
    "\n",
    "# Display the histogram\n",
    "plt.show()"
   ]
  },
  {
   "cell_type": "code",
   "execution_count": 13,
   "id": "ed1f42c0",
   "metadata": {
    "execution": {
     "iopub.execute_input": "2024-03-24T10:30:15.614390Z",
     "iopub.status.busy": "2024-03-24T10:30:15.613921Z",
     "iopub.status.idle": "2024-03-24T10:30:15.906199Z",
     "shell.execute_reply": "2024-03-24T10:30:15.904927Z"
    },
    "papermill": {
     "duration": 0.320158,
     "end_time": "2024-03-24T10:30:15.908949",
     "exception": false,
     "start_time": "2024-03-24T10:30:15.588791",
     "status": "completed"
    },
    "tags": []
   },
   "outputs": [
    {
     "data": {
      "image/png": "[encoded data removed]",
      "text/plain": [
       "<Figure size 640x480 with 1 Axes>"
      ]
     },
     "metadata": {},
     "output_type": "display_data"
    }
   ],
   "source": [
    "# Creating the histogram\n",
    "plt.hist(eeg_sig[0], bins=30, alpha=0.7, color='green', edgecolor='black')\n",
    "\n",
    "plt.title('Histogram of Values in Array')\n",
    "plt.xlabel('Value')\n",
    "plt.ylabel('Frequency')\n",
    "\n",
    "# Display the histogram\n",
    "plt.show()"
   ]
  },
  {
   "cell_type": "markdown",
   "id": "47f517d6",
   "metadata": {
    "papermill": {
     "duration": 0.013762,
     "end_time": "2024-03-24T10:30:15.937548",
     "exception": false,
     "start_time": "2024-03-24T10:30:15.923786",
     "status": "completed"
    },
    "tags": []
   },
   "source": [
    "### We clip the output of the signature to be between -0.5 and 0.5"
   ]
  },
  {
   "cell_type": "code",
   "execution_count": 14,
   "id": "6002ca58",
   "metadata": {
    "execution": {
     "iopub.execute_input": "2024-03-24T10:30:15.967757Z",
     "iopub.status.busy": "2024-03-24T10:30:15.967287Z",
     "iopub.status.idle": "2024-03-24T10:30:15.978785Z",
     "shell.execute_reply": "2024-03-24T10:30:15.977706Z"
    },
    "papermill": {
     "duration": 0.029556,
     "end_time": "2024-03-24T10:30:15.981216",
     "exception": false,
     "start_time": "2024-03-24T10:30:15.951660",
     "status": "completed"
    },
    "tags": []
   },
   "outputs": [],
   "source": [
    "eeg_sig_clip = np.clip(eeg_sig, a_min=-0.5, a_max=0.5)"
   ]
  },
  {
   "cell_type": "markdown",
   "id": "fe1ba3f3",
   "metadata": {
    "papermill": {
     "duration": 0.013906,
     "end_time": "2024-03-24T10:30:16.009596",
     "exception": false,
     "start_time": "2024-03-24T10:30:15.995690",
     "status": "completed"
    },
    "tags": []
   },
   "source": [
    "### Write the above preprocessing steps as a single function"
   ]
  },
  {
   "cell_type": "code",
   "execution_count": 15,
   "id": "a56ce6d0",
   "metadata": {
    "execution": {
     "iopub.execute_input": "2024-03-24T10:30:16.041309Z",
     "iopub.status.busy": "2024-03-24T10:30:16.040592Z",
     "iopub.status.idle": "2024-03-24T10:30:16.048265Z",
     "shell.execute_reply": "2024-03-24T10:30:16.046858Z"
    },
    "papermill": {
     "duration": 0.027183,
     "end_time": "2024-03-24T10:30:16.051009",
     "exception": false,
     "start_time": "2024-03-24T10:30:16.023826",
     "status": "completed"
    },
    "tags": []
   },
   "outputs": [],
   "source": [
    "def preprocess(pre_eeg):\n",
    "    pre_eeg_streams = [pre_eeg[:,:,:4],  pre_eeg[:,:,4:8], pre_eeg[:,:,8:12],\n",
    "                       pre_eeg[:,:,12:16], pre_eeg[:,:,16:]]\n",
    "    \n",
    "    pre_eeg_stream_sig = [signature(stream, level=4) for stream in pre_eeg_streams]\n",
    "    pre_eeg_sig = np.concatenate(pre_eeg_stream_sig, axis=-1)\n",
    "    pre_eeg_sig_clip = np.clip(pre_eeg_sig, a_min=-0.5, a_max=0.5)\n",
    "    return pre_eeg_sig_clip\n",
    "    \n",
    "    "
   ]
  },
  {
   "cell_type": "code",
   "execution_count": 16,
   "id": "d4fcb9ef",
   "metadata": {
    "execution": {
     "iopub.execute_input": "2024-03-24T10:30:16.081400Z",
     "iopub.status.busy": "2024-03-24T10:30:16.080916Z",
     "iopub.status.idle": "2024-03-24T10:30:20.047920Z",
     "shell.execute_reply": "2024-03-24T10:30:20.046895Z"
    },
    "papermill": {
     "duration": 3.985379,
     "end_time": "2024-03-24T10:30:20.050616",
     "exception": false,
     "start_time": "2024-03-24T10:30:16.065237",
     "status": "completed"
    },
    "tags": []
   },
   "outputs": [],
   "source": [
    "import numpy as np\n",
    "import torch\n",
    "from torch.utils.data import TensorDataset, DataLoader, random_split\n",
    "\n",
    "# Mock data\n",
    "features = eeg_sig_clip\n",
    "targets = targets\n",
    "\n",
    "# Convert to PyTorch tensors\n",
    "features_tensor = torch.tensor(features, dtype=torch.float32)\n",
    "targets_tensor = torch.tensor(targets, dtype=torch.float32)\n",
    "\n",
    "# Create a TensorDataset\n",
    "dataset = TensorDataset(features_tensor, targets_tensor)\n",
    "\n",
    "# Split dataset into train and test sets\n",
    "train_size = int(0.8 * len(dataset))\n",
    "test_size = len(dataset) - train_size\n",
    "train_dataset, test_dataset = random_split(dataset, [train_size, test_size])\n",
    "\n",
    "# Create DataLoaders\n",
    "train_loader = DataLoader(train_dataset, batch_size=64, shuffle=True)\n",
    "test_loader = DataLoader(test_dataset, batch_size=64, shuffle=False)\n",
    "\n",
    "\n",
    "\n",
    "import torch.nn as nn\n",
    "import torch.nn.functional as F\n",
    "\n",
    "class DeeperNN(nn.Module):\n",
    "    def __init__(self):\n",
    "        super(DeeperNN, self).__init__()\n",
    "        self.fc1 = nn.Linear(1390, 1024)  # Increase the number of neurons\n",
    "        self.bn1 = nn.BatchNorm1d(1024)   # Batch normalization\n",
    "        self.dropout1 = nn.Dropout(0.5)   # Dropout\n",
    "        \n",
    "        self.fc2 = nn.Linear(1024, 512)\n",
    "        self.bn2 = nn.BatchNorm1d(512)\n",
    "        self.dropout2 = nn.Dropout(0.5)\n",
    "        \n",
    "        self.fc3 = nn.Linear(512, 256)\n",
    "        self.bn3 = nn.BatchNorm1d(256)\n",
    "        self.dropout3 = nn.Dropout(0.5)\n",
    "        \n",
    "        self.fc4 = nn.Linear(256, 128)\n",
    "        self.bn4 = nn.BatchNorm1d(128)\n",
    "        self.dropout4 = nn.Dropout(0.5)\n",
    "        \n",
    "        self.fc5 = nn.Linear(128, 6)     # Final layer remains the same\n",
    "\n",
    "    def forward(self, x):\n",
    "        x = F.relu(self.bn1(self.fc1(x)))\n",
    "        x = self.dropout1(x)\n",
    "        \n",
    "        x = F.relu(self.bn2(self.fc2(x)))\n",
    "        x = self.dropout2(x)\n",
    "        \n",
    "        x = F.relu(self.bn3(self.fc3(x)))\n",
    "        x = self.dropout3(x)\n",
    "        \n",
    "        x = F.relu(self.bn4(self.fc4(x)))\n",
    "        x = self.dropout4(x)\n",
    "        \n",
    "        x = self.fc5(x)\n",
    "        return F.log_softmax(x, dim=1) # Ensure output sums to 1\n",
    "\n",
    "# Initialize the model\n",
    "model = DeeperNN()\n",
    "\n",
    "\n",
    "\n"
   ]
  },
  {
   "cell_type": "code",
   "execution_count": 17,
   "id": "07ac543b",
   "metadata": {
    "execution": {
     "iopub.execute_input": "2024-03-24T10:30:20.084706Z",
     "iopub.status.busy": "2024-03-24T10:30:20.083194Z",
     "iopub.status.idle": "2024-03-24T10:30:48.334217Z",
     "shell.execute_reply": "2024-03-24T10:30:48.332961Z"
    },
    "papermill": {
     "duration": 28.26935,
     "end_time": "2024-03-24T10:30:48.336640",
     "exception": false,
     "start_time": "2024-03-24T10:30:20.067290",
     "status": "completed"
    },
    "tags": []
   },
   "outputs": [
    {
     "name": "stdout",
     "output_type": "stream",
     "text": [
      "Epoch 1, Training Loss: 0.8577134517522959, Test Loss: 1.603453904390335\n",
      "Epoch 2, Training Loss: 0.6461869340676528, Test Loss: 0.6705722212791443\n",
      "Epoch 3, Training Loss: 0.5539272129535675, Test Loss: 0.5892156064510345\n",
      "Epoch 4, Training Loss: 0.4821328016427847, Test Loss: 0.5287942662835121\n",
      "Epoch 5, Training Loss: 0.40190914502510655, Test Loss: 0.5406680926680565\n",
      "Epoch 6, Training Loss: 0.33846426812502056, Test Loss: 0.5326718240976334\n",
      "Epoch 7, Training Loss: 0.30986438118494475, Test Loss: 0.525393083691597\n",
      "Epoch 8, Training Loss: 0.280386739052259, Test Loss: 0.4922487735748291\n",
      "Epoch 9, Training Loss: 0.26603485758487994, Test Loss: 0.4906625971198082\n",
      "Epoch 10, Training Loss: 0.2454857975244522, Test Loss: 0.5481070280075073\n",
      "Epoch 11, Training Loss: 0.2576063401423968, Test Loss: 0.48658687621355057\n",
      "Epoch 12, Training Loss: 0.24102521515809572, Test Loss: 0.48384372889995575\n",
      "Epoch 13, Training Loss: 0.21870152079142058, Test Loss: 0.553230345249176\n",
      "Epoch 14, Training Loss: 0.20952690564669096, Test Loss: 0.5420336425304413\n",
      "Epoch 15, Training Loss: 0.17407464751830468, Test Loss: 0.547253392636776\n",
      "Epoch 16, Training Loss: 0.1777262229185838, Test Loss: 0.504170261323452\n",
      "Epoch 17, Training Loss: 0.18141490908769461, Test Loss: 0.5125565677881241\n",
      "Epoch 18, Training Loss: 0.1559033886744426, Test Loss: 0.4966960921883583\n",
      "Epoch 19, Training Loss: 0.1488153074796383, Test Loss: 0.4971381053328514\n",
      "Epoch 20, Training Loss: 0.14141175150871277, Test Loss: 0.5229644775390625\n",
      "Epoch 21, Training Loss: 0.13064607290121225, Test Loss: 0.5190081894397736\n",
      "Epoch 22, Training Loss: 0.13961103214667395, Test Loss: 0.4399053603410721\n",
      "Epoch 23, Training Loss: 0.14512607340629285, Test Loss: 0.488704115152359\n",
      "Epoch 24, Training Loss: 0.15811114930189574, Test Loss: 0.4622598960995674\n",
      "Epoch 25, Training Loss: 0.146473646737062, Test Loss: 0.470220722258091\n",
      "Epoch 26, Training Loss: 0.13732757304723447, Test Loss: 0.5172614231705666\n",
      "Epoch 27, Training Loss: 0.14793857645529968, Test Loss: 0.5437958240509033\n",
      "Epoch 28, Training Loss: 0.13120219226066882, Test Loss: 0.5714669227600098\n",
      "Epoch 29, Training Loss: 0.11255192183531247, Test Loss: 0.5306741446256638\n",
      "Epoch 30, Training Loss: 0.13055614439340738, Test Loss: 0.5782985389232635\n",
      "Epoch 31, Training Loss: 0.11583850762018791, Test Loss: 0.5661465153098106\n",
      "Epoch 32, Training Loss: 0.1070984687942725, Test Loss: 0.5499680936336517\n",
      "Epoch 33, Training Loss: 0.09945028819716893, Test Loss: 0.5577558353543282\n",
      "Epoch 34, Training Loss: 0.09318537494310966, Test Loss: 0.5301095992326736\n",
      "Epoch 35, Training Loss: 0.09350962678973491, Test Loss: 0.5214074328541756\n",
      "Epoch 36, Training Loss: 0.09881626642667331, Test Loss: 0.5714299827814102\n",
      "Epoch 37, Training Loss: 0.09122840429727848, Test Loss: 0.5922847166657448\n",
      "Epoch 38, Training Loss: 0.08667895312492664, Test Loss: 0.6554960981011391\n",
      "Epoch 39, Training Loss: 0.08391038958842938, Test Loss: 0.5899829640984535\n",
      "Epoch 40, Training Loss: 0.07151786180642936, Test Loss: 0.6327542811632156\n",
      "Epoch 41, Training Loss: 0.08275706492937528, Test Loss: 0.6257760524749756\n",
      "Epoch 42, Training Loss: 0.08447443808500583, Test Loss: 0.617342934012413\n",
      "Epoch 43, Training Loss: 0.09614087383334453, Test Loss: 0.6075971871614456\n",
      "Epoch 44, Training Loss: 0.08911717367859986, Test Loss: 0.5242397412657738\n",
      "Epoch 45, Training Loss: 0.07924949864928539, Test Loss: 0.48754415661096573\n",
      "Epoch 46, Training Loss: 0.11664642450901178, Test Loss: 0.4796837121248245\n",
      "Epoch 47, Training Loss: 0.08381495280907704, Test Loss: 0.4774969667196274\n",
      "Epoch 48, Training Loss: 0.09024533084951915, Test Loss: 0.507970854640007\n",
      "Epoch 49, Training Loss: 0.08201867628556031, Test Loss: 0.5489178150892258\n",
      "Epoch 50, Training Loss: 0.07501541049434589, Test Loss: 0.5541675016283989\n",
      "Epoch 51, Training Loss: 0.07184782652900769, Test Loss: 0.5726254507899284\n",
      "Epoch 52, Training Loss: 0.0879101251753477, Test Loss: 0.5409136191010475\n",
      "Epoch 53, Training Loss: 0.08353805513336109, Test Loss: 0.5116613134741783\n",
      "Epoch 54, Training Loss: 0.0803662627362288, Test Loss: 0.60078314691782\n",
      "Epoch 55, Training Loss: 0.09379086270928383, Test Loss: 0.623377725481987\n",
      "Epoch 56, Training Loss: 0.08466589737396973, Test Loss: 0.7024537026882172\n",
      "Epoch 57, Training Loss: 0.07885516234315358, Test Loss: 0.6016236618161201\n",
      "Epoch 58, Training Loss: 0.07974018672337899, Test Loss: 0.6252384558320045\n",
      "Epoch 59, Training Loss: 0.06476500544410485, Test Loss: 0.5302335321903229\n",
      "Epoch 60, Training Loss: 0.08387725513715011, Test Loss: 0.4941506013274193\n",
      "Epoch 61, Training Loss: 0.09796206739086372, Test Loss: 0.5606733486056328\n",
      "Epoch 62, Training Loss: 0.13034448658044523, Test Loss: 0.60296680778265\n",
      "Epoch 63, Training Loss: 0.08465992630674289, Test Loss: 0.5414303466677666\n",
      "Epoch 64, Training Loss: 0.0747048631310463, Test Loss: 0.5440498813986778\n",
      "Epoch 65, Training Loss: 0.06342965135207543, Test Loss: 0.4781956151127815\n",
      "Epoch 66, Training Loss: 0.07016302616550373, Test Loss: 0.4898330867290497\n",
      "Epoch 67, Training Loss: 0.06328656495763706, Test Loss: 0.5009954571723938\n",
      "Epoch 68, Training Loss: 0.06001677793952135, Test Loss: 0.507501631975174\n",
      "Epoch 69, Training Loss: 0.05415011598513676, Test Loss: 0.5173853859305382\n",
      "Epoch 70, Training Loss: 0.053625166129607424, Test Loss: 0.5456815809011459\n",
      "Epoch 71, Training Loss: 0.0577124311373784, Test Loss: 0.5150097906589508\n",
      "Epoch 72, Training Loss: 0.07167303992005494, Test Loss: 0.5061986669898033\n",
      "Epoch 73, Training Loss: 0.06831569568468975, Test Loss: 0.5078729912638664\n",
      "Epoch 74, Training Loss: 0.06134615380030412, Test Loss: 0.5000188201665878\n",
      "Epoch 75, Training Loss: 0.060614897654606745, Test Loss: 0.5248159021139145\n",
      "Epoch 76, Training Loss: 0.057534320709797054, Test Loss: 0.5229105949401855\n",
      "Epoch 77, Training Loss: 0.055869199049014315, Test Loss: 0.5634485930204391\n",
      "Epoch 78, Training Loss: 0.053355236466114335, Test Loss: 0.5674217194318771\n",
      "Epoch 79, Training Loss: 0.05483076205620399, Test Loss: 0.5500023365020752\n",
      "Epoch 80, Training Loss: 0.0508760020423394, Test Loss: 0.5517942383885384\n",
      "Epoch 81, Training Loss: 0.04968867293344094, Test Loss: 0.5590313225984573\n",
      "Epoch 82, Training Loss: 0.045265986369206354, Test Loss: 0.6192766726016998\n",
      "Epoch 83, Training Loss: 0.04664466014275184, Test Loss: 0.5759113356471062\n",
      "Epoch 84, Training Loss: 0.04380874077861126, Test Loss: 0.568061463534832\n",
      "Epoch 85, Training Loss: 0.043776617743648015, Test Loss: 0.5581918656826019\n",
      "Epoch 86, Training Loss: 0.04104990898989714, Test Loss: 0.577916145324707\n",
      "Epoch 87, Training Loss: 0.047276280963650115, Test Loss: 0.6476337090134621\n",
      "Epoch 88, Training Loss: 0.0512951325911742, Test Loss: 0.5771967992186546\n",
      "Epoch 89, Training Loss: 0.051330346041000806, Test Loss: 0.5745873227715492\n",
      "Epoch 90, Training Loss: 0.04783783308588541, Test Loss: 0.6752037703990936\n",
      "Epoch 91, Training Loss: 0.042981426733044475, Test Loss: 0.6187622100114822\n",
      "Epoch 92, Training Loss: 0.04588492472584431, Test Loss: 0.646027073264122\n",
      "Epoch 93, Training Loss: 0.05060590889591437, Test Loss: 0.6191136837005615\n",
      "Epoch 94, Training Loss: 0.04526248918129848, Test Loss: 0.5896027982234955\n",
      "Epoch 95, Training Loss: 0.04050581042583172, Test Loss: 0.569707840681076\n",
      "Epoch 96, Training Loss: 0.047525547158259615, Test Loss: 0.5570186451077461\n",
      "Epoch 97, Training Loss: 0.05480380270343561, Test Loss: 0.5398165434598923\n",
      "Epoch 98, Training Loss: 0.03747487626969814, Test Loss: 0.5806893706321716\n",
      "Epoch 99, Training Loss: 0.039537253144841925, Test Loss: 0.5872372537851334\n",
      "Epoch 100, Training Loss: 0.04061061674012588, Test Loss: 0.6084761023521423\n"
     ]
    }
   ],
   "source": [
    "import torch.optim as optim\n",
    "import matplotlib.pyplot as plt\n",
    "\n",
    "# Assume nn, model, train_loader, and test_loader are already defined\n",
    "\n",
    "# Loss function and optimizer\n",
    "criterion = nn.KLDivLoss(reduction='batchmean')\n",
    "optimizer = optim.Adam(model.parameters(), lr=0.01)\n",
    "\n",
    "losses = []  # List to store the average loss per epoch\n",
    "test_losses = []  # List to store the average test loss per epoch\n",
    "\n",
    "# Training loop\n",
    "num_epochs = 100\n",
    "for epoch in range(num_epochs):\n",
    "    model.train()  # Set the model to training mode\n",
    "    total_loss = 0\n",
    "    for inputs, labels in train_loader:\n",
    "        optimizer.zero_grad()\n",
    "        outputs = model(inputs)\n",
    "        loss = criterion(outputs, labels)\n",
    "        loss.backward()\n",
    "        optimizer.step()\n",
    "        total_loss += loss.item()\n",
    "\n",
    "    avg_loss = total_loss / len(train_loader)\n",
    "    losses.append(avg_loss)\n",
    "\n",
    "    # Evaluate on test set\n",
    "    model.eval()  # Set the model to evaluation mode\n",
    "    total_test_loss = 0\n",
    "    with torch.no_grad():  # Disable gradient calculation for evaluation\n",
    "        for inputs, labels in test_loader:\n",
    "            outputs = model(inputs)\n",
    "            test_loss = criterion(outputs, labels)\n",
    "            total_test_loss += test_loss.item()\n",
    "    \n",
    "    avg_test_loss = total_test_loss / len(test_loader)\n",
    "    test_losses.append(avg_test_loss)\n",
    "    \n",
    "    print(f\"Epoch {epoch+1}, Training Loss: {avg_loss}, Test Loss: {avg_test_loss}\")"
   ]
  },
  {
   "cell_type": "code",
   "execution_count": 18,
   "id": "a895b65f",
   "metadata": {
    "execution": {
     "iopub.execute_input": "2024-03-24T10:30:48.385669Z",
     "iopub.status.busy": "2024-03-24T10:30:48.384518Z",
     "iopub.status.idle": "2024-03-24T10:30:48.661516Z",
     "shell.execute_reply": "2024-03-24T10:30:48.660114Z"
    },
    "papermill": {
     "duration": 0.305165,
     "end_time": "2024-03-24T10:30:48.664917",
     "exception": false,
     "start_time": "2024-03-24T10:30:48.359752",
     "status": "completed"
    },
    "tags": []
   },
   "outputs": [
    {
     "data": {
      "image/png": "[encoded data removed]",
      "text/plain": [
       "<Figure size 640x480 with 1 Axes>"
      ]
     },
     "metadata": {},
     "output_type": "display_data"
    }
   ],
   "source": [
    "\n",
    "\n",
    "# Plotting\n",
    "plt.plot(losses, label='Training Loss')\n",
    "plt.plot(test_losses, label='Test Loss')\n",
    "plt.title('Training vs Test Loss')\n",
    "plt.xlabel('Epoch')\n",
    "plt.ylabel('KL Divergence Loss')\n",
    "plt.legend()\n",
    "plt.show()\n"
   ]
  },
  {
   "cell_type": "markdown",
   "id": "074e0f0f",
   "metadata": {
    "papermill": {
     "duration": 0.023405,
     "end_time": "2024-03-24T10:30:48.712894",
     "exception": false,
     "start_time": "2024-03-24T10:30:48.689489",
     "status": "completed"
    },
    "tags": []
   },
   "source": [
    "## Try Submitting"
   ]
  },
  {
   "cell_type": "code",
   "execution_count": 19,
   "id": "8b30f21b",
   "metadata": {
    "execution": {
     "iopub.execute_input": "2024-03-24T10:30:48.762275Z",
     "iopub.status.busy": "2024-03-24T10:30:48.761861Z",
     "iopub.status.idle": "2024-03-24T10:30:48.784339Z",
     "shell.execute_reply": "2024-03-24T10:30:48.783199Z"
    },
    "papermill": {
     "duration": 0.050085,
     "end_time": "2024-03-24T10:30:48.786916",
     "exception": false,
     "start_time": "2024-03-24T10:30:48.736831",
     "status": "completed"
    },
    "tags": []
   },
   "outputs": [
    {
     "name": "stdout",
     "output_type": "stream",
     "text": [
      "Test shape: (1, 3)\n"
     ]
    },
    {
     "data": {
      "text/plain": [
       "spectrogram_id        853520\n",
       "eeg_id            3911565283\n",
       "patient_id              6885\n",
       "Name: 0, dtype: int64"
      ]
     },
     "execution_count": 19,
     "metadata": {},
     "output_type": "execute_result"
    }
   ],
   "source": [
    "test = pd.read_csv('/kaggle/input/hms-harmful-brain-activity-classification/test.csv')\n",
    "print('Test shape:',test.shape)\n",
    "\n",
    "\n",
    "EEG_SUB_PATH_TEMPL = '/kaggle/input/hms-harmful-brain-activity-classification/test_eegs/'\n",
    "SP_SUB_PATH_TEMPL = '/kaggle/input/hms-harmful-brain-activity-classification/test_spectrograms/'\n",
    "\n",
    "test.head()\n",
    "\n",
    "test.iloc[0]"
   ]
  },
  {
   "cell_type": "code",
   "execution_count": 20,
   "id": "3141f545",
   "metadata": {
    "execution": {
     "iopub.execute_input": "2024-03-24T10:30:48.838327Z",
     "iopub.status.busy": "2024-03-24T10:30:48.837188Z",
     "iopub.status.idle": "2024-03-24T10:30:48.842542Z",
     "shell.execute_reply": "2024-03-24T10:30:48.841262Z"
    },
    "papermill": {
     "duration": 0.033707,
     "end_time": "2024-03-24T10:30:48.845275",
     "exception": false,
     "start_time": "2024-03-24T10:30:48.811568",
     "status": "completed"
    },
    "tags": []
   },
   "outputs": [],
   "source": [
    "# # Read all spectrograms\n",
    "# PATH = '/kaggle/input/hms-harmful-brain-activity-classification/test_spectrograms'\n",
    "# files = os.listdir(PATH)\n",
    "# print(f'There are {len(files)} test spectrogram parquets')\n",
    "# test_specs = {}\n",
    "# for i,f in enumerate(files):\n",
    "#     tmp = pd.read_parquet(f'{PATH}/{f}')\n",
    "#     name = int(f.split('.')[0])\n",
    "#     print(tmp)\n",
    "#     test_specs[name] = tmp.iloc[:,1:].values"
   ]
  },
  {
   "cell_type": "code",
   "execution_count": null,
   "id": "747f2df4",
   "metadata": {
    "execution": {
     "iopub.execute_input": "2024-03-20T16:58:45.850888Z",
     "iopub.status.busy": "2024-03-20T16:58:45.85053Z",
     "iopub.status.idle": "2024-03-20T16:58:45.857275Z",
     "shell.execute_reply": "2024-03-20T16:58:45.855793Z",
     "shell.execute_reply.started": "2024-03-20T16:58:45.850857Z"
    },
    "papermill": {
     "duration": 0.023762,
     "end_time": "2024-03-24T10:30:48.893212",
     "exception": false,
     "start_time": "2024-03-24T10:30:48.869450",
     "status": "completed"
    },
    "tags": []
   },
   "outputs": [],
   "source": []
  },
  {
   "cell_type": "code",
   "execution_count": 21,
   "id": "d5fb2329",
   "metadata": {
    "execution": {
     "iopub.execute_input": "2024-03-24T10:30:48.943181Z",
     "iopub.status.busy": "2024-03-24T10:30:48.942735Z",
     "iopub.status.idle": "2024-03-24T10:30:48.959358Z",
     "shell.execute_reply": "2024-03-24T10:30:48.958064Z"
    },
    "papermill": {
     "duration": 0.045023,
     "end_time": "2024-03-24T10:30:48.962332",
     "exception": false,
     "start_time": "2024-03-24T10:30:48.917309",
     "status": "completed"
    },
    "tags": []
   },
   "outputs": [],
   "source": [
    "def get_sub_eeg_sp_data(train_row):\n",
    "    \"\"\"Gets EEG and Spectogram data from a specific row in the dataset\"\"\"\n",
    "    \n",
    "    eeg_id = train_row.eeg_id\n",
    "    sp_id = train_row.spectrogram_id\n",
    "    \n",
    "    eeg_parquet = pd.read_parquet(f'{EEG_SUB_PATH_TEMPL}{eeg_id}.parquet')\n",
    "    sp = pd.read_parquet(f'{SP_SUB_PATH_TEMPL}{sp_id}.parquet')\n",
    "    \n",
    "    rows = len(eeg_parquet)\n",
    "    eeg_offset = (rows-10_000)//2\n",
    "    \n",
    "    \n",
    "    # get middle 50 seconds of eeg data\n",
    "    #eeg_offset = int(train_row.eeg_label_offset_seconds + 20) #only 10 central seconds from 50 secs were labeled, which should be seconds 20-30 in the sample\n",
    "    eeg_data = eeg_parquet.iloc[eeg_offset:eeg_offset + 10_000]\n",
    "    \n",
    "    \n",
    "    # sp_offset = int(train_row.spectrogram_label_offset_seconds )\n",
    "    \n",
    "    # get spectrogram data\n",
    "    # sp = sp_parquet.loc[(sp_parquet.time>=sp_offset)&(sp_parquet.time<sp_offset+SP_WIN)]\n",
    "    sp = sp.loc[:, sp.columns != 'time']\n",
    "    sp = {\n",
    "        \"LL\": sp.filter(regex='^LL', axis=1),\n",
    "        \"RL\": sp.filter(regex='^RL', axis=1),\n",
    "        \"RP\": sp.filter(regex='^RP', axis=1),\n",
    "        \"LP\": sp.filter(regex='^LP', axis=1)}\n",
    "    \n",
    "    # calculate eeg data\n",
    "    # print(eeg_data.keys()) # Has keys Index(['Fp1', 'F3', 'C3', 'P3', 'F7', 'T3', 'T5', 'O1', 'Fz', 'Cz', 'Pz',\n",
    "                            # 'Fp2', 'F4', 'C4', 'P4', 'F8', 'T4', 'T6', 'O2', 'EKG']\n",
    "    # assert 0 == 1\n",
    "    \n",
    "    CHAINS = {\n",
    "    'LL' : [(\"Fp1\",\"F7\"),(\"F7\",\"T3\"),(\"T3\",\"T5\"),(\"T5\",\"O1\")],\n",
    "    'RL' : [(\"Fp2\",\"F8\"),(\"F8\",\"T4\"),(\"T4\",\"T6\"),(\"T6\",\"O2\")],\n",
    "    'LP' : [(\"Fp1\",\"F3\"),(\"F3\",\"C3\"),(\"C3\",\"P3\"),(\"P3\",\"O1\")],\n",
    "    'RP' : [(\"Fp2\",\"F4\"),(\"F4\",\"C4\"),(\"C4\",\"P4\"),(\"P4\",\"O2\")],\n",
    "    'other' : [(\"Fz\",\"Cz\"), (\"Cz\", \"Pz\"), (\"EKG\")]\n",
    "}\n",
    "    \n",
    "    eeg = pd.DataFrame({})\n",
    "    for chain in CHAINS.keys():\n",
    "        for s_i, signals in enumerate(CHAINS[chain]):\n",
    "            if len(signals) == 2:\n",
    "                diff=eeg_data[signals[0]]-eeg_data[signals[1]] # Subtracts relevant fields as in the image above\n",
    "                diff.ffill(inplace = True) # forward fills in the casse of nan values\n",
    "                eeg[f\"{chain}: {signals[0]} - {signals[1]}\"] = diff\n",
    "            \n",
    "            elif len(signals) == 1:\n",
    "                sig=eeg_data[signals[0]]\n",
    "                sig.ffill(inplace = True) \n",
    "                eeg[f\"{chain}: {signals[0]}\"] = sig\n",
    "                \n",
    "                \n",
    "    \n",
    "    return eeg, sp"
   ]
  },
  {
   "cell_type": "code",
   "execution_count": 22,
   "id": "36ad7b27",
   "metadata": {
    "execution": {
     "iopub.execute_input": "2024-03-24T10:30:49.013265Z",
     "iopub.status.busy": "2024-03-24T10:30:49.012852Z",
     "iopub.status.idle": "2024-03-24T10:30:49.271532Z",
     "shell.execute_reply": "2024-03-24T10:30:49.270335Z"
    },
    "papermill": {
     "duration": 0.28703,
     "end_time": "2024-03-24T10:30:49.273945",
     "exception": false,
     "start_time": "2024-03-24T10:30:48.986915",
     "status": "completed"
    },
    "tags": []
   },
   "outputs": [
    {
     "name": "stderr",
     "output_type": "stream",
     "text": [
      "100%|██████████| 1/1 [00:00<00:00,  4.12it/s]\n"
     ]
    },
    {
     "data": {
      "text/plain": [
       "array([[[ 26.11      ,   6.09      ,   2.83      , ..., -12.41      ,\n",
       "          31.380001  ,  24.289999  ],\n",
       "        [ 65.39001   , -47.380005  ,  -6.5200005 , ..., -12.78      ,\n",
       "          35.34      ,  23.3       ],\n",
       "        [  8.649998  ,  -3.289999  ,   0.52000046, ..., -25.64      ,\n",
       "          26.83      ,  21.        ],\n",
       "        ...,\n",
       "        [-43.39      ,  18.630001  ,  28.78      , ..., -52.12      ,\n",
       "         -16.39      ,  21.629997  ],\n",
       "        [-44.690002  ,  23.130001  ,  25.96      , ..., -50.050003  ,\n",
       "         -14.73      ,  20.920002  ],\n",
       "        [-37.53      ,  27.5       ,  22.44      , ..., -40.63      ,\n",
       "          -3.75      ,  23.39      ]]], dtype=float32)"
      ]
     },
     "execution_count": 22,
     "metadata": {},
     "output_type": "execute_result"
    }
   ],
   "source": [
    "eeg_arr = []\n",
    "for i in tqdm(range(len(test))):\n",
    "        exp_row = test.iloc[i]\n",
    "        eeg_data, sp_dict = get_sub_eeg_sp_data(exp_row)\n",
    "        eeg_arr.append(eeg_data.to_numpy())\n",
    "\n",
    "# eeg_sub, sp_sub = get_sub_eeg_sp_data(test.iloc[0])\n",
    "\n",
    "eeg_arr = np.array(eeg_arr)\n",
    "\n",
    "eeg_arr"
   ]
  },
  {
   "cell_type": "code",
   "execution_count": 23,
   "id": "4bbdab98",
   "metadata": {
    "execution": {
     "iopub.execute_input": "2024-03-24T10:30:49.386717Z",
     "iopub.status.busy": "2024-03-24T10:30:49.386008Z",
     "iopub.status.idle": "2024-03-24T10:30:49.391443Z",
     "shell.execute_reply": "2024-03-24T10:30:49.390674Z"
    },
    "papermill": {
     "duration": 0.094865,
     "end_time": "2024-03-24T10:30:49.393632",
     "exception": false,
     "start_time": "2024-03-24T10:30:49.298767",
     "status": "completed"
    },
    "tags": []
   },
   "outputs": [],
   "source": [
    "sub = pd.DataFrame({'eeg_id':test.eeg_id.values})"
   ]
  },
  {
   "cell_type": "code",
   "execution_count": 24,
   "id": "8d592acb",
   "metadata": {
    "execution": {
     "iopub.execute_input": "2024-03-24T10:30:49.445452Z",
     "iopub.status.busy": "2024-03-24T10:30:49.444793Z",
     "iopub.status.idle": "2024-03-24T10:30:49.451988Z",
     "shell.execute_reply": "2024-03-24T10:30:49.450862Z"
    },
    "papermill": {
     "duration": 0.035936,
     "end_time": "2024-03-24T10:30:49.454456",
     "exception": false,
     "start_time": "2024-03-24T10:30:49.418520",
     "status": "completed"
    },
    "tags": []
   },
   "outputs": [
    {
     "data": {
      "text/plain": [
       "(1, 10000, 18)"
      ]
     },
     "execution_count": 24,
     "metadata": {},
     "output_type": "execute_result"
    }
   ],
   "source": [
    "eeg_arr.shape"
   ]
  },
  {
   "cell_type": "code",
   "execution_count": 25,
   "id": "c7582db6",
   "metadata": {
    "execution": {
     "iopub.execute_input": "2024-03-24T10:30:49.506660Z",
     "iopub.status.busy": "2024-03-24T10:30:49.505965Z",
     "iopub.status.idle": "2024-03-24T10:30:49.510578Z",
     "shell.execute_reply": "2024-03-24T10:30:49.509721Z"
    },
    "papermill": {
     "duration": 0.032992,
     "end_time": "2024-03-24T10:30:49.512740",
     "exception": false,
     "start_time": "2024-03-24T10:30:49.479748",
     "status": "completed"
    },
    "tags": []
   },
   "outputs": [],
   "source": [
    "# eeg_sub = np.expand_dims(eeg_sub, axis=0)\n",
    "\n",
    "# print(eeg_sub.shape)"
   ]
  },
  {
   "cell_type": "code",
   "execution_count": 26,
   "id": "7e7a5990",
   "metadata": {
    "execution": {
     "iopub.execute_input": "2024-03-24T10:30:49.565295Z",
     "iopub.status.busy": "2024-03-24T10:30:49.564504Z",
     "iopub.status.idle": "2024-03-24T10:30:49.649171Z",
     "shell.execute_reply": "2024-03-24T10:30:49.648102Z"
    },
    "papermill": {
     "duration": 0.114075,
     "end_time": "2024-03-24T10:30:49.651767",
     "exception": false,
     "start_time": "2024-03-24T10:30:49.537692",
     "status": "completed"
    },
    "tags": []
   },
   "outputs": [],
   "source": [
    "prep_eeg_sub = preprocess(eeg_arr)"
   ]
  },
  {
   "cell_type": "code",
   "execution_count": 27,
   "id": "f48269c5",
   "metadata": {
    "execution": {
     "iopub.execute_input": "2024-03-24T10:30:49.705626Z",
     "iopub.status.busy": "2024-03-24T10:30:49.704591Z",
     "iopub.status.idle": "2024-03-24T10:30:49.710261Z",
     "shell.execute_reply": "2024-03-24T10:30:49.708886Z"
    },
    "papermill": {
     "duration": 0.035296,
     "end_time": "2024-03-24T10:30:49.712484",
     "exception": false,
     "start_time": "2024-03-24T10:30:49.677188",
     "status": "completed"
    },
    "tags": []
   },
   "outputs": [
    {
     "name": "stdout",
     "output_type": "stream",
     "text": [
      "(1, 1390)\n"
     ]
    }
   ],
   "source": [
    "print(prep_eeg_sub.shape)"
   ]
  },
  {
   "cell_type": "code",
   "execution_count": 28,
   "id": "906a0a3d",
   "metadata": {
    "execution": {
     "iopub.execute_input": "2024-03-24T10:30:49.765435Z",
     "iopub.status.busy": "2024-03-24T10:30:49.764719Z",
     "iopub.status.idle": "2024-03-24T10:30:49.779176Z",
     "shell.execute_reply": "2024-03-24T10:30:49.778258Z"
    },
    "papermill": {
     "duration": 0.044554,
     "end_time": "2024-03-24T10:30:49.782375",
     "exception": false,
     "start_time": "2024-03-24T10:30:49.737821",
     "status": "completed"
    },
    "tags": []
   },
   "outputs": [
    {
     "name": "stdout",
     "output_type": "stream",
     "text": [
      "This is the sub pred sum: 0.9999999\n",
      "[[7.2164971e-01 1.1226309e-03 7.7744685e-02 4.3751343e-04 1.5553705e-01\n",
      "  4.3508321e-02]]\n"
     ]
    }
   ],
   "source": [
    "model.eval()\n",
    "\n",
    "sub_pred = model(torch.from_numpy(prep_eeg_sub).float()) # this gives the log of the probs\n",
    "\n",
    "sub_pred = np.exp(sub_pred.detach().numpy())\n",
    "\n",
    "print(\"This is the sub pred sum:\",sub_pred.sum())\n",
    "print(sub_pred)"
   ]
  },
  {
   "cell_type": "code",
   "execution_count": 29,
   "id": "c4728661",
   "metadata": {
    "execution": {
     "iopub.execute_input": "2024-03-24T10:30:49.837648Z",
     "iopub.status.busy": "2024-03-24T10:30:49.837135Z",
     "iopub.status.idle": "2024-03-24T10:30:49.865359Z",
     "shell.execute_reply": "2024-03-24T10:30:49.863960Z"
    },
    "papermill": {
     "duration": 0.058894,
     "end_time": "2024-03-24T10:30:49.867764",
     "exception": false,
     "start_time": "2024-03-24T10:30:49.808870",
     "status": "completed"
    },
    "tags": []
   },
   "outputs": [
    {
     "name": "stdout",
     "output_type": "stream",
     "text": [
      "Submission shape (1, 7)\n"
     ]
    },
    {
     "data": {
      "text/html": [
       "<div>\n",
       "<style scoped>\n",
       "    .dataframe tbody tr th:only-of-type {\n",
       "        vertical-align: middle;\n",
       "    }\n",
       "\n",
       "    .dataframe tbody tr th {\n",
       "        vertical-align: top;\n",
       "    }\n",
       "\n",
       "    .dataframe thead th {\n",
       "        text-align: right;\n",
       "    }\n",
       "</style>\n",
       "<table border=\"1\" class=\"dataframe\">\n",
       "  <thead>\n",
       "    <tr style=\"text-align: right;\">\n",
       "      <th></th>\n",
       "      <th>eeg_id</th>\n",
       "      <th>seizure_vote</th>\n",
       "      <th>lpd_vote</th>\n",
       "      <th>gpd_vote</th>\n",
       "      <th>lrda_vote</th>\n",
       "      <th>grda_vote</th>\n",
       "      <th>other_vote</th>\n",
       "    </tr>\n",
       "  </thead>\n",
       "  <tbody>\n",
       "    <tr>\n",
       "      <th>0</th>\n",
       "      <td>3911565283</td>\n",
       "      <td>0.72165</td>\n",
       "      <td>0.001123</td>\n",
       "      <td>0.077745</td>\n",
       "      <td>0.000438</td>\n",
       "      <td>0.155537</td>\n",
       "      <td>0.043508</td>\n",
       "    </tr>\n",
       "  </tbody>\n",
       "</table>\n",
       "</div>"
      ],
      "text/plain": [
       "       eeg_id  seizure_vote  lpd_vote  gpd_vote  lrda_vote  grda_vote  \\\n",
       "0  3911565283       0.72165  0.001123  0.077745   0.000438   0.155537   \n",
       "\n",
       "   other_vote  \n",
       "0    0.043508  "
      ]
     },
     "metadata": {},
     "output_type": "display_data"
    },
    {
     "name": "stdout",
     "output_type": "stream",
     "text": [
      "Sub row 0 sums to: 0.9999999107967597\n"
     ]
    }
   ],
   "source": [
    "# CREATE SUBMISSION.CSV\n",
    "from IPython.display import display\n",
    "\n",
    "TARGETS = ['seizure_vote', 'lpd_vote', 'gpd_vote', 'lrda_vote', 'grda_vote', 'other_vote']\n",
    "sub[TARGETS] = sub_pred\n",
    "sub.to_csv('submission.csv',index=False)\n",
    "print('Submission shape',sub.shape)\n",
    "display( sub.head() )\n",
    "\n",
    "# SANITY CHECK TO CONFIRM PREDICTIONS SUM TO ONE\n",
    "print('Sub row 0 sums to:',sub.iloc[0,-6:].sum())"
   ]
  },
  {
   "cell_type": "code",
   "execution_count": null,
   "id": "3b3a4f19",
   "metadata": {
    "papermill": {
     "duration": 0.025185,
     "end_time": "2024-03-24T10:30:49.918743",
     "exception": false,
     "start_time": "2024-03-24T10:30:49.893558",
     "status": "completed"
    },
    "tags": []
   },
   "outputs": [],
   "source": []
  }
 ],
 "metadata": {
  "kaggle": {
   "accelerator": "none",
   "dataSources": [
    {
     "databundleVersionId": 7469972,
     "sourceId": 59093,
     "sourceType": "competition"
    },
    {
     "datasetId": 4657249,
     "sourceId": 7924525,
     "sourceType": "datasetVersion"
    },
    {
     "sourceId": 168465212,
     "sourceType": "kernelVersion"
    },
    {
     "sourceId": 168466214,
     "sourceType": "kernelVersion"
    }
   ],
   "dockerImageVersionId": 30646,
   "isGpuEnabled": false,
   "isInternetEnabled": false,
   "language": "python",
   "sourceType": "notebook"
  },
  "kernelspec": {
   "display_name": "Python 3",
   "language": "python",
   "name": "python3"
  },
  "language_info": {
   "codemirror_mode": {
    "name": "ipython",
    "version": 3
   },
   "file_extension": ".py",
   "mimetype": "text/x-python",
   "name": "python",
   "nbconvert_exporter": "python",
   "pygments_lexer": "ipython3",
   "version": "3.10.13"
  },
  "papermill": {
   "default_parameters": {},
   "duration": 122.954702,
   "end_time": "2024-03-24T10:30:51.370836",
   "environment_variables": {},
   "exception": null,
   "input_path": "__notebook__.ipynb",
   "output_path": "__notebook__.ipynb",
   "parameters": {},
   "start_time": "2024-03-24T10:28:48.416134",
   "version": "2.5.0"
  }
 },
 "nbformat": 4,
 "nbformat_minor": 5
}
