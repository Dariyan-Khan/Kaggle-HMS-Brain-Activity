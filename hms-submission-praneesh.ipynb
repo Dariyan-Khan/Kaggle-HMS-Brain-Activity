{
 "cells": [
  {
   "cell_type": "code",
   "execution_count": 1,
   "id": "3acc3f83",
   "metadata": {
    "execution": {
     "iopub.execute_input": "2024-03-31T04:55:56.841609Z",
     "iopub.status.busy": "2024-03-31T04:55:56.841240Z",
     "iopub.status.idle": "2024-03-31T04:55:56.855298Z",
     "shell.execute_reply": "2024-03-31T04:55:56.854463Z"
    },
    "papermill": {
     "duration": 0.023646,
     "end_time": "2024-03-31T04:55:56.857265",
     "exception": false,
     "start_time": "2024-03-31T04:55:56.833619",
     "status": "completed"
    },
    "tags": []
   },
   "outputs": [],
   "source": [
    "import os\n",
    "import zipfile\n",
    "\n",
    "def zip_folder(folder_path, output_zip):\n",
    "    \"\"\"\n",
    "    Zip the contents of an entire folder (with that folder included\n",
    "    in the archive). Empty directories are included in the archive as well.\n",
    "    \"\"\"\n",
    "    with zipfile.ZipFile(output_zip, 'w', zipfile.ZIP_DEFLATED) as zipf:\n",
    "        lenDirPath = len(folder_path)\n",
    "        for root, _, files in os.walk(folder_path):\n",
    "            # Include all subdirectories, including empty ones.\n",
    "            for dirName in os.listdir(root):\n",
    "                dirPath = os.path.join(root, dirName)\n",
    "                if os.path.isdir(dirPath):\n",
    "                    zipf.write(dirPath, os.path.relpath(dirPath, folder_path))\n",
    "            # Add files\n",
    "            for file in files:\n",
    "                filePath = os.path.join(root, file)\n",
    "                zipf.write(filePath, os.path.relpath(filePath, folder_path))"
   ]
  },
  {
   "cell_type": "code",
   "execution_count": 2,
   "id": "116efc62",
   "metadata": {
    "execution": {
     "iopub.execute_input": "2024-03-31T04:55:56.869788Z",
     "iopub.status.busy": "2024-03-31T04:55:56.869527Z",
     "iopub.status.idle": "2024-03-31T04:56:49.408103Z",
     "shell.execute_reply": "2024-03-31T04:56:49.407087Z"
    },
    "papermill": {
     "duration": 52.547465,
     "end_time": "2024-03-31T04:56:49.410579",
     "exception": false,
     "start_time": "2024-03-31T04:55:56.863114",
     "status": "completed"
    },
    "tags": []
   },
   "outputs": [
    {
     "name": "stdout",
     "output_type": "stream",
     "text": [
      "Processing ./isig.zip\r\n",
      "  Preparing metadata (setup.py) ... \u001b[?25l-\b \b\\\b \bdone\r\n",
      "\u001b[?25hRequirement already satisfied: numpy>1.7 in /opt/conda/lib/python3.10/site-packages (from iisignature==0.24) (1.26.4)\r\n",
      "Building wheels for collected packages: iisignature\r\n",
      "  Building wheel for iisignature (setup.py) ... \u001b[?25l-\b \b\\\b \b|\b \bdone\r\n",
      "\u001b[?25h  Created wheel for iisignature: filename=iisignature-0.24-cp310-cp310-linux_x86_64.whl size=1401821 sha256=60bdca295993ccba9ae6f24e5c1e38718eb07e0f3de17ed04ccbbce5e4604c85\r\n",
      "  Stored in directory: /tmp/pip-ephem-wheel-cache-ub3c8zpg/wheels/1e/cc/c1/df8da0c28148d0b5dd2ba81acb40a50cda02da4b95bba89080\r\n",
      "Successfully built iisignature\r\n",
      "Installing collected packages: iisignature\r\n",
      "Successfully installed iisignature-0.24\r\n"
     ]
    }
   ],
   "source": [
    "zip_folder(\"/kaggle/input/isig-wheels/iisignature-0.24\", \"./isig.zip\")\n",
    "\n",
    "!pip install \"./isig.zip\""
   ]
  },
  {
   "cell_type": "code",
   "execution_count": 3,
   "id": "1243aed3",
   "metadata": {
    "execution": {
     "iopub.execute_input": "2024-03-31T04:56:49.425685Z",
     "iopub.status.busy": "2024-03-31T04:56:49.425340Z",
     "iopub.status.idle": "2024-03-31T04:56:50.746521Z",
     "shell.execute_reply": "2024-03-31T04:56:50.745473Z"
    },
    "papermill": {
     "duration": 1.331196,
     "end_time": "2024-03-31T04:56:50.748792",
     "exception": false,
     "start_time": "2024-03-31T04:56:49.417596",
     "status": "completed"
    },
    "tags": []
   },
   "outputs": [
    {
     "name": "stdout",
     "output_type": "stream",
     "text": [
      "iisignature is already installed.\n"
     ]
    }
   ],
   "source": [
    "import numpy as np\n",
    "import matplotlib.pyplot as plt\n",
    "\n",
    "import iisignature as isig\n",
    "from basic_preprocessing_utility_script import process_as_h5, signature, get_eeg_sp_data"
   ]
  },
  {
   "cell_type": "markdown",
   "id": "a03e5c4b",
   "metadata": {
    "papermill": {
     "duration": 0.00662,
     "end_time": "2024-03-31T04:56:50.762199",
     "exception": false,
     "start_time": "2024-03-31T04:56:50.755579",
     "status": "completed"
    },
    "tags": []
   },
   "source": [
    "# Build/ Train Model"
   ]
  },
  {
   "cell_type": "markdown",
   "id": "1c685e39",
   "metadata": {
    "papermill": {
     "duration": 0.006293,
     "end_time": "2024-03-31T04:56:50.775106",
     "exception": false,
     "start_time": "2024-03-31T04:56:50.768813",
     "status": "completed"
    },
    "tags": []
   },
   "source": [
    "Load signature features and prepare for training NN"
   ]
  },
  {
   "cell_type": "code",
   "execution_count": 4,
   "id": "b59f3270",
   "metadata": {
    "execution": {
     "iopub.execute_input": "2024-03-31T04:56:50.789852Z",
     "iopub.status.busy": "2024-03-31T04:56:50.789388Z",
     "iopub.status.idle": "2024-03-31T04:56:50.799968Z",
     "shell.execute_reply": "2024-03-31T04:56:50.799119Z"
    },
    "papermill": {
     "duration": 0.020084,
     "end_time": "2024-03-31T04:56:50.801928",
     "exception": false,
     "start_time": "2024-03-31T04:56:50.781844",
     "status": "completed"
    },
    "tags": []
   },
   "outputs": [],
   "source": [
    "def TrainPreProcessing(DataPortion, Validation_Split=None):\n",
    "    \n",
    "    # Load all numpy arrays \n",
    "    EEG_Sig_Total = np.load('/kaggle/input/post-sig-trans/EEG_Sig_Total.npy')    \n",
    "    \n",
    "    NumVotes_Total = np.load('/kaggle/input/post-sig-trans/NumVotes_Total.npy')\n",
    "    Targets_Total = np.load('/kaggle/input/post-sig-trans/Targets_Total.npy')\n",
    "\n",
    "    \n",
    "    # Combine columns into one array: ¦1390 Features¦6 Targets¦NumVotes¦ \n",
    "    TotalDataset = np.hstack((EEG_Sig_Total, Targets_Total, NumVotes_Total))\n",
    "    \n",
    "    # We want to drop all rows with nans in them\n",
    "    nan_rows = np.isnan(TotalDataset).any(axis=1)\n",
    "    # Drop rows with NaN values\n",
    "    TotalDataset = TotalDataset[~nan_rows]\n",
    "    \n",
    "    TotalN = TotalDataset.shape[0]\n",
    "\n",
    "\n",
    "    # shuffle rows\n",
    "    np.random.seed(69)\n",
    "    p = np.random.permutation(TotalN)\n",
    "\n",
    "    TotalDataset = TotalDataset[p]\n",
    "\n",
    "    # Work with only a small portion of the dataset for experimentation \n",
    "    N = round(DataPortion*TotalN)\n",
    "\n",
    "    TruncatedDataset = TotalDataset[:N]\n",
    "    \n",
    "    if not(Validation_Split is None):       \n",
    "\n",
    "        # set proportion of train data for validation set\n",
    "        Validation_N = round(Validation_Split*N)\n",
    "\n",
    "        ValidationDataset = TruncatedDataset[:Validation_N]\n",
    "        TrainDataset = TruncatedDataset[Validation_N:]\n",
    "        \n",
    "        X_val, y_val = ValidationDataset[:,:1390], ValidationDataset[:,1390:1396]\n",
    "        X_train, y_train = TrainDataset[:,:1390], TrainDataset[:,1390:1396]\n",
    "        N_votes_train = TrainDataset[:,-1]\n",
    "        \n",
    "        return X_train, y_train, X_val, y_val, N_votes_train\n",
    "\n",
    "        \n",
    "    else:\n",
    "        TrainDataset = TruncatedDataset\n",
    "        X_train, y_train = TrainDataset[:,:1390], TrainDataset[:,1390:1396]\n",
    "        N_votes_train = TrainDataset[:,-1]\n",
    "        \n",
    "        return X_train, y_train, N_votes_train"
   ]
  },
  {
   "cell_type": "code",
   "execution_count": 5,
   "id": "23f009f0",
   "metadata": {
    "execution": {
     "iopub.execute_input": "2024-03-31T04:56:50.817903Z",
     "iopub.status.busy": "2024-03-31T04:56:50.817638Z",
     "iopub.status.idle": "2024-03-31T04:57:05.373725Z",
     "shell.execute_reply": "2024-03-31T04:57:05.372788Z"
    },
    "papermill": {
     "duration": 14.567289,
     "end_time": "2024-03-31T04:57:05.375932",
     "exception": false,
     "start_time": "2024-03-31T04:56:50.808643",
     "status": "completed"
    },
    "tags": []
   },
   "outputs": [
    {
     "name": "stdout",
     "output_type": "stream",
     "text": [
      "(106789, 1390) (106789, 6)\n",
      "(0, 1390) (0, 6)\n"
     ]
    }
   ],
   "source": [
    "# Do not need a test set from the train data since we are submitting\n",
    "X_train, y_train, X_test, y_test, N_votes_train = TrainPreProcessing(DataPortion=1, Validation_Split=0)\n",
    "\n",
    "print(X_train.shape, y_train.shape)\n",
    "print(X_test.shape, y_test.shape)"
   ]
  },
  {
   "cell_type": "markdown",
   "id": "1ccefdf3",
   "metadata": {
    "papermill": {
     "duration": 0.007138,
     "end_time": "2024-03-31T04:57:05.390116",
     "exception": false,
     "start_time": "2024-03-31T04:57:05.382978",
     "status": "completed"
    },
    "tags": []
   },
   "source": [
    "Build NN"
   ]
  },
  {
   "cell_type": "code",
   "execution_count": 6,
   "id": "885d1bd3",
   "metadata": {
    "execution": {
     "iopub.execute_input": "2024-03-31T04:57:05.405460Z",
     "iopub.status.busy": "2024-03-31T04:57:05.405125Z",
     "iopub.status.idle": "2024-03-31T04:57:18.547081Z",
     "shell.execute_reply": "2024-03-31T04:57:18.546221Z"
    },
    "papermill": {
     "duration": 13.152511,
     "end_time": "2024-03-31T04:57:18.549551",
     "exception": false,
     "start_time": "2024-03-31T04:57:05.397040",
     "status": "completed"
    },
    "tags": []
   },
   "outputs": [
    {
     "name": "stderr",
     "output_type": "stream",
     "text": [
      "2024-03-31 04:57:07.428685: E external/local_xla/xla/stream_executor/cuda/cuda_dnn.cc:9261] Unable to register cuDNN factory: Attempting to register factory for plugin cuDNN when one has already been registered\n",
      "2024-03-31 04:57:07.428819: E external/local_xla/xla/stream_executor/cuda/cuda_fft.cc:607] Unable to register cuFFT factory: Attempting to register factory for plugin cuFFT when one has already been registered\n",
      "2024-03-31 04:57:07.577018: E external/local_xla/xla/stream_executor/cuda/cuda_blas.cc:1515] Unable to register cuBLAS factory: Attempting to register factory for plugin cuBLAS when one has already been registered\n"
     ]
    }
   ],
   "source": [
    "import tensorflow as tf\n",
    "import random\n",
    "from tensorflow.keras import layers, Model\n",
    "from tensorflow.keras.losses import kullback_leibler_divergence\n",
    "from tensorflow.keras.callbacks import EarlyStopping\n",
    "\n",
    "\n",
    "# Define the number of input features and output classes\n",
    "num_features = 1390\n",
    "num_classes = 6"
   ]
  },
  {
   "cell_type": "code",
   "execution_count": 7,
   "id": "43c03260",
   "metadata": {
    "execution": {
     "iopub.execute_input": "2024-03-31T04:57:18.566439Z",
     "iopub.status.busy": "2024-03-31T04:57:18.565893Z",
     "iopub.status.idle": "2024-03-31T04:57:19.523122Z",
     "shell.execute_reply": "2024-03-31T04:57:19.522235Z"
    },
    "papermill": {
     "duration": 0.96762,
     "end_time": "2024-03-31T04:57:19.524972",
     "exception": false,
     "start_time": "2024-03-31T04:57:18.557352",
     "status": "completed"
    },
    "tags": []
   },
   "outputs": [
    {
     "data": {
      "text/html": [
       "<pre style=\"white-space:pre;overflow-x:auto;line-height:normal;font-family:Menlo,'DejaVu Sans Mono',consolas,'Courier New',monospace\"><span style=\"font-weight: bold\">Model: \"functional_1\"</span>\n",
       "</pre>\n"
      ],
      "text/plain": [
       "\u001b[1mModel: \"functional_1\"\u001b[0m\n"
      ]
     },
     "metadata": {},
     "output_type": "display_data"
    },
    {
     "data": {
      "text/html": [
       "<pre style=\"white-space:pre;overflow-x:auto;line-height:normal;font-family:Menlo,'DejaVu Sans Mono',consolas,'Courier New',monospace\">┏━━━━━━━━━━━━━━━━━━━━━━━━━━━━━━━━━┳━━━━━━━━━━━━━━━━━━━━━━━━┳━━━━━━━━━━━━━━━┓\n",
       "┃<span style=\"font-weight: bold\"> Layer (type)                    </span>┃<span style=\"font-weight: bold\"> Output Shape           </span>┃<span style=\"font-weight: bold\">       Param # </span>┃\n",
       "┡━━━━━━━━━━━━━━━━━━━━━━━━━━━━━━━━━╇━━━━━━━━━━━━━━━━━━━━━━━━╇━━━━━━━━━━━━━━━┩\n",
       "│ input_layer (<span style=\"color: #0087ff; text-decoration-color: #0087ff\">InputLayer</span>)        │ (<span style=\"color: #00d7ff; text-decoration-color: #00d7ff\">None</span>, <span style=\"color: #00af00; text-decoration-color: #00af00\">1390</span>)           │             <span style=\"color: #00af00; text-decoration-color: #00af00\">0</span> │\n",
       "├─────────────────────────────────┼────────────────────────┼───────────────┤\n",
       "│ dense (<span style=\"color: #0087ff; text-decoration-color: #0087ff\">Dense</span>)                   │ (<span style=\"color: #00d7ff; text-decoration-color: #00d7ff\">None</span>, <span style=\"color: #00af00; text-decoration-color: #00af00\">800</span>)            │     <span style=\"color: #00af00; text-decoration-color: #00af00\">1,112,800</span> │\n",
       "├─────────────────────────────────┼────────────────────────┼───────────────┤\n",
       "│ dropout (<span style=\"color: #0087ff; text-decoration-color: #0087ff\">Dropout</span>)               │ (<span style=\"color: #00d7ff; text-decoration-color: #00d7ff\">None</span>, <span style=\"color: #00af00; text-decoration-color: #00af00\">800</span>)            │             <span style=\"color: #00af00; text-decoration-color: #00af00\">0</span> │\n",
       "├─────────────────────────────────┼────────────────────────┼───────────────┤\n",
       "│ dense_1 (<span style=\"color: #0087ff; text-decoration-color: #0087ff\">Dense</span>)                 │ (<span style=\"color: #00d7ff; text-decoration-color: #00d7ff\">None</span>, <span style=\"color: #00af00; text-decoration-color: #00af00\">600</span>)            │       <span style=\"color: #00af00; text-decoration-color: #00af00\">480,600</span> │\n",
       "├─────────────────────────────────┼────────────────────────┼───────────────┤\n",
       "│ dropout_1 (<span style=\"color: #0087ff; text-decoration-color: #0087ff\">Dropout</span>)             │ (<span style=\"color: #00d7ff; text-decoration-color: #00d7ff\">None</span>, <span style=\"color: #00af00; text-decoration-color: #00af00\">600</span>)            │             <span style=\"color: #00af00; text-decoration-color: #00af00\">0</span> │\n",
       "├─────────────────────────────────┼────────────────────────┼───────────────┤\n",
       "│ dense_2 (<span style=\"color: #0087ff; text-decoration-color: #0087ff\">Dense</span>)                 │ (<span style=\"color: #00d7ff; text-decoration-color: #00d7ff\">None</span>, <span style=\"color: #00af00; text-decoration-color: #00af00\">300</span>)            │       <span style=\"color: #00af00; text-decoration-color: #00af00\">180,300</span> │\n",
       "├─────────────────────────────────┼────────────────────────┼───────────────┤\n",
       "│ dropout_2 (<span style=\"color: #0087ff; text-decoration-color: #0087ff\">Dropout</span>)             │ (<span style=\"color: #00d7ff; text-decoration-color: #00d7ff\">None</span>, <span style=\"color: #00af00; text-decoration-color: #00af00\">300</span>)            │             <span style=\"color: #00af00; text-decoration-color: #00af00\">0</span> │\n",
       "├─────────────────────────────────┼────────────────────────┼───────────────┤\n",
       "│ dense_3 (<span style=\"color: #0087ff; text-decoration-color: #0087ff\">Dense</span>)                 │ (<span style=\"color: #00d7ff; text-decoration-color: #00d7ff\">None</span>, <span style=\"color: #00af00; text-decoration-color: #00af00\">150</span>)            │        <span style=\"color: #00af00; text-decoration-color: #00af00\">45,150</span> │\n",
       "├─────────────────────────────────┼────────────────────────┼───────────────┤\n",
       "│ dense_4 (<span style=\"color: #0087ff; text-decoration-color: #0087ff\">Dense</span>)                 │ (<span style=\"color: #00d7ff; text-decoration-color: #00d7ff\">None</span>, <span style=\"color: #00af00; text-decoration-color: #00af00\">64</span>)             │         <span style=\"color: #00af00; text-decoration-color: #00af00\">9,664</span> │\n",
       "├─────────────────────────────────┼────────────────────────┼───────────────┤\n",
       "│ dense_5 (<span style=\"color: #0087ff; text-decoration-color: #0087ff\">Dense</span>)                 │ (<span style=\"color: #00d7ff; text-decoration-color: #00d7ff\">None</span>, <span style=\"color: #00af00; text-decoration-color: #00af00\">6</span>)              │           <span style=\"color: #00af00; text-decoration-color: #00af00\">390</span> │\n",
       "└─────────────────────────────────┴────────────────────────┴───────────────┘\n",
       "</pre>\n"
      ],
      "text/plain": [
       "┏━━━━━━━━━━━━━━━━━━━━━━━━━━━━━━━━━┳━━━━━━━━━━━━━━━━━━━━━━━━┳━━━━━━━━━━━━━━━┓\n",
       "┃\u001b[1m \u001b[0m\u001b[1mLayer (type)                   \u001b[0m\u001b[1m \u001b[0m┃\u001b[1m \u001b[0m\u001b[1mOutput Shape          \u001b[0m\u001b[1m \u001b[0m┃\u001b[1m \u001b[0m\u001b[1m      Param #\u001b[0m\u001b[1m \u001b[0m┃\n",
       "┡━━━━━━━━━━━━━━━━━━━━━━━━━━━━━━━━━╇━━━━━━━━━━━━━━━━━━━━━━━━╇━━━━━━━━━━━━━━━┩\n",
       "│ input_layer (\u001b[38;5;33mInputLayer\u001b[0m)        │ (\u001b[38;5;45mNone\u001b[0m, \u001b[38;5;34m1390\u001b[0m)           │             \u001b[38;5;34m0\u001b[0m │\n",
       "├─────────────────────────────────┼────────────────────────┼───────────────┤\n",
       "│ dense (\u001b[38;5;33mDense\u001b[0m)                   │ (\u001b[38;5;45mNone\u001b[0m, \u001b[38;5;34m800\u001b[0m)            │     \u001b[38;5;34m1,112,800\u001b[0m │\n",
       "├─────────────────────────────────┼────────────────────────┼───────────────┤\n",
       "│ dropout (\u001b[38;5;33mDropout\u001b[0m)               │ (\u001b[38;5;45mNone\u001b[0m, \u001b[38;5;34m800\u001b[0m)            │             \u001b[38;5;34m0\u001b[0m │\n",
       "├─────────────────────────────────┼────────────────────────┼───────────────┤\n",
       "│ dense_1 (\u001b[38;5;33mDense\u001b[0m)                 │ (\u001b[38;5;45mNone\u001b[0m, \u001b[38;5;34m600\u001b[0m)            │       \u001b[38;5;34m480,600\u001b[0m │\n",
       "├─────────────────────────────────┼────────────────────────┼───────────────┤\n",
       "│ dropout_1 (\u001b[38;5;33mDropout\u001b[0m)             │ (\u001b[38;5;45mNone\u001b[0m, \u001b[38;5;34m600\u001b[0m)            │             \u001b[38;5;34m0\u001b[0m │\n",
       "├─────────────────────────────────┼────────────────────────┼───────────────┤\n",
       "│ dense_2 (\u001b[38;5;33mDense\u001b[0m)                 │ (\u001b[38;5;45mNone\u001b[0m, \u001b[38;5;34m300\u001b[0m)            │       \u001b[38;5;34m180,300\u001b[0m │\n",
       "├─────────────────────────────────┼────────────────────────┼───────────────┤\n",
       "│ dropout_2 (\u001b[38;5;33mDropout\u001b[0m)             │ (\u001b[38;5;45mNone\u001b[0m, \u001b[38;5;34m300\u001b[0m)            │             \u001b[38;5;34m0\u001b[0m │\n",
       "├─────────────────────────────────┼────────────────────────┼───────────────┤\n",
       "│ dense_3 (\u001b[38;5;33mDense\u001b[0m)                 │ (\u001b[38;5;45mNone\u001b[0m, \u001b[38;5;34m150\u001b[0m)            │        \u001b[38;5;34m45,150\u001b[0m │\n",
       "├─────────────────────────────────┼────────────────────────┼───────────────┤\n",
       "│ dense_4 (\u001b[38;5;33mDense\u001b[0m)                 │ (\u001b[38;5;45mNone\u001b[0m, \u001b[38;5;34m64\u001b[0m)             │         \u001b[38;5;34m9,664\u001b[0m │\n",
       "├─────────────────────────────────┼────────────────────────┼───────────────┤\n",
       "│ dense_5 (\u001b[38;5;33mDense\u001b[0m)                 │ (\u001b[38;5;45mNone\u001b[0m, \u001b[38;5;34m6\u001b[0m)              │           \u001b[38;5;34m390\u001b[0m │\n",
       "└─────────────────────────────────┴────────────────────────┴───────────────┘\n"
      ]
     },
     "metadata": {},
     "output_type": "display_data"
    },
    {
     "data": {
      "text/html": [
       "<pre style=\"white-space:pre;overflow-x:auto;line-height:normal;font-family:Menlo,'DejaVu Sans Mono',consolas,'Courier New',monospace\"><span style=\"font-weight: bold\"> Total params: </span><span style=\"color: #00af00; text-decoration-color: #00af00\">1,828,904</span> (6.98 MB)\n",
       "</pre>\n"
      ],
      "text/plain": [
       "\u001b[1m Total params: \u001b[0m\u001b[38;5;34m1,828,904\u001b[0m (6.98 MB)\n"
      ]
     },
     "metadata": {},
     "output_type": "display_data"
    },
    {
     "data": {
      "text/html": [
       "<pre style=\"white-space:pre;overflow-x:auto;line-height:normal;font-family:Menlo,'DejaVu Sans Mono',consolas,'Courier New',monospace\"><span style=\"font-weight: bold\"> Trainable params: </span><span style=\"color: #00af00; text-decoration-color: #00af00\">1,828,904</span> (6.98 MB)\n",
       "</pre>\n"
      ],
      "text/plain": [
       "\u001b[1m Trainable params: \u001b[0m\u001b[38;5;34m1,828,904\u001b[0m (6.98 MB)\n"
      ]
     },
     "metadata": {},
     "output_type": "display_data"
    },
    {
     "data": {
      "text/html": [
       "<pre style=\"white-space:pre;overflow-x:auto;line-height:normal;font-family:Menlo,'DejaVu Sans Mono',consolas,'Courier New',monospace\"><span style=\"font-weight: bold\"> Non-trainable params: </span><span style=\"color: #00af00; text-decoration-color: #00af00\">0</span> (0.00 B)\n",
       "</pre>\n"
      ],
      "text/plain": [
       "\u001b[1m Non-trainable params: \u001b[0m\u001b[38;5;34m0\u001b[0m (0.00 B)\n"
      ]
     },
     "metadata": {},
     "output_type": "display_data"
    }
   ],
   "source": [
    "# Set random seeds for reproducibility\n",
    "seed_value = 69\n",
    "\n",
    "# 1. Set the seed for Python's built-in random number generator\n",
    "random.seed(seed_value)\n",
    "# 2. Set the seed for NumPy\n",
    "np.random.seed(seed_value)\n",
    "# 3. Set the seed for TensorFlow\n",
    "tf.random.set_seed(seed_value)\n",
    "\n",
    "# Performance on total train dataset w/ 10% portioned for test: 0.655\n",
    "\n",
    "\n",
    "\n",
    "# Random attempt\n",
    "def create_model():\n",
    "    inputs = tf.keras.Input(shape=(num_features,))\n",
    "    \n",
    "    x = layers.Dense(800, activation='tanh')(inputs)\n",
    "    x = layers.Dropout(0.5)(x)\n",
    "    x = layers.Dense(600, activation='relu')(x)\n",
    "    x = layers.Dropout(0.2)(x)\n",
    "    \n",
    "    \n",
    "    x = layers.Dense(300, activation='relu')(x)\n",
    "    x = layers.Dropout(0.1)(x)\n",
    "    x = layers.Dense(150, activation='relu')(x)\n",
    "    x = layers.Dense(64, activation='relu')(x)\n",
    "\n",
    "    outputs = layers.Dense(num_classes, activation='softmax')(x)\n",
    "    model = Model(inputs, outputs)\n",
    "    return model\n",
    "\n",
    "# Instantiate the model\n",
    "model = create_model()\n",
    "\n",
    "# Compile the model with KL divergence loss\n",
    "model.compile(optimizer='adam',\n",
    "              loss=kullback_leibler_divergence)\n",
    "\n",
    "# Print the model summary\n",
    "model.summary()"
   ]
  },
  {
   "cell_type": "markdown",
   "id": "a9395cc4",
   "metadata": {
    "papermill": {
     "duration": 0.007822,
     "end_time": "2024-03-31T04:57:19.540937",
     "exception": false,
     "start_time": "2024-03-31T04:57:19.533115",
     "status": "completed"
    },
    "tags": []
   },
   "source": [
    "Train"
   ]
  },
  {
   "cell_type": "code",
   "execution_count": 8,
   "id": "aabd7589",
   "metadata": {
    "execution": {
     "iopub.execute_input": "2024-03-31T04:57:19.558290Z",
     "iopub.status.busy": "2024-03-31T04:57:19.557964Z",
     "iopub.status.idle": "2024-03-31T04:59:24.769935Z",
     "shell.execute_reply": "2024-03-31T04:59:24.768856Z"
    },
    "papermill": {
     "duration": 125.223503,
     "end_time": "2024-03-31T04:59:24.772608",
     "exception": false,
     "start_time": "2024-03-31T04:57:19.549105",
     "status": "completed"
    },
    "scrolled": true,
    "tags": []
   },
   "outputs": [
    {
     "name": "stdout",
     "output_type": "stream",
     "text": [
      "Epoch 1/1000\n",
      "\u001b[1m 30/203\u001b[0m \u001b[32m━━\u001b[0m\u001b[37m━━━━━━━━━━━━━━━━━━\u001b[0m \u001b[1m0s\u001b[0m 5ms/step - loss: 1.4631"
     ]
    },
    {
     "name": "stderr",
     "output_type": "stream",
     "text": [
      "WARNING: All log messages before absl::InitializeLog() is called are written to STDERR\n",
      "I0000 00:00:1711861049.398685      97 device_compiler.h:186] Compiled cluster using XLA!  This line is logged at most once for the lifetime of the process.\n",
      "W0000 00:00:1711861049.414966      97 graph_launch.cc:671] Fallback to op-by-op mode because memset node breaks graph update\n"
     ]
    },
    {
     "name": "stdout",
     "output_type": "stream",
     "text": [
      "\u001b[1m203/203\u001b[0m \u001b[32m━━━━━━━━━━━━━━━━━━━━\u001b[0m\u001b[37m\u001b[0m \u001b[1m0s\u001b[0m 32ms/step - loss: 1.3243"
     ]
    },
    {
     "name": "stderr",
     "output_type": "stream",
     "text": [
      "W0000 00:00:1711861055.910515      97 graph_launch.cc:671] Fallback to op-by-op mode because memset node breaks graph update\n",
      "W0000 00:00:1711861056.515368      97 graph_launch.cc:671] Fallback to op-by-op mode because memset node breaks graph update\n"
     ]
    },
    {
     "name": "stdout",
     "output_type": "stream",
     "text": [
      "\u001b[1m203/203\u001b[0m \u001b[32m━━━━━━━━━━━━━━━━━━━━\u001b[0m\u001b[37m\u001b[0m \u001b[1m16s\u001b[0m 38ms/step - loss: 1.3240 - val_loss: 1.1042\n",
      "Epoch 2/1000\n",
      "\u001b[1m 28/203\u001b[0m \u001b[32m━━\u001b[0m\u001b[37m━━━━━━━━━━━━━━━━━━\u001b[0m \u001b[1m0s\u001b[0m 4ms/step - loss: 1.1502"
     ]
    },
    {
     "name": "stderr",
     "output_type": "stream",
     "text": [
      "W0000 00:00:1711861057.122906      99 graph_launch.cc:671] Fallback to op-by-op mode because memset node breaks graph update\n"
     ]
    },
    {
     "name": "stdout",
     "output_type": "stream",
     "text": [
      "\u001b[1m203/203\u001b[0m \u001b[32m━━━━━━━━━━━━━━━━━━━━\u001b[0m\u001b[37m\u001b[0m \u001b[1m1s\u001b[0m 4ms/step - loss: 1.1334 - val_loss: 1.0134\n",
      "Epoch 3/1000\n",
      "\u001b[1m203/203\u001b[0m \u001b[32m━━━━━━━━━━━━━━━━━━━━\u001b[0m\u001b[37m\u001b[0m \u001b[1m1s\u001b[0m 4ms/step - loss: 1.0597 - val_loss: 0.9592\n",
      "Epoch 4/1000\n",
      "\u001b[1m203/203\u001b[0m \u001b[32m━━━━━━━━━━━━━━━━━━━━\u001b[0m\u001b[37m\u001b[0m \u001b[1m1s\u001b[0m 4ms/step - loss: 1.0064 - val_loss: 0.9151\n",
      "Epoch 5/1000\n",
      "\u001b[1m203/203\u001b[0m \u001b[32m━━━━━━━━━━━━━━━━━━━━\u001b[0m\u001b[37m\u001b[0m \u001b[1m1s\u001b[0m 4ms/step - loss: 0.9706 - val_loss: 0.8828\n",
      "Epoch 6/1000\n",
      "\u001b[1m203/203\u001b[0m \u001b[32m━━━━━━━━━━━━━━━━━━━━\u001b[0m\u001b[37m\u001b[0m \u001b[1m1s\u001b[0m 4ms/step - loss: 0.9460 - val_loss: 0.8630\n",
      "Epoch 7/1000\n",
      "\u001b[1m203/203\u001b[0m \u001b[32m━━━━━━━━━━━━━━━━━━━━\u001b[0m\u001b[37m\u001b[0m \u001b[1m1s\u001b[0m 4ms/step - loss: 0.9167 - val_loss: 0.8434\n",
      "Epoch 8/1000\n",
      "\u001b[1m203/203\u001b[0m \u001b[32m━━━━━━━━━━━━━━━━━━━━\u001b[0m\u001b[37m\u001b[0m \u001b[1m1s\u001b[0m 4ms/step - loss: 0.8956 - val_loss: 0.8322\n",
      "Epoch 9/1000\n",
      "\u001b[1m203/203\u001b[0m \u001b[32m━━━━━━━━━━━━━━━━━━━━\u001b[0m\u001b[37m\u001b[0m \u001b[1m1s\u001b[0m 4ms/step - loss: 0.8786 - val_loss: 0.8122\n",
      "Epoch 10/1000\n",
      "\u001b[1m203/203\u001b[0m \u001b[32m━━━━━━━━━━━━━━━━━━━━\u001b[0m\u001b[37m\u001b[0m \u001b[1m1s\u001b[0m 4ms/step - loss: 0.8645 - val_loss: 0.8038\n",
      "Epoch 11/1000\n",
      "\u001b[1m203/203\u001b[0m \u001b[32m━━━━━━━━━━━━━━━━━━━━\u001b[0m\u001b[37m\u001b[0m \u001b[1m1s\u001b[0m 4ms/step - loss: 0.8519 - val_loss: 0.7959\n",
      "Epoch 12/1000\n",
      "\u001b[1m203/203\u001b[0m \u001b[32m━━━━━━━━━━━━━━━━━━━━\u001b[0m\u001b[37m\u001b[0m \u001b[1m1s\u001b[0m 4ms/step - loss: 0.8397 - val_loss: 0.7831\n",
      "Epoch 13/1000\n",
      "\u001b[1m203/203\u001b[0m \u001b[32m━━━━━━━━━━━━━━━━━━━━\u001b[0m\u001b[37m\u001b[0m \u001b[1m1s\u001b[0m 4ms/step - loss: 0.8270 - val_loss: 0.7770\n",
      "Epoch 14/1000\n",
      "\u001b[1m203/203\u001b[0m \u001b[32m━━━━━━━━━━━━━━━━━━━━\u001b[0m\u001b[37m\u001b[0m \u001b[1m1s\u001b[0m 4ms/step - loss: 0.8164 - val_loss: 0.7691\n",
      "Epoch 15/1000\n",
      "\u001b[1m203/203\u001b[0m \u001b[32m━━━━━━━━━━━━━━━━━━━━\u001b[0m\u001b[37m\u001b[0m \u001b[1m1s\u001b[0m 4ms/step - loss: 0.8103 - val_loss: 0.7646\n",
      "Epoch 16/1000\n",
      "\u001b[1m203/203\u001b[0m \u001b[32m━━━━━━━━━━━━━━━━━━━━\u001b[0m\u001b[37m\u001b[0m \u001b[1m1s\u001b[0m 4ms/step - loss: 0.7990 - val_loss: 0.7592\n",
      "Epoch 17/1000\n",
      "\u001b[1m203/203\u001b[0m \u001b[32m━━━━━━━━━━━━━━━━━━━━\u001b[0m\u001b[37m\u001b[0m \u001b[1m1s\u001b[0m 4ms/step - loss: 0.7944 - val_loss: 0.7521\n",
      "Epoch 18/1000\n",
      "\u001b[1m203/203\u001b[0m \u001b[32m━━━━━━━━━━━━━━━━━━━━\u001b[0m\u001b[37m\u001b[0m \u001b[1m1s\u001b[0m 4ms/step - loss: 0.7888 - val_loss: 0.7509\n",
      "Epoch 19/1000\n",
      "\u001b[1m203/203\u001b[0m \u001b[32m━━━━━━━━━━━━━━━━━━━━\u001b[0m\u001b[37m\u001b[0m \u001b[1m1s\u001b[0m 4ms/step - loss: 0.7867 - val_loss: 0.7471\n",
      "Epoch 20/1000\n",
      "\u001b[1m203/203\u001b[0m \u001b[32m━━━━━━━━━━━━━━━━━━━━\u001b[0m\u001b[37m\u001b[0m \u001b[1m1s\u001b[0m 4ms/step - loss: 0.7764 - val_loss: 0.7370\n",
      "Epoch 21/1000\n",
      "\u001b[1m203/203\u001b[0m \u001b[32m━━━━━━━━━━━━━━━━━━━━\u001b[0m\u001b[37m\u001b[0m \u001b[1m1s\u001b[0m 4ms/step - loss: 0.7714 - val_loss: 0.7351\n",
      "Epoch 22/1000\n",
      "\u001b[1m203/203\u001b[0m \u001b[32m━━━━━━━━━━━━━━━━━━━━\u001b[0m\u001b[37m\u001b[0m \u001b[1m1s\u001b[0m 4ms/step - loss: 0.7678 - val_loss: 0.7309\n",
      "Epoch 23/1000\n",
      "\u001b[1m203/203\u001b[0m \u001b[32m━━━━━━━━━━━━━━━━━━━━\u001b[0m\u001b[37m\u001b[0m \u001b[1m1s\u001b[0m 4ms/step - loss: 0.7672 - val_loss: 0.7259\n",
      "Epoch 24/1000\n",
      "\u001b[1m203/203\u001b[0m \u001b[32m━━━━━━━━━━━━━━━━━━━━\u001b[0m\u001b[37m\u001b[0m \u001b[1m1s\u001b[0m 4ms/step - loss: 0.7613 - val_loss: 0.7306\n",
      "Epoch 25/1000\n",
      "\u001b[1m203/203\u001b[0m \u001b[32m━━━━━━━━━━━━━━━━━━━━\u001b[0m\u001b[37m\u001b[0m \u001b[1m1s\u001b[0m 4ms/step - loss: 0.7547 - val_loss: 0.7257\n",
      "Epoch 26/1000\n",
      "\u001b[1m203/203\u001b[0m \u001b[32m━━━━━━━━━━━━━━━━━━━━\u001b[0m\u001b[37m\u001b[0m \u001b[1m1s\u001b[0m 4ms/step - loss: 0.7526 - val_loss: 0.7275\n",
      "Epoch 27/1000\n",
      "\u001b[1m203/203\u001b[0m \u001b[32m━━━━━━━━━━━━━━━━━━━━\u001b[0m\u001b[37m\u001b[0m \u001b[1m1s\u001b[0m 4ms/step - loss: 0.7550 - val_loss: 0.7218\n",
      "Epoch 28/1000\n",
      "\u001b[1m203/203\u001b[0m \u001b[32m━━━━━━━━━━━━━━━━━━━━\u001b[0m\u001b[37m\u001b[0m \u001b[1m1s\u001b[0m 4ms/step - loss: 0.7466 - val_loss: 0.7156\n",
      "Epoch 29/1000\n",
      "\u001b[1m203/203\u001b[0m \u001b[32m━━━━━━━━━━━━━━━━━━━━\u001b[0m\u001b[37m\u001b[0m \u001b[1m1s\u001b[0m 4ms/step - loss: 0.7422 - val_loss: 0.7130\n",
      "Epoch 30/1000\n",
      "\u001b[1m203/203\u001b[0m \u001b[32m━━━━━━━━━━━━━━━━━━━━\u001b[0m\u001b[37m\u001b[0m \u001b[1m1s\u001b[0m 4ms/step - loss: 0.7374 - val_loss: 0.7128\n",
      "Epoch 31/1000\n",
      "\u001b[1m203/203\u001b[0m \u001b[32m━━━━━━━━━━━━━━━━━━━━\u001b[0m\u001b[37m\u001b[0m \u001b[1m1s\u001b[0m 4ms/step - loss: 0.7364 - val_loss: 0.7126\n",
      "Epoch 32/1000\n",
      "\u001b[1m203/203\u001b[0m \u001b[32m━━━━━━━━━━━━━━━━━━━━\u001b[0m\u001b[37m\u001b[0m \u001b[1m1s\u001b[0m 4ms/step - loss: 0.7327 - val_loss: 0.7066\n",
      "Epoch 33/1000\n",
      "\u001b[1m203/203\u001b[0m \u001b[32m━━━━━━━━━━━━━━━━━━━━\u001b[0m\u001b[37m\u001b[0m \u001b[1m1s\u001b[0m 4ms/step - loss: 0.7294 - val_loss: 0.7095\n",
      "Epoch 34/1000\n",
      "\u001b[1m203/203\u001b[0m \u001b[32m━━━━━━━━━━━━━━━━━━━━\u001b[0m\u001b[37m\u001b[0m \u001b[1m1s\u001b[0m 4ms/step - loss: 0.7248 - val_loss: 0.7081\n",
      "Epoch 35/1000\n",
      "\u001b[1m203/203\u001b[0m \u001b[32m━━━━━━━━━━━━━━━━━━━━\u001b[0m\u001b[37m\u001b[0m \u001b[1m1s\u001b[0m 4ms/step - loss: 0.7237 - val_loss: 0.7043\n",
      "Epoch 36/1000\n",
      "\u001b[1m203/203\u001b[0m \u001b[32m━━━━━━━━━━━━━━━━━━━━\u001b[0m\u001b[37m\u001b[0m \u001b[1m1s\u001b[0m 4ms/step - loss: 0.7250 - val_loss: 0.7024\n",
      "Epoch 37/1000\n",
      "\u001b[1m203/203\u001b[0m \u001b[32m━━━━━━━━━━━━━━━━━━━━\u001b[0m\u001b[37m\u001b[0m \u001b[1m1s\u001b[0m 4ms/step - loss: 0.7192 - val_loss: 0.7020\n",
      "Epoch 38/1000\n",
      "\u001b[1m203/203\u001b[0m \u001b[32m━━━━━━━━━━━━━━━━━━━━\u001b[0m\u001b[37m\u001b[0m \u001b[1m1s\u001b[0m 4ms/step - loss: 0.7189 - val_loss: 0.6982\n",
      "Epoch 39/1000\n",
      "\u001b[1m203/203\u001b[0m \u001b[32m━━━━━━━━━━━━━━━━━━━━\u001b[0m\u001b[37m\u001b[0m \u001b[1m1s\u001b[0m 4ms/step - loss: 0.7174 - val_loss: 0.6973\n",
      "Epoch 40/1000\n",
      "\u001b[1m203/203\u001b[0m \u001b[32m━━━━━━━━━━━━━━━━━━━━\u001b[0m\u001b[37m\u001b[0m \u001b[1m1s\u001b[0m 4ms/step - loss: 0.7139 - val_loss: 0.7011\n",
      "Epoch 41/1000\n",
      "\u001b[1m203/203\u001b[0m \u001b[32m━━━━━━━━━━━━━━━━━━━━\u001b[0m\u001b[37m\u001b[0m \u001b[1m1s\u001b[0m 4ms/step - loss: 0.7158 - val_loss: 0.6974\n",
      "Epoch 42/1000\n",
      "\u001b[1m203/203\u001b[0m \u001b[32m━━━━━━━━━━━━━━━━━━━━\u001b[0m\u001b[37m\u001b[0m \u001b[1m1s\u001b[0m 4ms/step - loss: 0.7133 - val_loss: 0.7010\n",
      "Epoch 43/1000\n",
      "\u001b[1m203/203\u001b[0m \u001b[32m━━━━━━━━━━━━━━━━━━━━\u001b[0m\u001b[37m\u001b[0m \u001b[1m1s\u001b[0m 4ms/step - loss: 0.7122 - val_loss: 0.6972\n",
      "Epoch 44/1000\n",
      "\u001b[1m203/203\u001b[0m \u001b[32m━━━━━━━━━━━━━━━━━━━━\u001b[0m\u001b[37m\u001b[0m \u001b[1m1s\u001b[0m 4ms/step - loss: 0.7049 - val_loss: 0.6960\n",
      "Epoch 45/1000\n",
      "\u001b[1m203/203\u001b[0m \u001b[32m━━━━━━━━━━━━━━━━━━━━\u001b[0m\u001b[37m\u001b[0m \u001b[1m1s\u001b[0m 4ms/step - loss: 0.7077 - val_loss: 0.6914\n",
      "Epoch 46/1000\n",
      "\u001b[1m203/203\u001b[0m \u001b[32m━━━━━━━━━━━━━━━━━━━━\u001b[0m\u001b[37m\u001b[0m \u001b[1m1s\u001b[0m 4ms/step - loss: 0.7037 - val_loss: 0.6934\n",
      "Epoch 47/1000\n",
      "\u001b[1m203/203\u001b[0m \u001b[32m━━━━━━━━━━━━━━━━━━━━\u001b[0m\u001b[37m\u001b[0m \u001b[1m1s\u001b[0m 4ms/step - loss: 0.7031 - val_loss: 0.6949\n",
      "Epoch 48/1000\n",
      "\u001b[1m203/203\u001b[0m \u001b[32m━━━━━━━━━━━━━━━━━━━━\u001b[0m\u001b[37m\u001b[0m \u001b[1m1s\u001b[0m 4ms/step - loss: 0.7029 - val_loss: 0.6921\n",
      "Epoch 49/1000\n",
      "\u001b[1m203/203\u001b[0m \u001b[32m━━━━━━━━━━━━━━━━━━━━\u001b[0m\u001b[37m\u001b[0m \u001b[1m1s\u001b[0m 4ms/step - loss: 0.7010 - val_loss: 0.6901\n",
      "Epoch 50/1000\n",
      "\u001b[1m203/203\u001b[0m \u001b[32m━━━━━━━━━━━━━━━━━━━━\u001b[0m\u001b[37m\u001b[0m \u001b[1m1s\u001b[0m 4ms/step - loss: 0.6984 - val_loss: 0.6875\n",
      "Epoch 51/1000\n",
      "\u001b[1m203/203\u001b[0m \u001b[32m━━━━━━━━━━━━━━━━━━━━\u001b[0m\u001b[37m\u001b[0m \u001b[1m1s\u001b[0m 4ms/step - loss: 0.6942 - val_loss: 0.6894\n",
      "Epoch 52/1000\n",
      "\u001b[1m203/203\u001b[0m \u001b[32m━━━━━━━━━━━━━━━━━━━━\u001b[0m\u001b[37m\u001b[0m \u001b[1m1s\u001b[0m 4ms/step - loss: 0.6928 - val_loss: 0.6917\n",
      "Epoch 53/1000\n",
      "\u001b[1m203/203\u001b[0m \u001b[32m━━━━━━━━━━━━━━━━━━━━\u001b[0m\u001b[37m\u001b[0m \u001b[1m1s\u001b[0m 4ms/step - loss: 0.6943 - val_loss: 0.6860\n",
      "Epoch 54/1000\n",
      "\u001b[1m203/203\u001b[0m \u001b[32m━━━━━━━━━━━━━━━━━━━━\u001b[0m\u001b[37m\u001b[0m \u001b[1m1s\u001b[0m 4ms/step - loss: 0.6930 - val_loss: 0.6907\n",
      "Epoch 55/1000\n",
      "\u001b[1m203/203\u001b[0m \u001b[32m━━━━━━━━━━━━━━━━━━━━\u001b[0m\u001b[37m\u001b[0m \u001b[1m1s\u001b[0m 4ms/step - loss: 0.6953 - val_loss: 0.6875\n",
      "Epoch 56/1000\n",
      "\u001b[1m203/203\u001b[0m \u001b[32m━━━━━━━━━━━━━━━━━━━━\u001b[0m\u001b[37m\u001b[0m \u001b[1m1s\u001b[0m 4ms/step - loss: 0.6911 - val_loss: 0.6842\n",
      "Epoch 57/1000\n",
      "\u001b[1m203/203\u001b[0m \u001b[32m━━━━━━━━━━━━━━━━━━━━\u001b[0m\u001b[37m\u001b[0m \u001b[1m1s\u001b[0m 4ms/step - loss: 0.6844 - val_loss: 0.6841\n",
      "Epoch 58/1000\n",
      "\u001b[1m203/203\u001b[0m \u001b[32m━━━━━━━━━━━━━━━━━━━━\u001b[0m\u001b[37m\u001b[0m \u001b[1m1s\u001b[0m 4ms/step - loss: 0.6886 - val_loss: 0.6870\n",
      "Epoch 59/1000\n",
      "\u001b[1m203/203\u001b[0m \u001b[32m━━━━━━━━━━━━━━━━━━━━\u001b[0m\u001b[37m\u001b[0m \u001b[1m1s\u001b[0m 4ms/step - loss: 0.6893 - val_loss: 0.6853\n",
      "Epoch 60/1000\n",
      "\u001b[1m203/203\u001b[0m \u001b[32m━━━━━━━━━━━━━━━━━━━━\u001b[0m\u001b[37m\u001b[0m \u001b[1m1s\u001b[0m 4ms/step - loss: 0.6863 - val_loss: 0.6848\n",
      "Epoch 61/1000\n",
      "\u001b[1m203/203\u001b[0m \u001b[32m━━━━━━━━━━━━━━━━━━━━\u001b[0m\u001b[37m\u001b[0m \u001b[1m1s\u001b[0m 4ms/step - loss: 0.6832 - val_loss: 0.6880\n",
      "Epoch 62/1000\n",
      "\u001b[1m203/203\u001b[0m \u001b[32m━━━━━━━━━━━━━━━━━━━━\u001b[0m\u001b[37m\u001b[0m \u001b[1m1s\u001b[0m 4ms/step - loss: 0.6828 - val_loss: 0.6837\n",
      "Epoch 63/1000\n",
      "\u001b[1m203/203\u001b[0m \u001b[32m━━━━━━━━━━━━━━━━━━━━\u001b[0m\u001b[37m\u001b[0m \u001b[1m1s\u001b[0m 4ms/step - loss: 0.6804 - val_loss: 0.6825\n",
      "Epoch 64/1000\n",
      "\u001b[1m203/203\u001b[0m \u001b[32m━━━━━━━━━━━━━━━━━━━━\u001b[0m\u001b[37m\u001b[0m \u001b[1m1s\u001b[0m 4ms/step - loss: 0.6813 - val_loss: 0.6798\n",
      "Epoch 65/1000\n",
      "\u001b[1m203/203\u001b[0m \u001b[32m━━━━━━━━━━━━━━━━━━━━\u001b[0m\u001b[37m\u001b[0m \u001b[1m1s\u001b[0m 4ms/step - loss: 0.6793 - val_loss: 0.6812\n",
      "Epoch 66/1000\n",
      "\u001b[1m203/203\u001b[0m \u001b[32m━━━━━━━━━━━━━━━━━━━━\u001b[0m\u001b[37m\u001b[0m \u001b[1m1s\u001b[0m 4ms/step - loss: 0.6777 - val_loss: 0.6857\n",
      "Epoch 67/1000\n",
      "\u001b[1m203/203\u001b[0m \u001b[32m━━━━━━━━━━━━━━━━━━━━\u001b[0m\u001b[37m\u001b[0m \u001b[1m1s\u001b[0m 4ms/step - loss: 0.6767 - val_loss: 0.6804\n",
      "Epoch 68/1000\n",
      "\u001b[1m203/203\u001b[0m \u001b[32m━━━━━━━━━━━━━━━━━━━━\u001b[0m\u001b[37m\u001b[0m \u001b[1m1s\u001b[0m 4ms/step - loss: 0.6745 - val_loss: 0.6805\n",
      "Epoch 69/1000\n",
      "\u001b[1m203/203\u001b[0m \u001b[32m━━━━━━━━━━━━━━━━━━━━\u001b[0m\u001b[37m\u001b[0m \u001b[1m1s\u001b[0m 4ms/step - loss: 0.6694 - val_loss: 0.6766\n",
      "Epoch 70/1000\n",
      "\u001b[1m203/203\u001b[0m \u001b[32m━━━━━━━━━━━━━━━━━━━━\u001b[0m\u001b[37m\u001b[0m \u001b[1m1s\u001b[0m 4ms/step - loss: 0.6711 - val_loss: 0.6777\n",
      "Epoch 71/1000\n",
      "\u001b[1m203/203\u001b[0m \u001b[32m━━━━━━━━━━━━━━━━━━━━\u001b[0m\u001b[37m\u001b[0m \u001b[1m1s\u001b[0m 4ms/step - loss: 0.6721 - val_loss: 0.6783\n",
      "Epoch 72/1000\n",
      "\u001b[1m203/203\u001b[0m \u001b[32m━━━━━━━━━━━━━━━━━━━━\u001b[0m\u001b[37m\u001b[0m \u001b[1m1s\u001b[0m 4ms/step - loss: 0.6695 - val_loss: 0.6775\n",
      "Epoch 73/1000\n",
      "\u001b[1m203/203\u001b[0m \u001b[32m━━━━━━━━━━━━━━━━━━━━\u001b[0m\u001b[37m\u001b[0m \u001b[1m1s\u001b[0m 4ms/step - loss: 0.6722 - val_loss: 0.6802\n",
      "Epoch 74/1000\n",
      "\u001b[1m203/203\u001b[0m \u001b[32m━━━━━━━━━━━━━━━━━━━━\u001b[0m\u001b[37m\u001b[0m \u001b[1m1s\u001b[0m 4ms/step - loss: 0.6694 - val_loss: 0.6771\n",
      "Epoch 75/1000\n",
      "\u001b[1m203/203\u001b[0m \u001b[32m━━━━━━━━━━━━━━━━━━━━\u001b[0m\u001b[37m\u001b[0m \u001b[1m1s\u001b[0m 4ms/step - loss: 0.6644 - val_loss: 0.6770\n",
      "Epoch 76/1000\n",
      "\u001b[1m203/203\u001b[0m \u001b[32m━━━━━━━━━━━━━━━━━━━━\u001b[0m\u001b[37m\u001b[0m \u001b[1m1s\u001b[0m 4ms/step - loss: 0.6592 - val_loss: 0.6790\n",
      "Epoch 77/1000\n",
      "\u001b[1m203/203\u001b[0m \u001b[32m━━━━━━━━━━━━━━━━━━━━\u001b[0m\u001b[37m\u001b[0m \u001b[1m1s\u001b[0m 4ms/step - loss: 0.6630 - val_loss: 0.6726\n",
      "Epoch 78/1000\n",
      "\u001b[1m203/203\u001b[0m \u001b[32m━━━━━━━━━━━━━━━━━━━━\u001b[0m\u001b[37m\u001b[0m \u001b[1m1s\u001b[0m 4ms/step - loss: 0.6624 - val_loss: 0.6727\n",
      "Epoch 79/1000\n",
      "\u001b[1m203/203\u001b[0m \u001b[32m━━━━━━━━━━━━━━━━━━━━\u001b[0m\u001b[37m\u001b[0m \u001b[1m1s\u001b[0m 4ms/step - loss: 0.6644 - val_loss: 0.6698\n",
      "Epoch 80/1000\n",
      "\u001b[1m203/203\u001b[0m \u001b[32m━━━━━━━━━━━━━━━━━━━━\u001b[0m\u001b[37m\u001b[0m \u001b[1m1s\u001b[0m 4ms/step - loss: 0.6581 - val_loss: 0.6713\n",
      "Epoch 81/1000\n",
      "\u001b[1m203/203\u001b[0m \u001b[32m━━━━━━━━━━━━━━━━━━━━\u001b[0m\u001b[37m\u001b[0m \u001b[1m1s\u001b[0m 4ms/step - loss: 0.6605 - val_loss: 0.6688\n",
      "Epoch 82/1000\n",
      "\u001b[1m203/203\u001b[0m \u001b[32m━━━━━━━━━━━━━━━━━━━━\u001b[0m\u001b[37m\u001b[0m \u001b[1m1s\u001b[0m 4ms/step - loss: 0.6551 - val_loss: 0.6698\n",
      "Epoch 83/1000\n",
      "\u001b[1m203/203\u001b[0m \u001b[32m━━━━━━━━━━━━━━━━━━━━\u001b[0m\u001b[37m\u001b[0m \u001b[1m1s\u001b[0m 4ms/step - loss: 0.6586 - val_loss: 0.6718\n",
      "Epoch 84/1000\n",
      "\u001b[1m203/203\u001b[0m \u001b[32m━━━━━━━━━━━━━━━━━━━━\u001b[0m\u001b[37m\u001b[0m \u001b[1m1s\u001b[0m 4ms/step - loss: 0.6522 - val_loss: 0.6752\n",
      "Epoch 85/1000\n",
      "\u001b[1m203/203\u001b[0m \u001b[32m━━━━━━━━━━━━━━━━━━━━\u001b[0m\u001b[37m\u001b[0m \u001b[1m1s\u001b[0m 4ms/step - loss: 0.6557 - val_loss: 0.6719\n",
      "Epoch 86/1000\n",
      "\u001b[1m203/203\u001b[0m \u001b[32m━━━━━━━━━━━━━━━━━━━━\u001b[0m\u001b[37m\u001b[0m \u001b[1m1s\u001b[0m 4ms/step - loss: 0.6552 - val_loss: 0.6679\n",
      "Epoch 87/1000\n",
      "\u001b[1m203/203\u001b[0m \u001b[32m━━━━━━━━━━━━━━━━━━━━\u001b[0m\u001b[37m\u001b[0m \u001b[1m1s\u001b[0m 4ms/step - loss: 0.6519 - val_loss: 0.6740\n",
      "Epoch 88/1000\n",
      "\u001b[1m203/203\u001b[0m \u001b[32m━━━━━━━━━━━━━━━━━━━━\u001b[0m\u001b[37m\u001b[0m \u001b[1m1s\u001b[0m 4ms/step - loss: 0.6498 - val_loss: 0.6708\n",
      "Epoch 89/1000\n",
      "\u001b[1m203/203\u001b[0m \u001b[32m━━━━━━━━━━━━━━━━━━━━\u001b[0m\u001b[37m\u001b[0m \u001b[1m1s\u001b[0m 4ms/step - loss: 0.6529 - val_loss: 0.6729\n",
      "Epoch 90/1000\n",
      "\u001b[1m203/203\u001b[0m \u001b[32m━━━━━━━━━━━━━━━━━━━━\u001b[0m\u001b[37m\u001b[0m \u001b[1m1s\u001b[0m 4ms/step - loss: 0.6472 - val_loss: 0.6657\n",
      "Epoch 91/1000\n",
      "\u001b[1m203/203\u001b[0m \u001b[32m━━━━━━━━━━━━━━━━━━━━\u001b[0m\u001b[37m\u001b[0m \u001b[1m1s\u001b[0m 4ms/step - loss: 0.6481 - val_loss: 0.6702\n",
      "Epoch 92/1000\n",
      "\u001b[1m203/203\u001b[0m \u001b[32m━━━━━━━━━━━━━━━━━━━━\u001b[0m\u001b[37m\u001b[0m \u001b[1m1s\u001b[0m 4ms/step - loss: 0.6496 - val_loss: 0.6684\n",
      "Epoch 93/1000\n",
      "\u001b[1m203/203\u001b[0m \u001b[32m━━━━━━━━━━━━━━━━━━━━\u001b[0m\u001b[37m\u001b[0m \u001b[1m1s\u001b[0m 4ms/step - loss: 0.6534 - val_loss: 0.6620\n",
      "Epoch 94/1000\n",
      "\u001b[1m203/203\u001b[0m \u001b[32m━━━━━━━━━━━━━━━━━━━━\u001b[0m\u001b[37m\u001b[0m \u001b[1m1s\u001b[0m 4ms/step - loss: 0.6423 - val_loss: 0.6666\n",
      "Epoch 95/1000\n",
      "\u001b[1m203/203\u001b[0m \u001b[32m━━━━━━━━━━━━━━━━━━━━\u001b[0m\u001b[37m\u001b[0m \u001b[1m1s\u001b[0m 4ms/step - loss: 0.6470 - val_loss: 0.6644\n",
      "Epoch 96/1000\n",
      "\u001b[1m203/203\u001b[0m \u001b[32m━━━━━━━━━━━━━━━━━━━━\u001b[0m\u001b[37m\u001b[0m \u001b[1m1s\u001b[0m 4ms/step - loss: 0.6433 - val_loss: 0.6640\n",
      "Epoch 97/1000\n",
      "\u001b[1m203/203\u001b[0m \u001b[32m━━━━━━━━━━━━━━━━━━━━\u001b[0m\u001b[37m\u001b[0m \u001b[1m1s\u001b[0m 4ms/step - loss: 0.6458 - val_loss: 0.6662\n",
      "Epoch 98/1000\n",
      "\u001b[1m203/203\u001b[0m \u001b[32m━━━━━━━━━━━━━━━━━━━━\u001b[0m\u001b[37m\u001b[0m \u001b[1m1s\u001b[0m 4ms/step - loss: 0.6433 - val_loss: 0.6655\n",
      "Epoch 99/1000\n",
      "\u001b[1m203/203\u001b[0m \u001b[32m━━━━━━━━━━━━━━━━━━━━\u001b[0m\u001b[37m\u001b[0m \u001b[1m1s\u001b[0m 4ms/step - loss: 0.6396 - val_loss: 0.6671\n",
      "Epoch 100/1000\n",
      "\u001b[1m203/203\u001b[0m \u001b[32m━━━━━━━━━━━━━━━━━━━━\u001b[0m\u001b[37m\u001b[0m \u001b[1m1s\u001b[0m 4ms/step - loss: 0.6408 - val_loss: 0.6639\n",
      "Epoch 101/1000\n",
      "\u001b[1m203/203\u001b[0m \u001b[32m━━━━━━━━━━━━━━━━━━━━\u001b[0m\u001b[37m\u001b[0m \u001b[1m1s\u001b[0m 4ms/step - loss: 0.6384 - val_loss: 0.6646\n",
      "Epoch 102/1000\n",
      "\u001b[1m203/203\u001b[0m \u001b[32m━━━━━━━━━━━━━━━━━━━━\u001b[0m\u001b[37m\u001b[0m \u001b[1m1s\u001b[0m 4ms/step - loss: 0.6411 - val_loss: 0.6651\n",
      "Epoch 103/1000\n",
      "\u001b[1m203/203\u001b[0m \u001b[32m━━━━━━━━━━━━━━━━━━━━\u001b[0m\u001b[37m\u001b[0m \u001b[1m1s\u001b[0m 4ms/step - loss: 0.6440 - val_loss: 0.6606\n",
      "Epoch 104/1000\n",
      "\u001b[1m203/203\u001b[0m \u001b[32m━━━━━━━━━━━━━━━━━━━━\u001b[0m\u001b[37m\u001b[0m \u001b[1m1s\u001b[0m 4ms/step - loss: 0.6414 - val_loss: 0.6619\n",
      "Epoch 105/1000\n",
      "\u001b[1m203/203\u001b[0m \u001b[32m━━━━━━━━━━━━━━━━━━━━\u001b[0m\u001b[37m\u001b[0m \u001b[1m1s\u001b[0m 4ms/step - loss: 0.6399 - val_loss: 0.6634\n",
      "Epoch 106/1000\n",
      "\u001b[1m203/203\u001b[0m \u001b[32m━━━━━━━━━━━━━━━━━━━━\u001b[0m\u001b[37m\u001b[0m \u001b[1m1s\u001b[0m 4ms/step - loss: 0.6375 - val_loss: 0.6583\n",
      "Epoch 107/1000\n",
      "\u001b[1m203/203\u001b[0m \u001b[32m━━━━━━━━━━━━━━━━━━━━\u001b[0m\u001b[37m\u001b[0m \u001b[1m1s\u001b[0m 4ms/step - loss: 0.6445 - val_loss: 0.6592\n",
      "Epoch 108/1000\n",
      "\u001b[1m203/203\u001b[0m \u001b[32m━━━━━━━━━━━━━━━━━━━━\u001b[0m\u001b[37m\u001b[0m \u001b[1m1s\u001b[0m 4ms/step - loss: 0.6371 - val_loss: 0.6566\n",
      "Epoch 109/1000\n",
      "\u001b[1m203/203\u001b[0m \u001b[32m━━━━━━━━━━━━━━━━━━━━\u001b[0m\u001b[37m\u001b[0m \u001b[1m1s\u001b[0m 4ms/step - loss: 0.6415 - val_loss: 0.6603\n",
      "Epoch 110/1000\n",
      "\u001b[1m203/203\u001b[0m \u001b[32m━━━━━━━━━━━━━━━━━━━━\u001b[0m\u001b[37m\u001b[0m \u001b[1m1s\u001b[0m 4ms/step - loss: 0.6384 - val_loss: 0.6590\n",
      "Epoch 111/1000\n",
      "\u001b[1m203/203\u001b[0m \u001b[32m━━━━━━━━━━━━━━━━━━━━\u001b[0m\u001b[37m\u001b[0m \u001b[1m1s\u001b[0m 4ms/step - loss: 0.6387 - val_loss: 0.6598\n",
      "Epoch 112/1000\n",
      "\u001b[1m203/203\u001b[0m \u001b[32m━━━━━━━━━━━━━━━━━━━━\u001b[0m\u001b[37m\u001b[0m \u001b[1m1s\u001b[0m 4ms/step - loss: 0.6380 - val_loss: 0.6581\n",
      "Epoch 113/1000\n",
      "\u001b[1m203/203\u001b[0m \u001b[32m━━━━━━━━━━━━━━━━━━━━\u001b[0m\u001b[37m\u001b[0m \u001b[1m1s\u001b[0m 4ms/step - loss: 0.6345 - val_loss: 0.6622\n",
      "Epoch 114/1000\n",
      "\u001b[1m203/203\u001b[0m \u001b[32m━━━━━━━━━━━━━━━━━━━━\u001b[0m\u001b[37m\u001b[0m \u001b[1m1s\u001b[0m 4ms/step - loss: 0.6384 - val_loss: 0.6605\n",
      "Epoch 115/1000\n",
      "\u001b[1m203/203\u001b[0m \u001b[32m━━━━━━━━━━━━━━━━━━━━\u001b[0m\u001b[37m\u001b[0m \u001b[1m1s\u001b[0m 4ms/step - loss: 0.6356 - val_loss: 0.6601\n",
      "Epoch 116/1000\n",
      "\u001b[1m203/203\u001b[0m \u001b[32m━━━━━━━━━━━━━━━━━━━━\u001b[0m\u001b[37m\u001b[0m \u001b[1m1s\u001b[0m 4ms/step - loss: 0.6345 - val_loss: 0.6597\n",
      "Epoch 117/1000\n",
      "\u001b[1m203/203\u001b[0m \u001b[32m━━━━━━━━━━━━━━━━━━━━\u001b[0m\u001b[37m\u001b[0m \u001b[1m1s\u001b[0m 4ms/step - loss: 0.6347 - val_loss: 0.6617\n",
      "Epoch 118/1000\n",
      "\u001b[1m203/203\u001b[0m \u001b[32m━━━━━━━━━━━━━━━━━━━━\u001b[0m\u001b[37m\u001b[0m \u001b[1m1s\u001b[0m 4ms/step - loss: 0.6337 - val_loss: 0.6602\n",
      "Epoch 119/1000\n",
      "\u001b[1m203/203\u001b[0m \u001b[32m━━━━━━━━━━━━━━━━━━━━\u001b[0m\u001b[37m\u001b[0m \u001b[1m1s\u001b[0m 4ms/step - loss: 0.6335 - val_loss: 0.6626\n",
      "Epoch 120/1000\n",
      "\u001b[1m203/203\u001b[0m \u001b[32m━━━━━━━━━━━━━━━━━━━━\u001b[0m\u001b[37m\u001b[0m \u001b[1m1s\u001b[0m 4ms/step - loss: 0.6300 - val_loss: 0.6597\n",
      "Epoch 121/1000\n",
      "\u001b[1m203/203\u001b[0m \u001b[32m━━━━━━━━━━━━━━━━━━━━\u001b[0m\u001b[37m\u001b[0m \u001b[1m1s\u001b[0m 4ms/step - loss: 0.6303 - val_loss: 0.6580\n",
      "Epoch 122/1000\n",
      "\u001b[1m203/203\u001b[0m \u001b[32m━━━━━━━━━━━━━━━━━━━━\u001b[0m\u001b[37m\u001b[0m \u001b[1m1s\u001b[0m 4ms/step - loss: 0.6294 - val_loss: 0.6598\n",
      "Epoch 123/1000\n",
      "\u001b[1m203/203\u001b[0m \u001b[32m━━━━━━━━━━━━━━━━━━━━\u001b[0m\u001b[37m\u001b[0m \u001b[1m1s\u001b[0m 4ms/step - loss: 0.6307 - val_loss: 0.6590\n",
      "Epoch 124/1000\n",
      "\u001b[1m203/203\u001b[0m \u001b[32m━━━━━━━━━━━━━━━━━━━━\u001b[0m\u001b[37m\u001b[0m \u001b[1m1s\u001b[0m 4ms/step - loss: 0.6321 - val_loss: 0.6601\n",
      "Epoch 125/1000\n",
      "\u001b[1m203/203\u001b[0m \u001b[32m━━━━━━━━━━━━━━━━━━━━\u001b[0m\u001b[37m\u001b[0m \u001b[1m1s\u001b[0m 4ms/step - loss: 0.6319 - val_loss: 0.6603\n",
      "Epoch 126/1000\n",
      "\u001b[1m203/203\u001b[0m \u001b[32m━━━━━━━━━━━━━━━━━━━━\u001b[0m\u001b[37m\u001b[0m \u001b[1m1s\u001b[0m 4ms/step - loss: 0.6249 - val_loss: 0.6627\n",
      "Epoch 127/1000\n",
      "\u001b[1m203/203\u001b[0m \u001b[32m━━━━━━━━━━━━━━━━━━━━\u001b[0m\u001b[37m\u001b[0m \u001b[1m1s\u001b[0m 4ms/step - loss: 0.6285 - val_loss: 0.6627\n",
      "Epoch 128/1000\n",
      "\u001b[1m203/203\u001b[0m \u001b[32m━━━━━━━━━━━━━━━━━━━━\u001b[0m\u001b[37m\u001b[0m \u001b[1m1s\u001b[0m 4ms/step - loss: 0.6260 - val_loss: 0.6568\n"
     ]
    }
   ],
   "source": [
    "early_stopping = EarlyStopping(monitor='val_loss', patience=20, restore_best_weights=True)\n",
    "\n",
    "# Train the model\n",
    "history = model.fit(X_train, y_train, batch_size=500, epochs=1000, validation_split=0.05, callbacks=[early_stopping])"
   ]
  },
  {
   "cell_type": "code",
   "execution_count": 9,
   "id": "d5a1cd51",
   "metadata": {
    "execution": {
     "iopub.execute_input": "2024-03-31T04:59:25.190509Z",
     "iopub.status.busy": "2024-03-31T04:59:25.189529Z",
     "iopub.status.idle": "2024-03-31T04:59:25.542764Z",
     "shell.execute_reply": "2024-03-31T04:59:25.541750Z"
    },
    "papermill": {
     "duration": 0.566646,
     "end_time": "2024-03-31T04:59:25.545223",
     "exception": false,
     "start_time": "2024-03-31T04:59:24.978577",
     "status": "completed"
    },
    "tags": []
   },
   "outputs": [
    {
     "data": {
      "image/png": "[encoded data removed]",
      "text/plain": [
       "<Figure size 640x480 with 1 Axes>"
      ]
     },
     "metadata": {},
     "output_type": "display_data"
    }
   ],
   "source": [
    "# Assuming 'history' contains the training history returned by model.fit()\n",
    "\n",
    "# Plot training & validation loss values\n",
    "plt.plot(history.history['loss'])\n",
    "plt.plot(history.history['val_loss'])\n",
    "plt.title('Model loss')\n",
    "plt.ylabel('KLD Loss')\n",
    "plt.xlabel('Epoch')\n",
    "plt.legend(['Train', 'Validation'], loc='upper left')\n",
    "plt.show()"
   ]
  },
  {
   "cell_type": "markdown",
   "id": "540af679",
   "metadata": {
    "papermill": {
     "duration": 0.219646,
     "end_time": "2024-03-31T04:59:25.979492",
     "exception": false,
     "start_time": "2024-03-31T04:59:25.759846",
     "status": "completed"
    },
    "tags": []
   },
   "source": [
    "Process and Predict on the Test set for submission"
   ]
  },
  {
   "cell_type": "code",
   "execution_count": 10,
   "id": "cea404cd",
   "metadata": {
    "execution": {
     "iopub.execute_input": "2024-03-31T04:59:26.409419Z",
     "iopub.status.busy": "2024-03-31T04:59:26.408562Z",
     "iopub.status.idle": "2024-03-31T04:59:26.413098Z",
     "shell.execute_reply": "2024-03-31T04:59:26.412112Z"
    },
    "papermill": {
     "duration": 0.218039,
     "end_time": "2024-03-31T04:59:26.415110",
     "exception": false,
     "start_time": "2024-03-31T04:59:26.197071",
     "status": "completed"
    },
    "tags": []
   },
   "outputs": [],
   "source": [
    "import pandas as pd"
   ]
  },
  {
   "cell_type": "code",
   "execution_count": 11,
   "id": "43ebbe98",
   "metadata": {
    "execution": {
     "iopub.execute_input": "2024-03-31T04:59:26.841467Z",
     "iopub.status.busy": "2024-03-31T04:59:26.840561Z",
     "iopub.status.idle": "2024-03-31T04:59:26.855306Z",
     "shell.execute_reply": "2024-03-31T04:59:26.854208Z"
    },
    "papermill": {
     "duration": 0.228576,
     "end_time": "2024-03-31T04:59:26.857507",
     "exception": false,
     "start_time": "2024-03-31T04:59:26.628931",
     "status": "completed"
    },
    "tags": []
   },
   "outputs": [
    {
     "name": "stdout",
     "output_type": "stream",
     "text": [
      "Test shape: (1, 3)\n"
     ]
    }
   ],
   "source": [
    "test = pd.read_csv('/kaggle/input/hms-harmful-brain-activity-classification/test.csv')\n",
    "print('Test shape:',test.shape)"
   ]
  },
  {
   "cell_type": "code",
   "execution_count": 12,
   "id": "95231617",
   "metadata": {
    "execution": {
     "iopub.execute_input": "2024-03-31T04:59:27.288391Z",
     "iopub.status.busy": "2024-03-31T04:59:27.287425Z",
     "iopub.status.idle": "2024-03-31T04:59:27.305080Z",
     "shell.execute_reply": "2024-03-31T04:59:27.304069Z"
    },
    "papermill": {
     "duration": 0.236026,
     "end_time": "2024-03-31T04:59:27.307250",
     "exception": false,
     "start_time": "2024-03-31T04:59:27.071224",
     "status": "completed"
    },
    "tags": []
   },
   "outputs": [],
   "source": [
    "EEG_SUB_PATH_TEMPL = '/kaggle/input/hms-harmful-brain-activity-classification/test_eegs/'\n",
    "SP_SUB_PATH_TEMPL = '/kaggle/input/hms-harmful-brain-activity-classification/test_spectrograms/'\n",
    "\n",
    "def get_sub_eeg_sp_data(train_row):\n",
    "    \"\"\"Gets EEG and Spectogram data from a specific row in the dataset\"\"\"\n",
    "    \n",
    "    eeg_id = train_row.eeg_id\n",
    "    sp_id = train_row.spectrogram_id\n",
    "    \n",
    "    eeg_parquet = pd.read_parquet(f'{EEG_SUB_PATH_TEMPL}{eeg_id}.parquet')\n",
    "    sp = pd.read_parquet(f'{SP_SUB_PATH_TEMPL}{sp_id}.parquet')\n",
    "    \n",
    "    rows = len(eeg_parquet)\n",
    "    eeg_offset = (rows-10_000)//2\n",
    "    \n",
    "    \n",
    "    # get middle 50 seconds of eeg data\n",
    "    #eeg_offset = int(train_row.eeg_label_offset_seconds + 20) #only 10 central seconds from 50 secs were labeled, which should be seconds 20-30 in the sample\n",
    "    eeg_data = eeg_parquet.iloc[eeg_offset:eeg_offset + 10_000]\n",
    "    \n",
    "    \n",
    "    # sp_offset = int(train_row.spectrogram_label_offset_seconds )\n",
    "    \n",
    "    # get spectrogram data\n",
    "    # sp = sp_parquet.loc[(sp_parquet.time>=sp_offset)&(sp_parquet.time<sp_offset+SP_WIN)]\n",
    "    sp = sp.loc[:, sp.columns != 'time']\n",
    "    sp = {\n",
    "        \"LL\": sp.filter(regex='^LL', axis=1),\n",
    "        \"RL\": sp.filter(regex='^RL', axis=1),\n",
    "        \"RP\": sp.filter(regex='^RP', axis=1),\n",
    "        \"LP\": sp.filter(regex='^LP', axis=1)}\n",
    "    \n",
    "    # calculate eeg data\n",
    "    # print(eeg_data.keys()) # Has keys Index(['Fp1', 'F3', 'C3', 'P3', 'F7', 'T3', 'T5', 'O1', 'Fz', 'Cz', 'Pz',\n",
    "                            # 'Fp2', 'F4', 'C4', 'P4', 'F8', 'T4', 'T6', 'O2', 'EKG']\n",
    "    # assert 0 == 1\n",
    "    \n",
    "    CHAINS = {\n",
    "    'LL' : [(\"Fp1\",\"F7\"),(\"F7\",\"T3\"),(\"T3\",\"T5\"),(\"T5\",\"O1\")],\n",
    "    'RL' : [(\"Fp2\",\"F8\"),(\"F8\",\"T4\"),(\"T4\",\"T6\"),(\"T6\",\"O2\")],\n",
    "    'LP' : [(\"Fp1\",\"F3\"),(\"F3\",\"C3\"),(\"C3\",\"P3\"),(\"P3\",\"O1\")],\n",
    "    'RP' : [(\"Fp2\",\"F4\"),(\"F4\",\"C4\"),(\"C4\",\"P4\"),(\"P4\",\"O2\")],\n",
    "    'other' : [(\"Fz\",\"Cz\"), (\"Cz\", \"Pz\"), (\"EKG\")]\n",
    "}\n",
    "    \n",
    "    eeg = pd.DataFrame({})\n",
    "    for chain in CHAINS.keys():\n",
    "        for s_i, signals in enumerate(CHAINS[chain]):\n",
    "            if len(signals) == 2:\n",
    "                diff=eeg_data[signals[0]]-eeg_data[signals[1]] # Subtracts relevant fields as in the image above\n",
    "                diff.ffill(inplace = True) # forward fills in the casse of nan values\n",
    "                eeg[f\"{chain}: {signals[0]} - {signals[1]}\"] = diff\n",
    "            \n",
    "            elif len(signals) == 1:\n",
    "                sig=eeg_data[signals[0]]\n",
    "                sig.ffill(inplace = True) \n",
    "                eeg[f\"{chain}: {signals[0]}\"] = sig\n",
    "                \n",
    "                \n",
    "    \n",
    "    return eeg, sp\n",
    "\n",
    "def preprocess(pre_eeg):\n",
    "    pre_eeg_streams = [pre_eeg[:,:,:4],  pre_eeg[:,:,4:8], pre_eeg[:,:,8:12],\n",
    "                       pre_eeg[:,:,12:16], pre_eeg[:,:,16:]]\n",
    "    \n",
    "    pre_eeg_stream_sig = [signature(stream, level=4) for stream in pre_eeg_streams]\n",
    "    pre_eeg_sig = np.concatenate(pre_eeg_stream_sig, axis=-1)\n",
    "    \n",
    "    return pre_eeg_sig\n",
    "    \n",
    "    "
   ]
  },
  {
   "cell_type": "code",
   "execution_count": 13,
   "id": "0ceaa135",
   "metadata": {
    "execution": {
     "iopub.execute_input": "2024-03-31T04:59:27.749835Z",
     "iopub.status.busy": "2024-03-31T04:59:27.749164Z",
     "iopub.status.idle": "2024-03-31T04:59:28.154994Z",
     "shell.execute_reply": "2024-03-31T04:59:28.153807Z"
    },
    "papermill": {
     "duration": 0.646475,
     "end_time": "2024-03-31T04:59:28.158353",
     "exception": false,
     "start_time": "2024-03-31T04:59:27.511878",
     "status": "completed"
    },
    "tags": []
   },
   "outputs": [
    {
     "name": "stdout",
     "output_type": "stream",
     "text": [
      "(1, 1390)\n"
     ]
    }
   ],
   "source": [
    "eeg_sub, sp_sub = get_sub_eeg_sp_data(test.iloc[0])\n",
    "\n",
    "eeg_sub = np.expand_dims(eeg_sub, axis=0)\n",
    "prep_eeg_sub = preprocess(eeg_sub)\n",
    "\n",
    "print(prep_eeg_sub.shape)"
   ]
  },
  {
   "cell_type": "code",
   "execution_count": 14,
   "id": "e5e68ea3",
   "metadata": {
    "execution": {
     "iopub.execute_input": "2024-03-31T04:59:28.600961Z",
     "iopub.status.busy": "2024-03-31T04:59:28.600567Z",
     "iopub.status.idle": "2024-03-31T04:59:29.116890Z",
     "shell.execute_reply": "2024-03-31T04:59:29.115740Z"
    },
    "papermill": {
     "duration": 0.7346,
     "end_time": "2024-03-31T04:59:29.119229",
     "exception": false,
     "start_time": "2024-03-31T04:59:28.384629",
     "status": "completed"
    },
    "tags": []
   },
   "outputs": [
    {
     "name": "stdout",
     "output_type": "stream",
     "text": [
      "\u001b[1m1/1\u001b[0m \u001b[32m━━━━━━━━━━━━━━━━━━━━\u001b[0m\u001b[37m\u001b[0m \u001b[1m0s\u001b[0m 461ms/step\n",
      "This is the sub pred sum: 1.0000001\n",
      "[[0.25551298 0.05086019 0.09536818 0.09401198 0.31282127 0.19142546]]\n"
     ]
    }
   ],
   "source": [
    "sub_pred = model.predict(prep_eeg_sub)\n",
    "\n",
    "print(\"This is the sub pred sum:\",sub_pred.sum())\n",
    "print(sub_pred)"
   ]
  },
  {
   "cell_type": "code",
   "execution_count": 15,
   "id": "a38c5413",
   "metadata": {
    "execution": {
     "iopub.execute_input": "2024-03-31T04:59:29.555850Z",
     "iopub.status.busy": "2024-03-31T04:59:29.554810Z",
     "iopub.status.idle": "2024-03-31T04:59:29.592035Z",
     "shell.execute_reply": "2024-03-31T04:59:29.590476Z"
    },
    "papermill": {
     "duration": 0.261792,
     "end_time": "2024-03-31T04:59:29.599982",
     "exception": false,
     "start_time": "2024-03-31T04:59:29.338190",
     "status": "completed"
    },
    "tags": []
   },
   "outputs": [
    {
     "name": "stdout",
     "output_type": "stream",
     "text": [
      "Submission shape (1, 7)\n"
     ]
    },
    {
     "data": {
      "text/html": [
       "<div>\n",
       "<style scoped>\n",
       "    .dataframe tbody tr th:only-of-type {\n",
       "        vertical-align: middle;\n",
       "    }\n",
       "\n",
       "    .dataframe tbody tr th {\n",
       "        vertical-align: top;\n",
       "    }\n",
       "\n",
       "    .dataframe thead th {\n",
       "        text-align: right;\n",
       "    }\n",
       "</style>\n",
       "<table border=\"1\" class=\"dataframe\">\n",
       "  <thead>\n",
       "    <tr style=\"text-align: right;\">\n",
       "      <th></th>\n",
       "      <th>eeg_id</th>\n",
       "      <th>seizure_vote</th>\n",
       "      <th>lpd_vote</th>\n",
       "      <th>gpd_vote</th>\n",
       "      <th>lrda_vote</th>\n",
       "      <th>grda_vote</th>\n",
       "      <th>other_vote</th>\n",
       "    </tr>\n",
       "  </thead>\n",
       "  <tbody>\n",
       "    <tr>\n",
       "      <th>0</th>\n",
       "      <td>3911565283</td>\n",
       "      <td>0.255513</td>\n",
       "      <td>0.05086</td>\n",
       "      <td>0.095368</td>\n",
       "      <td>0.094012</td>\n",
       "      <td>0.312821</td>\n",
       "      <td>0.191425</td>\n",
       "    </tr>\n",
       "  </tbody>\n",
       "</table>\n",
       "</div>"
      ],
      "text/plain": [
       "       eeg_id  seizure_vote  lpd_vote  gpd_vote  lrda_vote  grda_vote  \\\n",
       "0  3911565283      0.255513   0.05086  0.095368   0.094012   0.312821   \n",
       "\n",
       "   other_vote  \n",
       "0    0.191425  "
      ]
     },
     "metadata": {},
     "output_type": "display_data"
    },
    {
     "name": "stdout",
     "output_type": "stream",
     "text": [
      "Sub row 0 sums to: 1.000000063329935\n"
     ]
    }
   ],
   "source": [
    "# CREATE SUBMISSION.CSV\n",
    "from IPython.display import display\n",
    "\n",
    "sub = pd.DataFrame({'eeg_id':test.eeg_id.values})\n",
    "\n",
    "TARGETS = ['seizure_vote', 'lpd_vote', 'gpd_vote', 'lrda_vote', 'grda_vote', 'other_vote']\n",
    "sub[TARGETS] = sub_pred\n",
    "sub.to_csv('submission.csv',index=False)\n",
    "print('Submission shape',sub.shape)\n",
    "display( sub.head() )\n",
    "\n",
    "# SANITY CHECK TO CONFIRM PREDICTIONS SUM TO ONE\n",
    "print('Sub row 0 sums to:',sub.iloc[0,-6:].sum())"
   ]
  },
  {
   "cell_type": "code",
   "execution_count": null,
   "id": "bf9da5d7",
   "metadata": {
    "papermill": {
     "duration": 0.207682,
     "end_time": "2024-03-31T04:59:30.017532",
     "exception": false,
     "start_time": "2024-03-31T04:59:29.809850",
     "status": "completed"
    },
    "tags": []
   },
   "outputs": [],
   "source": []
  },
  {
   "cell_type": "code",
   "execution_count": null,
   "id": "4e8605b4",
   "metadata": {
    "papermill": {
     "duration": 0.206219,
     "end_time": "2024-03-31T04:59:30.472689",
     "exception": false,
     "start_time": "2024-03-31T04:59:30.266470",
     "status": "completed"
    },
    "tags": []
   },
   "outputs": [],
   "source": []
  },
  {
   "cell_type": "code",
   "execution_count": null,
   "id": "2e22b237",
   "metadata": {
    "papermill": {
     "duration": 0.212347,
     "end_time": "2024-03-31T04:59:30.898930",
     "exception": false,
     "start_time": "2024-03-31T04:59:30.686583",
     "status": "completed"
    },
    "tags": []
   },
   "outputs": [],
   "source": []
  },
  {
   "cell_type": "code",
   "execution_count": null,
   "id": "05f9a157",
   "metadata": {
    "papermill": {
     "duration": 0.218504,
     "end_time": "2024-03-31T04:59:31.335317",
     "exception": false,
     "start_time": "2024-03-31T04:59:31.116813",
     "status": "completed"
    },
    "tags": []
   },
   "outputs": [],
   "source": []
  }
 ],
 "metadata": {
  "kaggle": {
   "accelerator": "nvidiaTeslaT4",
   "dataSources": [
    {
     "databundleVersionId": 7469972,
     "sourceId": 59093,
     "sourceType": "competition"
    },
    {
     "datasetId": 4699844,
     "sourceId": 7984420,
     "sourceType": "datasetVersion"
    },
    {
     "datasetId": 4657249,
     "sourceId": 7924525,
     "sourceType": "datasetVersion"
    },
    {
     "sourceId": 168829242,
     "sourceType": "kernelVersion"
    }
   ],
   "dockerImageVersionId": 30674,
   "isGpuEnabled": true,
   "isInternetEnabled": false,
   "language": "python",
   "sourceType": "notebook"
  },
  "kernelspec": {
   "display_name": "Python 3",
   "language": "python",
   "name": "python3"
  },
  "language_info": {
   "codemirror_mode": {
    "name": "ipython",
    "version": 3
   },
   "file_extension": ".py",
   "mimetype": "text/x-python",
   "name": "python",
   "nbconvert_exporter": "python",
   "pygments_lexer": "ipython3",
   "version": "3.10.13"
  },
  "papermill": {
   "default_parameters": {},
   "duration": 220.587178,
   "end_time": "2024-03-31T04:59:34.268653",
   "environment_variables": {},
   "exception": null,
   "input_path": "__notebook__.ipynb",
   "output_path": "__notebook__.ipynb",
   "parameters": {},
   "start_time": "2024-03-31T04:55:53.681475",
   "version": "2.5.0"
  }
 },
 "nbformat": 4,
 "nbformat_minor": 5
}
