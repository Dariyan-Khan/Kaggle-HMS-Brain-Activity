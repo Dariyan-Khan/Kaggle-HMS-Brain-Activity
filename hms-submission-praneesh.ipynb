{
 "cells": [
  {
   "cell_type": "markdown",
   "id": "545710fa",
   "metadata": {
    "execution": {
     "iopub.execute_input": "2024-04-03T00:07:03.100760Z",
     "iopub.status.busy": "2024-04-03T00:07:03.099881Z",
     "iopub.status.idle": "2024-04-03T00:07:15.631906Z",
     "shell.execute_reply": "2024-04-03T00:07:15.630730Z",
     "shell.execute_reply.started": "2024-04-03T00:07:03.100722Z"
    },
    "papermill": {
     "duration": 0.009575,
     "end_time": "2024-04-03T01:26:54.391026",
     "exception": false,
     "start_time": "2024-04-03T01:26:54.381451",
     "status": "completed"
    },
    "tags": []
   },
   "source": [
    "# Install Extra Packages Offline"
   ]
  },
  {
   "cell_type": "markdown",
   "id": "d581b55c",
   "metadata": {
    "papermill": {
     "duration": 0.007394,
     "end_time": "2024-04-03T01:26:54.406292",
     "exception": false,
     "start_time": "2024-04-03T01:26:54.398898",
     "status": "completed"
    },
    "tags": []
   },
   "source": [
    "1) tslearn"
   ]
  },
  {
   "cell_type": "code",
   "execution_count": 1,
   "id": "ef43a49f",
   "metadata": {
    "execution": {
     "iopub.execute_input": "2024-04-03T01:26:54.422687Z",
     "iopub.status.busy": "2024-04-03T01:26:54.422318Z",
     "iopub.status.idle": "2024-04-03T01:27:28.058408Z",
     "shell.execute_reply": "2024-04-03T01:27:28.057300Z"
    },
    "papermill": {
     "duration": 33.647031,
     "end_time": "2024-04-03T01:27:28.060894",
     "exception": false,
     "start_time": "2024-04-03T01:26:54.413863",
     "status": "completed"
    },
    "tags": []
   },
   "outputs": [
    {
     "name": "stdout",
     "output_type": "stream",
     "text": [
      "Processing /kaggle/input/hmsofflinepackages/tslearn-0.6.3-py3-none-any.whl\r\n",
      "Requirement already satisfied: numpy in /opt/conda/lib/python3.10/site-packages (from tslearn==0.6.3) (1.26.4)\r\n",
      "Requirement already satisfied: scipy in /opt/conda/lib/python3.10/site-packages (from tslearn==0.6.3) (1.11.4)\r\n",
      "Requirement already satisfied: scikit-learn in /opt/conda/lib/python3.10/site-packages (from tslearn==0.6.3) (1.2.2)\r\n",
      "Requirement already satisfied: numba in /opt/conda/lib/python3.10/site-packages (from tslearn==0.6.3) (0.58.1)\r\n",
      "Requirement already satisfied: joblib in /opt/conda/lib/python3.10/site-packages (from tslearn==0.6.3) (1.3.2)\r\n",
      "Requirement already satisfied: llvmlite<0.42,>=0.41.0dev0 in /opt/conda/lib/python3.10/site-packages (from numba->tslearn==0.6.3) (0.41.1)\r\n",
      "Requirement already satisfied: threadpoolctl>=2.0.0 in /opt/conda/lib/python3.10/site-packages (from scikit-learn->tslearn==0.6.3) (3.2.0)\r\n",
      "Installing collected packages: tslearn\r\n",
      "Successfully installed tslearn-0.6.3\r\n"
     ]
    }
   ],
   "source": [
    "!pip install '/kaggle/input/hmsofflinepackages/tslearn-0.6.3-py3-none-any.whl'"
   ]
  },
  {
   "cell_type": "code",
   "execution_count": 2,
   "id": "76b2ed6a",
   "metadata": {
    "execution": {
     "iopub.execute_input": "2024-04-03T01:27:28.079436Z",
     "iopub.status.busy": "2024-04-03T01:27:28.078705Z",
     "iopub.status.idle": "2024-04-03T01:27:28.086622Z",
     "shell.execute_reply": "2024-04-03T01:27:28.085800Z"
    },
    "papermill": {
     "duration": 0.018998,
     "end_time": "2024-04-03T01:27:28.088490",
     "exception": false,
     "start_time": "2024-04-03T01:27:28.069492",
     "status": "completed"
    },
    "tags": []
   },
   "outputs": [],
   "source": [
    "import os\n",
    "import zipfile\n",
    "\n",
    "def zip_folder(folder_path, output_zip):\n",
    "    \"\"\"\n",
    "    Zip the contents of an entire folder (with that folder included\n",
    "    in the archive). Empty directories are included in the archive as well.\n",
    "    \"\"\"\n",
    "    with zipfile.ZipFile(output_zip, 'w', zipfile.ZIP_DEFLATED) as zipf:\n",
    "        lenDirPath = len(folder_path)\n",
    "        for root, _, files in os.walk(folder_path):\n",
    "            # Include all subdirectories, including empty ones.\n",
    "            for dirName in os.listdir(root):\n",
    "                dirPath = os.path.join(root, dirName)\n",
    "                if os.path.isdir(dirPath):\n",
    "                    zipf.write(dirPath, os.path.relpath(dirPath, folder_path))\n",
    "            # Add files\n",
    "            for file in files:\n",
    "                filePath = os.path.join(root, file)\n",
    "                zipf.write(filePath, os.path.relpath(filePath, folder_path))"
   ]
  },
  {
   "cell_type": "markdown",
   "id": "03bb212b",
   "metadata": {
    "papermill": {
     "duration": 0.007758,
     "end_time": "2024-04-03T01:27:28.104363",
     "exception": false,
     "start_time": "2024-04-03T01:27:28.096605",
     "status": "completed"
    },
    "tags": []
   },
   "source": [
    "2) signatory"
   ]
  },
  {
   "cell_type": "code",
   "execution_count": 3,
   "id": "527dec53",
   "metadata": {
    "execution": {
     "iopub.execute_input": "2024-04-03T01:27:28.122493Z",
     "iopub.status.busy": "2024-04-03T01:27:28.122237Z",
     "iopub.status.idle": "2024-04-03T01:29:17.454489Z",
     "shell.execute_reply": "2024-04-03T01:29:17.453241Z"
    },
    "papermill": {
     "duration": 109.343655,
     "end_time": "2024-04-03T01:29:17.457072",
     "exception": false,
     "start_time": "2024-04-03T01:27:28.113417",
     "status": "completed"
    },
    "tags": []
   },
   "outputs": [
    {
     "name": "stdout",
     "output_type": "stream",
     "text": [
      "Processing ./signatory.zip\r\n",
      "  Preparing metadata (setup.py) ... \u001b[?25l-\b \bdone\r\n",
      "\u001b[?25hBuilding wheels for collected packages: signatory\r\n",
      "  Building wheel for signatory (setup.py) ... \u001b[?25l-\b \b\\\b \b|\b \b/\b \b-\b \b\\\b \b|\b \b/\b \bdone\r\n",
      "\u001b[?25h  Created wheel for signatory: filename=signatory-1.2.6.1.9.0-cp310-cp310-linux_x86_64.whl size=237896 sha256=0aebdaefb1e8469874d14ad8694485d0843fc825c3bd357528407f7e7d2da22f\r\n",
      "  Stored in directory: /tmp/pip-ephem-wheel-cache-a8gb2wlm/wheels/54/c2/57/159645f76fece22063dc3e9b8dc35b9c7a2d53632ae423ab4b\r\n",
      "Successfully built signatory\r\n",
      "Installing collected packages: signatory\r\n",
      "Successfully installed signatory-1.2.6.1.9.0\r\n"
     ]
    }
   ],
   "source": [
    "zip_folder(\"/kaggle/input/hmsofflinepackages/signatory-1.2.6.1.9.0\", \"./signatory.zip\")\n",
    "\n",
    "!pip install \"./signatory.zip\""
   ]
  },
  {
   "cell_type": "code",
   "execution_count": 4,
   "id": "c47736a8",
   "metadata": {
    "execution": {
     "iopub.execute_input": "2024-04-03T01:29:17.477183Z",
     "iopub.status.busy": "2024-04-03T01:29:17.476869Z",
     "iopub.status.idle": "2024-04-03T01:29:20.187209Z",
     "shell.execute_reply": "2024-04-03T01:29:20.186253Z"
    },
    "papermill": {
     "duration": 2.723065,
     "end_time": "2024-04-03T01:29:20.189621",
     "exception": false,
     "start_time": "2024-04-03T01:29:17.466556",
     "status": "completed"
    },
    "tags": []
   },
   "outputs": [],
   "source": [
    "# standard packages\n",
    "import numpy as np\n",
    "import matplotlib.pyplot as plt\n",
    "from tqdm import tqdm\n",
    "import random\n",
    "import pandas as pd\n",
    "import torch"
   ]
  },
  {
   "cell_type": "code",
   "execution_count": 5,
   "id": "376fd2cd",
   "metadata": {
    "execution": {
     "iopub.execute_input": "2024-04-03T01:29:20.210147Z",
     "iopub.status.busy": "2024-04-03T01:29:20.209757Z",
     "iopub.status.idle": "2024-04-03T01:29:22.172270Z",
     "shell.execute_reply": "2024-04-03T01:29:22.171467Z"
    },
    "papermill": {
     "duration": 1.975364,
     "end_time": "2024-04-03T01:29:22.174686",
     "exception": false,
     "start_time": "2024-04-03T01:29:20.199322",
     "status": "completed"
    },
    "tags": []
   },
   "outputs": [],
   "source": [
    "# from offline package installations\n",
    "from tslearn.preprocessing import TimeSeriesScalerMinMax\n",
    "import signatory"
   ]
  },
  {
   "cell_type": "markdown",
   "id": "71538d76",
   "metadata": {
    "papermill": {
     "duration": 0.008939,
     "end_time": "2024-04-03T01:29:22.193152",
     "exception": false,
     "start_time": "2024-04-03T01:29:22.184213",
     "status": "completed"
    },
    "tags": []
   },
   "source": [
    "# Prepare Train Set"
   ]
  },
  {
   "cell_type": "markdown",
   "id": "cb95b946",
   "metadata": {
    "papermill": {
     "duration": 0.008893,
     "end_time": "2024-04-03T01:29:22.211256",
     "exception": false,
     "start_time": "2024-04-03T01:29:22.202363",
     "status": "completed"
    },
    "tags": []
   },
   "source": [
    "Load signature features and prepare for training NN"
   ]
  },
  {
   "cell_type": "code",
   "execution_count": 6,
   "id": "beb355db",
   "metadata": {
    "execution": {
     "iopub.execute_input": "2024-04-03T01:29:22.230743Z",
     "iopub.status.busy": "2024-04-03T01:29:22.230294Z",
     "iopub.status.idle": "2024-04-03T01:29:22.239699Z",
     "shell.execute_reply": "2024-04-03T01:29:22.238869Z"
    },
    "papermill": {
     "duration": 0.021157,
     "end_time": "2024-04-03T01:29:22.241503",
     "exception": false,
     "start_time": "2024-04-03T01:29:22.220346",
     "status": "completed"
    },
    "tags": []
   },
   "outputs": [],
   "source": [
    "def TrainPreProcessing(DataPortion, Validation_Split):\n",
    "    \n",
    "    # Load all numpy arrays \n",
    "    EEG_Sig_Total = np.load('/kaggle/input/logsig3scaled/eeg_data_scaled.npy')   \n",
    "    NumVotes_Total = np.load('/kaggle/input/logsig3scaled/num_votes.npy')\n",
    "    Targets_Total = np.load('/kaggle/input/logsig3scaled/targets.npy')\n",
    "\n",
    "    n_features = 2470\n",
    "    \n",
    "    # Combine columns into one array: ¦2470 Features¦6 Targets¦NumVotes¦ \n",
    "    TotalDataset = np.hstack((EEG_Sig_Total, Targets_Total, NumVotes_Total))\n",
    "    \n",
    "    # We want to drop all rows with nans in them\n",
    "    nan_rows = np.isnan(TotalDataset).any(axis=1)\n",
    "    # Drop rows with NaN values\n",
    "    TotalDataset = TotalDataset[~nan_rows]\n",
    "    \n",
    "    TotalN = TotalDataset.shape[0]\n",
    "\n",
    "    # shuffle rows\n",
    "    np.random.seed(69)\n",
    "    p = np.random.permutation(TotalN)\n",
    "\n",
    "    TotalDataset = TotalDataset[p]\n",
    "\n",
    "    # Work with only a small portion of the dataset for experimentation \n",
    "    N = round(DataPortion*TotalN)\n",
    "\n",
    "    TruncatedDataset = TotalDataset[:N]\n",
    "    \n",
    "    # set proportion of train data for validation set\n",
    "    Validation_N = round(Validation_Split*N)\n",
    "\n",
    "    ValidationDataset = TruncatedDataset[:Validation_N]\n",
    "    TrainDataset = TruncatedDataset[Validation_N:]\n",
    "\n",
    "    X_val, y_val = ValidationDataset[:,:n_features], ValidationDataset[:,n_features:n_features+6]\n",
    "    X_train, y_train = TrainDataset[:,:n_features], TrainDataset[:,n_features:n_features+6]\n",
    "    N_votes_train = TrainDataset[:,-1]\n",
    "\n",
    "    return X_train, y_train, X_val, y_val, N_votes_train\n"
   ]
  },
  {
   "cell_type": "code",
   "execution_count": 7,
   "id": "e196a96b",
   "metadata": {
    "execution": {
     "iopub.execute_input": "2024-04-03T01:29:22.261264Z",
     "iopub.status.busy": "2024-04-03T01:29:22.260994Z",
     "iopub.status.idle": "2024-04-03T01:29:43.182512Z",
     "shell.execute_reply": "2024-04-03T01:29:43.181608Z"
    },
    "papermill": {
     "duration": 20.933889,
     "end_time": "2024-04-03T01:29:43.184833",
     "exception": false,
     "start_time": "2024-04-03T01:29:22.250944",
     "status": "completed"
    },
    "tags": []
   },
   "outputs": [
    {
     "name": "stdout",
     "output_type": "stream",
     "text": [
      "(106789, 2470) (106789, 6)\n",
      "(0, 2470) (0, 6)\n"
     ]
    }
   ],
   "source": [
    "# Do not need a test set from the train data since we are submitting\n",
    "X_train, y_train, X_test, y_test, N_votes_train = TrainPreProcessing(DataPortion=1, Validation_Split=0)\n",
    "\n",
    "print(X_train.shape, y_train.shape)\n",
    "print(X_test.shape, y_test.shape)"
   ]
  },
  {
   "cell_type": "markdown",
   "id": "194927d9",
   "metadata": {
    "papermill": {
     "duration": 0.008981,
     "end_time": "2024-04-03T01:29:43.203812",
     "exception": false,
     "start_time": "2024-04-03T01:29:43.194831",
     "status": "completed"
    },
    "tags": []
   },
   "source": [
    "# Build MLP Model"
   ]
  },
  {
   "cell_type": "code",
   "execution_count": 8,
   "id": "6f03cb6b",
   "metadata": {
    "execution": {
     "iopub.execute_input": "2024-04-03T01:29:43.223255Z",
     "iopub.status.busy": "2024-04-03T01:29:43.222959Z",
     "iopub.status.idle": "2024-04-03T01:29:55.431273Z",
     "shell.execute_reply": "2024-04-03T01:29:55.430436Z"
    },
    "papermill": {
     "duration": 12.220819,
     "end_time": "2024-04-03T01:29:55.433651",
     "exception": false,
     "start_time": "2024-04-03T01:29:43.212832",
     "status": "completed"
    },
    "tags": []
   },
   "outputs": [
    {
     "name": "stderr",
     "output_type": "stream",
     "text": [
      "2024-04-03 01:29:45.466634: E external/local_xla/xla/stream_executor/cuda/cuda_dnn.cc:9261] Unable to register cuDNN factory: Attempting to register factory for plugin cuDNN when one has already been registered\n",
      "2024-04-03 01:29:45.466725: E external/local_xla/xla/stream_executor/cuda/cuda_fft.cc:607] Unable to register cuFFT factory: Attempting to register factory for plugin cuFFT when one has already been registered\n",
      "2024-04-03 01:29:45.629204: E external/local_xla/xla/stream_executor/cuda/cuda_blas.cc:1515] Unable to register cuBLAS factory: Attempting to register factory for plugin cuBLAS when one has already been registered\n"
     ]
    }
   ],
   "source": [
    "import tensorflow as tf\n",
    "from tensorflow.keras import layers, Model\n",
    "from tensorflow.keras.losses import kullback_leibler_divergence\n",
    "from tensorflow.keras.callbacks import EarlyStopping\n",
    "\n",
    "\n",
    "# Define the number of input features and output classes\n",
    "num_features = 2470\n",
    "\n",
    "num_classes = 6"
   ]
  },
  {
   "cell_type": "code",
   "execution_count": 9,
   "id": "ee948296",
   "metadata": {
    "execution": {
     "iopub.execute_input": "2024-04-03T01:29:55.454300Z",
     "iopub.status.busy": "2024-04-03T01:29:55.453738Z",
     "iopub.status.idle": "2024-04-03T01:29:56.256343Z",
     "shell.execute_reply": "2024-04-03T01:29:56.255521Z"
    },
    "papermill": {
     "duration": 0.81486,
     "end_time": "2024-04-03T01:29:56.258272",
     "exception": false,
     "start_time": "2024-04-03T01:29:55.443412",
     "status": "completed"
    },
    "tags": []
   },
   "outputs": [
    {
     "data": {
      "text/html": [
       "<pre style=\"white-space:pre;overflow-x:auto;line-height:normal;font-family:Menlo,'DejaVu Sans Mono',consolas,'Courier New',monospace\"><span style=\"font-weight: bold\">Model: \"functional_1\"</span>\n",
       "</pre>\n"
      ],
      "text/plain": [
       "\u001b[1mModel: \"functional_1\"\u001b[0m\n"
      ]
     },
     "metadata": {},
     "output_type": "display_data"
    },
    {
     "data": {
      "text/html": [
       "<pre style=\"white-space:pre;overflow-x:auto;line-height:normal;font-family:Menlo,'DejaVu Sans Mono',consolas,'Courier New',monospace\">┏━━━━━━━━━━━━━━━━━━━━━━━━━━━━━━━━━┳━━━━━━━━━━━━━━━━━━━━━━━━┳━━━━━━━━━━━━━━━┓\n",
       "┃<span style=\"font-weight: bold\"> Layer (type)                    </span>┃<span style=\"font-weight: bold\"> Output Shape           </span>┃<span style=\"font-weight: bold\">       Param # </span>┃\n",
       "┡━━━━━━━━━━━━━━━━━━━━━━━━━━━━━━━━━╇━━━━━━━━━━━━━━━━━━━━━━━━╇━━━━━━━━━━━━━━━┩\n",
       "│ input_layer (<span style=\"color: #0087ff; text-decoration-color: #0087ff\">InputLayer</span>)        │ (<span style=\"color: #00d7ff; text-decoration-color: #00d7ff\">None</span>, <span style=\"color: #00af00; text-decoration-color: #00af00\">2470</span>)           │             <span style=\"color: #00af00; text-decoration-color: #00af00\">0</span> │\n",
       "├─────────────────────────────────┼────────────────────────┼───────────────┤\n",
       "│ dense (<span style=\"color: #0087ff; text-decoration-color: #0087ff\">Dense</span>)                   │ (<span style=\"color: #00d7ff; text-decoration-color: #00d7ff\">None</span>, <span style=\"color: #00af00; text-decoration-color: #00af00\">800</span>)            │     <span style=\"color: #00af00; text-decoration-color: #00af00\">1,976,800</span> │\n",
       "├─────────────────────────────────┼────────────────────────┼───────────────┤\n",
       "│ batch_normalization             │ (<span style=\"color: #00d7ff; text-decoration-color: #00d7ff\">None</span>, <span style=\"color: #00af00; text-decoration-color: #00af00\">800</span>)            │         <span style=\"color: #00af00; text-decoration-color: #00af00\">3,200</span> │\n",
       "│ (<span style=\"color: #0087ff; text-decoration-color: #0087ff\">BatchNormalization</span>)            │                        │               │\n",
       "├─────────────────────────────────┼────────────────────────┼───────────────┤\n",
       "│ dropout (<span style=\"color: #0087ff; text-decoration-color: #0087ff\">Dropout</span>)               │ (<span style=\"color: #00d7ff; text-decoration-color: #00d7ff\">None</span>, <span style=\"color: #00af00; text-decoration-color: #00af00\">800</span>)            │             <span style=\"color: #00af00; text-decoration-color: #00af00\">0</span> │\n",
       "├─────────────────────────────────┼────────────────────────┼───────────────┤\n",
       "│ dense_1 (<span style=\"color: #0087ff; text-decoration-color: #0087ff\">Dense</span>)                 │ (<span style=\"color: #00d7ff; text-decoration-color: #00d7ff\">None</span>, <span style=\"color: #00af00; text-decoration-color: #00af00\">500</span>)            │       <span style=\"color: #00af00; text-decoration-color: #00af00\">400,500</span> │\n",
       "├─────────────────────────────────┼────────────────────────┼───────────────┤\n",
       "│ batch_normalization_1           │ (<span style=\"color: #00d7ff; text-decoration-color: #00d7ff\">None</span>, <span style=\"color: #00af00; text-decoration-color: #00af00\">500</span>)            │         <span style=\"color: #00af00; text-decoration-color: #00af00\">2,000</span> │\n",
       "│ (<span style=\"color: #0087ff; text-decoration-color: #0087ff\">BatchNormalization</span>)            │                        │               │\n",
       "├─────────────────────────────────┼────────────────────────┼───────────────┤\n",
       "│ dropout_1 (<span style=\"color: #0087ff; text-decoration-color: #0087ff\">Dropout</span>)             │ (<span style=\"color: #00d7ff; text-decoration-color: #00d7ff\">None</span>, <span style=\"color: #00af00; text-decoration-color: #00af00\">500</span>)            │             <span style=\"color: #00af00; text-decoration-color: #00af00\">0</span> │\n",
       "├─────────────────────────────────┼────────────────────────┼───────────────┤\n",
       "│ dense_2 (<span style=\"color: #0087ff; text-decoration-color: #0087ff\">Dense</span>)                 │ (<span style=\"color: #00d7ff; text-decoration-color: #00d7ff\">None</span>, <span style=\"color: #00af00; text-decoration-color: #00af00\">500</span>)            │       <span style=\"color: #00af00; text-decoration-color: #00af00\">250,500</span> │\n",
       "├─────────────────────────────────┼────────────────────────┼───────────────┤\n",
       "│ dropout_2 (<span style=\"color: #0087ff; text-decoration-color: #0087ff\">Dropout</span>)             │ (<span style=\"color: #00d7ff; text-decoration-color: #00d7ff\">None</span>, <span style=\"color: #00af00; text-decoration-color: #00af00\">500</span>)            │             <span style=\"color: #00af00; text-decoration-color: #00af00\">0</span> │\n",
       "├─────────────────────────────────┼────────────────────────┼───────────────┤\n",
       "│ dense_3 (<span style=\"color: #0087ff; text-decoration-color: #0087ff\">Dense</span>)                 │ (<span style=\"color: #00d7ff; text-decoration-color: #00d7ff\">None</span>, <span style=\"color: #00af00; text-decoration-color: #00af00\">350</span>)            │       <span style=\"color: #00af00; text-decoration-color: #00af00\">175,350</span> │\n",
       "├─────────────────────────────────┼────────────────────────┼───────────────┤\n",
       "│ dropout_3 (<span style=\"color: #0087ff; text-decoration-color: #0087ff\">Dropout</span>)             │ (<span style=\"color: #00d7ff; text-decoration-color: #00d7ff\">None</span>, <span style=\"color: #00af00; text-decoration-color: #00af00\">350</span>)            │             <span style=\"color: #00af00; text-decoration-color: #00af00\">0</span> │\n",
       "├─────────────────────────────────┼────────────────────────┼───────────────┤\n",
       "│ dense_4 (<span style=\"color: #0087ff; text-decoration-color: #0087ff\">Dense</span>)                 │ (<span style=\"color: #00d7ff; text-decoration-color: #00d7ff\">None</span>, <span style=\"color: #00af00; text-decoration-color: #00af00\">6</span>)              │         <span style=\"color: #00af00; text-decoration-color: #00af00\">2,106</span> │\n",
       "└─────────────────────────────────┴────────────────────────┴───────────────┘\n",
       "</pre>\n"
      ],
      "text/plain": [
       "┏━━━━━━━━━━━━━━━━━━━━━━━━━━━━━━━━━┳━━━━━━━━━━━━━━━━━━━━━━━━┳━━━━━━━━━━━━━━━┓\n",
       "┃\u001b[1m \u001b[0m\u001b[1mLayer (type)                   \u001b[0m\u001b[1m \u001b[0m┃\u001b[1m \u001b[0m\u001b[1mOutput Shape          \u001b[0m\u001b[1m \u001b[0m┃\u001b[1m \u001b[0m\u001b[1m      Param #\u001b[0m\u001b[1m \u001b[0m┃\n",
       "┡━━━━━━━━━━━━━━━━━━━━━━━━━━━━━━━━━╇━━━━━━━━━━━━━━━━━━━━━━━━╇━━━━━━━━━━━━━━━┩\n",
       "│ input_layer (\u001b[38;5;33mInputLayer\u001b[0m)        │ (\u001b[38;5;45mNone\u001b[0m, \u001b[38;5;34m2470\u001b[0m)           │             \u001b[38;5;34m0\u001b[0m │\n",
       "├─────────────────────────────────┼────────────────────────┼───────────────┤\n",
       "│ dense (\u001b[38;5;33mDense\u001b[0m)                   │ (\u001b[38;5;45mNone\u001b[0m, \u001b[38;5;34m800\u001b[0m)            │     \u001b[38;5;34m1,976,800\u001b[0m │\n",
       "├─────────────────────────────────┼────────────────────────┼───────────────┤\n",
       "│ batch_normalization             │ (\u001b[38;5;45mNone\u001b[0m, \u001b[38;5;34m800\u001b[0m)            │         \u001b[38;5;34m3,200\u001b[0m │\n",
       "│ (\u001b[38;5;33mBatchNormalization\u001b[0m)            │                        │               │\n",
       "├─────────────────────────────────┼────────────────────────┼───────────────┤\n",
       "│ dropout (\u001b[38;5;33mDropout\u001b[0m)               │ (\u001b[38;5;45mNone\u001b[0m, \u001b[38;5;34m800\u001b[0m)            │             \u001b[38;5;34m0\u001b[0m │\n",
       "├─────────────────────────────────┼────────────────────────┼───────────────┤\n",
       "│ dense_1 (\u001b[38;5;33mDense\u001b[0m)                 │ (\u001b[38;5;45mNone\u001b[0m, \u001b[38;5;34m500\u001b[0m)            │       \u001b[38;5;34m400,500\u001b[0m │\n",
       "├─────────────────────────────────┼────────────────────────┼───────────────┤\n",
       "│ batch_normalization_1           │ (\u001b[38;5;45mNone\u001b[0m, \u001b[38;5;34m500\u001b[0m)            │         \u001b[38;5;34m2,000\u001b[0m │\n",
       "│ (\u001b[38;5;33mBatchNormalization\u001b[0m)            │                        │               │\n",
       "├─────────────────────────────────┼────────────────────────┼───────────────┤\n",
       "│ dropout_1 (\u001b[38;5;33mDropout\u001b[0m)             │ (\u001b[38;5;45mNone\u001b[0m, \u001b[38;5;34m500\u001b[0m)            │             \u001b[38;5;34m0\u001b[0m │\n",
       "├─────────────────────────────────┼────────────────────────┼───────────────┤\n",
       "│ dense_2 (\u001b[38;5;33mDense\u001b[0m)                 │ (\u001b[38;5;45mNone\u001b[0m, \u001b[38;5;34m500\u001b[0m)            │       \u001b[38;5;34m250,500\u001b[0m │\n",
       "├─────────────────────────────────┼────────────────────────┼───────────────┤\n",
       "│ dropout_2 (\u001b[38;5;33mDropout\u001b[0m)             │ (\u001b[38;5;45mNone\u001b[0m, \u001b[38;5;34m500\u001b[0m)            │             \u001b[38;5;34m0\u001b[0m │\n",
       "├─────────────────────────────────┼────────────────────────┼───────────────┤\n",
       "│ dense_3 (\u001b[38;5;33mDense\u001b[0m)                 │ (\u001b[38;5;45mNone\u001b[0m, \u001b[38;5;34m350\u001b[0m)            │       \u001b[38;5;34m175,350\u001b[0m │\n",
       "├─────────────────────────────────┼────────────────────────┼───────────────┤\n",
       "│ dropout_3 (\u001b[38;5;33mDropout\u001b[0m)             │ (\u001b[38;5;45mNone\u001b[0m, \u001b[38;5;34m350\u001b[0m)            │             \u001b[38;5;34m0\u001b[0m │\n",
       "├─────────────────────────────────┼────────────────────────┼───────────────┤\n",
       "│ dense_4 (\u001b[38;5;33mDense\u001b[0m)                 │ (\u001b[38;5;45mNone\u001b[0m, \u001b[38;5;34m6\u001b[0m)              │         \u001b[38;5;34m2,106\u001b[0m │\n",
       "└─────────────────────────────────┴────────────────────────┴───────────────┘\n"
      ]
     },
     "metadata": {},
     "output_type": "display_data"
    },
    {
     "data": {
      "text/html": [
       "<pre style=\"white-space:pre;overflow-x:auto;line-height:normal;font-family:Menlo,'DejaVu Sans Mono',consolas,'Courier New',monospace\"><span style=\"font-weight: bold\"> Total params: </span><span style=\"color: #00af00; text-decoration-color: #00af00\">2,810,456</span> (10.72 MB)\n",
       "</pre>\n"
      ],
      "text/plain": [
       "\u001b[1m Total params: \u001b[0m\u001b[38;5;34m2,810,456\u001b[0m (10.72 MB)\n"
      ]
     },
     "metadata": {},
     "output_type": "display_data"
    },
    {
     "data": {
      "text/html": [
       "<pre style=\"white-space:pre;overflow-x:auto;line-height:normal;font-family:Menlo,'DejaVu Sans Mono',consolas,'Courier New',monospace\"><span style=\"font-weight: bold\"> Trainable params: </span><span style=\"color: #00af00; text-decoration-color: #00af00\">2,807,856</span> (10.71 MB)\n",
       "</pre>\n"
      ],
      "text/plain": [
       "\u001b[1m Trainable params: \u001b[0m\u001b[38;5;34m2,807,856\u001b[0m (10.71 MB)\n"
      ]
     },
     "metadata": {},
     "output_type": "display_data"
    },
    {
     "data": {
      "text/html": [
       "<pre style=\"white-space:pre;overflow-x:auto;line-height:normal;font-family:Menlo,'DejaVu Sans Mono',consolas,'Courier New',monospace\"><span style=\"font-weight: bold\"> Non-trainable params: </span><span style=\"color: #00af00; text-decoration-color: #00af00\">2,600</span> (10.16 KB)\n",
       "</pre>\n"
      ],
      "text/plain": [
       "\u001b[1m Non-trainable params: \u001b[0m\u001b[38;5;34m2,600\u001b[0m (10.16 KB)\n"
      ]
     },
     "metadata": {},
     "output_type": "display_data"
    }
   ],
   "source": [
    "# Set random seeds for reproducibility\n",
    "seed_value = 69\n",
    "\n",
    "# 1. Set the seed for Python's built-in random number generator\n",
    "random.seed(seed_value)\n",
    "# 2. Set the seed for NumPy\n",
    "np.random.seed(seed_value)\n",
    "# 3. Set the seed for TensorFlow\n",
    "tf.random.set_seed(seed_value)\n",
    "\n",
    "# Performance on total train dataset w/ 10% portioned for test: 0.4381\n",
    "\n",
    "\n",
    "\n",
    "# Random attempt\n",
    "def create_model():\n",
    "    inputs = tf.keras.Input(shape=(num_features,))\n",
    "    \n",
    "    x = layers.Dense(800, activation='sigmoid')(inputs) # 800 is good\n",
    "    x = layers.BatchNormalization()(x)\n",
    "    x = layers.Dropout(0.5)(x)\n",
    "    \n",
    "    x = layers.Dense(500, activation='relu')(x) # 500 is good\n",
    "    x = layers.BatchNormalization()(x)\n",
    "    x = layers.Dropout(0.2)(x)  \n",
    "    \n",
    "    x = layers.Dense(500, activation='relu')(x) # 500 is good\n",
    "    x = layers.Dropout(0.2)(x)  \n",
    "    \n",
    "    x = layers.Dense(350, activation='relu')(x) # 350 is good   \n",
    "    x = layers.Dropout(0.1)(x)\n",
    "\n",
    "    outputs = layers.Dense(num_classes, activation='softmax')(x)\n",
    "    model = Model(inputs, outputs)\n",
    "    return model\n",
    "\n",
    "# Instantiate the model\n",
    "model = create_model()\n",
    "\n",
    "# Compile the model with KL divergence loss\n",
    "model.compile(optimizer='adam',\n",
    "              loss=kullback_leibler_divergence)\n",
    "\n",
    "# Print the model summary\n",
    "model.summary()"
   ]
  },
  {
   "cell_type": "markdown",
   "id": "218c5bab",
   "metadata": {
    "papermill": {
     "duration": 0.00994,
     "end_time": "2024-04-03T01:29:56.278700",
     "exception": false,
     "start_time": "2024-04-03T01:29:56.268760",
     "status": "completed"
    },
    "tags": []
   },
   "source": [
    "# Load MLP Weights"
   ]
  },
  {
   "cell_type": "code",
   "execution_count": 10,
   "id": "547fa371",
   "metadata": {
    "execution": {
     "iopub.execute_input": "2024-04-03T01:29:56.300127Z",
     "iopub.status.busy": "2024-04-03T01:29:56.299833Z",
     "iopub.status.idle": "2024-04-03T01:29:56.514421Z",
     "shell.execute_reply": "2024-04-03T01:29:56.513484Z"
    },
    "papermill": {
     "duration": 0.227746,
     "end_time": "2024-04-03T01:29:56.516619",
     "exception": false,
     "start_time": "2024-04-03T01:29:56.288873",
     "status": "completed"
    },
    "scrolled": true,
    "tags": []
   },
   "outputs": [
    {
     "name": "stderr",
     "output_type": "stream",
     "text": [
      "/opt/conda/lib/python3.10/site-packages/keras/src/saving/saving_lib.py:396: UserWarning: Skipping variable loading for optimizer 'adam', because it has 2 variables whereas the saved optimizer has 38 variables. \n",
      "  trackable.load_own_variables(weights_store.get(inner_path))\n"
     ]
    }
   ],
   "source": [
    "model.load_weights('/kaggle/input/praneesh-mlp-model-weights/TrainedModel.weights.h5')\n"
   ]
  },
  {
   "cell_type": "code",
   "execution_count": null,
   "id": "fb16950d",
   "metadata": {
    "papermill": {
     "duration": 0.010156,
     "end_time": "2024-04-03T01:29:56.537354",
     "exception": false,
     "start_time": "2024-04-03T01:29:56.527198",
     "status": "completed"
    },
    "tags": []
   },
   "outputs": [],
   "source": []
  },
  {
   "cell_type": "markdown",
   "id": "2cb1f2bb",
   "metadata": {
    "papermill": {
     "duration": 0.009808,
     "end_time": "2024-04-03T01:29:56.557436",
     "exception": false,
     "start_time": "2024-04-03T01:29:56.547628",
     "status": "completed"
    },
    "tags": []
   },
   "source": [
    "# Process Test Set"
   ]
  },
  {
   "cell_type": "code",
   "execution_count": null,
   "id": "c1b7be6c",
   "metadata": {
    "papermill": {
     "duration": 0.009958,
     "end_time": "2024-04-03T01:29:56.577397",
     "exception": false,
     "start_time": "2024-04-03T01:29:56.567439",
     "status": "completed"
    },
    "tags": []
   },
   "outputs": [],
   "source": []
  },
  {
   "cell_type": "code",
   "execution_count": 11,
   "id": "cdfa0e1b",
   "metadata": {
    "execution": {
     "iopub.execute_input": "2024-04-03T01:29:56.598788Z",
     "iopub.status.busy": "2024-04-03T01:29:56.598482Z",
     "iopub.status.idle": "2024-04-03T01:29:56.618736Z",
     "shell.execute_reply": "2024-04-03T01:29:56.617816Z"
    },
    "papermill": {
     "duration": 0.033152,
     "end_time": "2024-04-03T01:29:56.620583",
     "exception": false,
     "start_time": "2024-04-03T01:29:56.587431",
     "status": "completed"
    },
    "tags": []
   },
   "outputs": [
    {
     "name": "stdout",
     "output_type": "stream",
     "text": [
      "Test shape: (1, 3)\n"
     ]
    }
   ],
   "source": [
    "test = pd.read_csv('/kaggle/input/hms-harmful-brain-activity-classification/test.csv')\n",
    "print('Test shape:',test.shape)"
   ]
  },
  {
   "cell_type": "code",
   "execution_count": 12,
   "id": "3331b651",
   "metadata": {
    "execution": {
     "iopub.execute_input": "2024-04-03T01:29:56.642800Z",
     "iopub.status.busy": "2024-04-03T01:29:56.642504Z",
     "iopub.status.idle": "2024-04-03T01:29:56.654620Z",
     "shell.execute_reply": "2024-04-03T01:29:56.653875Z"
    },
    "papermill": {
     "duration": 0.025319,
     "end_time": "2024-04-03T01:29:56.656428",
     "exception": false,
     "start_time": "2024-04-03T01:29:56.631109",
     "status": "completed"
    },
    "tags": []
   },
   "outputs": [],
   "source": [
    "EEG_SUB_PATH_TEMPL = '/kaggle/input/hms-harmful-brain-activity-classification/test_eegs/'\n",
    "SP_SUB_PATH_TEMPL = '/kaggle/input/hms-harmful-brain-activity-classification/test_spectrograms/'\n",
    "\n",
    "def get_sub_eeg_sp_data(train_row):\n",
    "    \"\"\"Gets EEG and Spectogram data from a specific row in the dataset\"\"\"\n",
    "    \n",
    "    eeg_id = train_row.eeg_id\n",
    "    sp_id = train_row.spectrogram_id\n",
    "    \n",
    "    eeg_parquet = pd.read_parquet(f'{EEG_SUB_PATH_TEMPL}{eeg_id}.parquet')\n",
    "    sp = pd.read_parquet(f'{SP_SUB_PATH_TEMPL}{sp_id}.parquet')\n",
    "    \n",
    "    rows = len(eeg_parquet)\n",
    "    eeg_offset = (rows-10_000)//2\n",
    "    \n",
    "    \n",
    "    # get middle 50 seconds of eeg data\n",
    "    #eeg_offset = int(train_row.eeg_label_offset_seconds + 20) #only 10 central seconds from 50 secs were labeled, which should be seconds 20-30 in the sample\n",
    "    eeg_data = eeg_parquet.iloc[eeg_offset:eeg_offset + 10_000]\n",
    "    \n",
    "    \n",
    "    # sp_offset = int(train_row.spectrogram_label_offset_seconds )\n",
    "    \n",
    "    # get spectrogram data\n",
    "    # sp = sp_parquet.loc[(sp_parquet.time>=sp_offset)&(sp_parquet.time<sp_offset+SP_WIN)]\n",
    "    sp = sp.loc[:, sp.columns != 'time']\n",
    "    sp = {\n",
    "        \"LL\": sp.filter(regex='^LL', axis=1),\n",
    "        \"RL\": sp.filter(regex='^RL', axis=1),\n",
    "        \"RP\": sp.filter(regex='^RP', axis=1),\n",
    "        \"LP\": sp.filter(regex='^LP', axis=1)}\n",
    "    \n",
    "    # calculate eeg data\n",
    "    # print(eeg_data.keys()) # Has keys Index(['Fp1', 'F3', 'C3', 'P3', 'F7', 'T3', 'T5', 'O1', 'Fz', 'Cz', 'Pz',\n",
    "                            # 'Fp2', 'F4', 'C4', 'P4', 'F8', 'T4', 'T6', 'O2', 'EKG']\n",
    "    # assert 0 == 1\n",
    "    \n",
    "    CHAINS = {\n",
    "    'LL' : [(\"Fp1\",\"F7\"),(\"F7\",\"T3\"),(\"T3\",\"T5\"),(\"T5\",\"O1\")],\n",
    "    'RL' : [(\"Fp2\",\"F8\"),(\"F8\",\"T4\"),(\"T4\",\"T6\"),(\"T6\",\"O2\")],\n",
    "    'LP' : [(\"Fp1\",\"F3\"),(\"F3\",\"C3\"),(\"C3\",\"P3\"),(\"P3\",\"O1\")],\n",
    "    'RP' : [(\"Fp2\",\"F4\"),(\"F4\",\"C4\"),(\"C4\",\"P4\"),(\"P4\",\"O2\")],\n",
    "    'other' : [(\"Fz\",\"Cz\"), (\"Cz\", \"Pz\"), (\"EKG\")]\n",
    "}\n",
    "    \n",
    "    eeg = pd.DataFrame({})\n",
    "    for chain in CHAINS.keys():\n",
    "        for s_i, signals in enumerate(CHAINS[chain]):\n",
    "            if len(signals) == 2:\n",
    "                diff=eeg_data[signals[0]]-eeg_data[signals[1]] # Subtracts relevant fields as in the image above\n",
    "                diff.ffill(inplace = True) # forward fills in the casse of nan values\n",
    "                eeg[f\"{chain}: {signals[0]} - {signals[1]}\"] = diff\n",
    "            \n",
    "            elif len(signals) == 1:\n",
    "                sig=eeg_data[signals[0]]\n",
    "                sig.ffill(inplace = True) \n",
    "                eeg[f\"{chain}: {signals[0]}\"] = sig\n",
    "                \n",
    "                \n",
    "    \n",
    "    return eeg, sp   "
   ]
  },
  {
   "cell_type": "code",
   "execution_count": 13,
   "id": "526a258d",
   "metadata": {
    "execution": {
     "iopub.execute_input": "2024-04-03T01:29:56.679589Z",
     "iopub.status.busy": "2024-04-03T01:29:56.679122Z",
     "iopub.status.idle": "2024-04-03T01:29:56.689076Z",
     "shell.execute_reply": "2024-04-03T01:29:56.688051Z"
    },
    "papermill": {
     "duration": 0.024996,
     "end_time": "2024-04-03T01:29:56.691574",
     "exception": false,
     "start_time": "2024-04-03T01:29:56.666578",
     "status": "completed"
    },
    "tags": []
   },
   "outputs": [],
   "source": [
    "def preprocess(pre_eeg):\n",
    "\n",
    "    tot_len = 53400\n",
    "    n_chunks = 10\n",
    "    chunk = int(tot_len // n_chunks)\n",
    "\n",
    "    for i in range(n_chunks):\n",
    "        if i == n_chunks-1:\n",
    "            eeg_data = pre_eeg[i*chunk:]\n",
    "        else:\n",
    "            eeg_data = pre_eeg[i*chunk:(i+1)*chunk]\n",
    "            \n",
    "        print(eeg_data.shape)\n",
    "\n",
    "        device = torch.device('cuda' if torch.cuda.is_available() else 'cpu')\n",
    "        print(device)\n",
    "\n",
    "        ts_scaler = TimeSeriesScalerMinMax()\n",
    "        eeg_data = ts_scaler.fit_transform(eeg_data)\n",
    "        print(np.nanmax(eeg_data), np.nanmin(eeg_data))\n",
    "\n",
    "        eeg_data_cuda = torch.from_numpy(eeg_data).to(device)\n",
    "        exp = torch.linspace(0, 1, eeg_data_cuda.shape[1], device=device).unsqueeze(0).unsqueeze(-1).expand_as(eeg_data_cuda[:, :, 0].unsqueeze(-1))\n",
    "        eeg_data_cuda = torch.cat([eeg_data_cuda, exp], dim=2)\n",
    "        print(eeg_data_cuda.shape)\n",
    "\n",
    "        sig = signatory.logsignature(eeg_data_cuda, 3)\n",
    "        print(sig.shape)\n",
    "        eeg_data = sig.cpu().numpy()\n",
    "\n",
    "        # eeg_sig = np.concatenate(eeg_data, axis=-1)\n",
    "        return eeg_data"
   ]
  },
  {
   "cell_type": "code",
   "execution_count": null,
   "id": "94a129f8",
   "metadata": {
    "papermill": {
     "duration": 0.014978,
     "end_time": "2024-04-03T01:29:56.720258",
     "exception": false,
     "start_time": "2024-04-03T01:29:56.705280",
     "status": "completed"
    },
    "tags": []
   },
   "outputs": [],
   "source": []
  },
  {
   "cell_type": "code",
   "execution_count": 14,
   "id": "5d1ac685",
   "metadata": {
    "execution": {
     "iopub.execute_input": "2024-04-03T01:29:56.751558Z",
     "iopub.status.busy": "2024-04-03T01:29:56.751081Z",
     "iopub.status.idle": "2024-04-03T01:29:57.048071Z",
     "shell.execute_reply": "2024-04-03T01:29:57.046997Z"
    },
    "papermill": {
     "duration": 0.314114,
     "end_time": "2024-04-03T01:29:57.050253",
     "exception": false,
     "start_time": "2024-04-03T01:29:56.736139",
     "status": "completed"
    },
    "tags": []
   },
   "outputs": [
    {
     "name": "stderr",
     "output_type": "stream",
     "text": [
      "100%|██████████| 1/1 [00:00<00:00,  3.55it/s]\n"
     ]
    },
    {
     "data": {
      "text/plain": [
       "array([[[ 26.11      ,   6.09      ,   2.83      , ..., -12.41      ,\n",
       "          31.380001  ,  24.289999  ],\n",
       "        [ 65.39001   , -47.380005  ,  -6.5200005 , ..., -12.78      ,\n",
       "          35.34      ,  23.3       ],\n",
       "        [  8.649998  ,  -3.289999  ,   0.52000046, ..., -25.64      ,\n",
       "          26.83      ,  21.        ],\n",
       "        ...,\n",
       "        [-43.39      ,  18.630001  ,  28.78      , ..., -52.12      ,\n",
       "         -16.39      ,  21.629997  ],\n",
       "        [-44.690002  ,  23.130001  ,  25.96      , ..., -50.050003  ,\n",
       "         -14.73      ,  20.920002  ],\n",
       "        [-37.53      ,  27.5       ,  22.44      , ..., -40.63      ,\n",
       "          -3.75      ,  23.39      ]]], dtype=float32)"
      ]
     },
     "execution_count": 14,
     "metadata": {},
     "output_type": "execute_result"
    }
   ],
   "source": [
    "eeg_arr = []\n",
    "for i in tqdm(range(len(test))):\n",
    "        exp_row = test.iloc[i]\n",
    "        eeg_data, sp_dict = get_sub_eeg_sp_data(exp_row)\n",
    "        eeg_arr.append(eeg_data.to_numpy())\n",
    "\n",
    "eeg_arr = np.array(eeg_arr)\n",
    "\n",
    "eeg_arr"
   ]
  },
  {
   "cell_type": "code",
   "execution_count": 15,
   "id": "16ea054d",
   "metadata": {
    "execution": {
     "iopub.execute_input": "2024-04-03T01:29:57.075477Z",
     "iopub.status.busy": "2024-04-03T01:29:57.075144Z",
     "iopub.status.idle": "2024-04-03T01:29:57.871411Z",
     "shell.execute_reply": "2024-04-03T01:29:57.870182Z"
    },
    "papermill": {
     "duration": 0.810541,
     "end_time": "2024-04-03T01:29:57.873566",
     "exception": false,
     "start_time": "2024-04-03T01:29:57.063025",
     "status": "completed"
    },
    "tags": []
   },
   "outputs": [
    {
     "name": "stdout",
     "output_type": "stream",
     "text": [
      "(1, 10000, 18)\n",
      "cuda\n",
      "1.0 0.0\n",
      "torch.Size([1, 10000, 19])\n",
      "torch.Size([1, 2470])\n"
     ]
    }
   ],
   "source": [
    "sub = pd.DataFrame({'eeg_id':test.eeg_id.values})\n",
    "prep_eeg_sub = preprocess(eeg_arr)\n"
   ]
  },
  {
   "cell_type": "markdown",
   "id": "ea4c5012",
   "metadata": {
    "papermill": {
     "duration": 0.010821,
     "end_time": "2024-04-03T01:29:57.895585",
     "exception": false,
     "start_time": "2024-04-03T01:29:57.884764",
     "status": "completed"
    },
    "tags": []
   },
   "source": [
    "# Predict from processed test set"
   ]
  },
  {
   "cell_type": "code",
   "execution_count": 16,
   "id": "00d6a14d",
   "metadata": {
    "execution": {
     "iopub.execute_input": "2024-04-03T01:29:57.918409Z",
     "iopub.status.busy": "2024-04-03T01:29:57.918110Z",
     "iopub.status.idle": "2024-04-03T01:29:58.989177Z",
     "shell.execute_reply": "2024-04-03T01:29:58.988224Z"
    },
    "papermill": {
     "duration": 1.085275,
     "end_time": "2024-04-03T01:29:58.991616",
     "exception": false,
     "start_time": "2024-04-03T01:29:57.906341",
     "status": "completed"
    },
    "tags": []
   },
   "outputs": [
    {
     "name": "stdout",
     "output_type": "stream",
     "text": [
      "\u001b[1m1/1\u001b[0m \u001b[32m━━━━━━━━━━━━━━━━━━━━\u001b[0m\u001b[37m\u001b[0m \u001b[1m1s\u001b[0m 1000ms/step\n",
      "This is the sub pred sum: 1.0000001\n",
      "[[5.4647678e-01 1.5370744e-01 1.0347281e-09 1.8320108e-03 3.5487128e-06\n",
      "  2.9798031e-01]]\n"
     ]
    },
    {
     "name": "stderr",
     "output_type": "stream",
     "text": [
      "WARNING: All log messages before absl::InitializeLog() is called are written to STDERR\n",
      "I0000 00:00:1712107798.977915     140 device_compiler.h:186] Compiled cluster using XLA!  This line is logged at most once for the lifetime of the process.\n"
     ]
    }
   ],
   "source": [
    "sub_pred = model.predict(prep_eeg_sub)\n",
    "\n",
    "print(\"This is the sub pred sum:\",sub_pred.sum())\n",
    "print(sub_pred)"
   ]
  },
  {
   "cell_type": "code",
   "execution_count": 17,
   "id": "1a7c2c3a",
   "metadata": {
    "execution": {
     "iopub.execute_input": "2024-04-03T01:29:59.015915Z",
     "iopub.status.busy": "2024-04-03T01:29:59.015634Z",
     "iopub.status.idle": "2024-04-03T01:29:59.039845Z",
     "shell.execute_reply": "2024-04-03T01:29:59.038991Z"
    },
    "papermill": {
     "duration": 0.038764,
     "end_time": "2024-04-03T01:29:59.041950",
     "exception": false,
     "start_time": "2024-04-03T01:29:59.003186",
     "status": "completed"
    },
    "tags": []
   },
   "outputs": [
    {
     "name": "stdout",
     "output_type": "stream",
     "text": [
      "Submission shape (1, 7)\n"
     ]
    },
    {
     "data": {
      "text/html": [
       "<div>\n",
       "<style scoped>\n",
       "    .dataframe tbody tr th:only-of-type {\n",
       "        vertical-align: middle;\n",
       "    }\n",
       "\n",
       "    .dataframe tbody tr th {\n",
       "        vertical-align: top;\n",
       "    }\n",
       "\n",
       "    .dataframe thead th {\n",
       "        text-align: right;\n",
       "    }\n",
       "</style>\n",
       "<table border=\"1\" class=\"dataframe\">\n",
       "  <thead>\n",
       "    <tr style=\"text-align: right;\">\n",
       "      <th></th>\n",
       "      <th>eeg_id</th>\n",
       "      <th>seizure_vote</th>\n",
       "      <th>lpd_vote</th>\n",
       "      <th>gpd_vote</th>\n",
       "      <th>lrda_vote</th>\n",
       "      <th>grda_vote</th>\n",
       "      <th>other_vote</th>\n",
       "    </tr>\n",
       "  </thead>\n",
       "  <tbody>\n",
       "    <tr>\n",
       "      <th>0</th>\n",
       "      <td>3911565283</td>\n",
       "      <td>0.546477</td>\n",
       "      <td>0.153707</td>\n",
       "      <td>1.034728e-09</td>\n",
       "      <td>0.001832</td>\n",
       "      <td>0.000004</td>\n",
       "      <td>0.29798</td>\n",
       "    </tr>\n",
       "  </tbody>\n",
       "</table>\n",
       "</div>"
      ],
      "text/plain": [
       "       eeg_id  seizure_vote  lpd_vote      gpd_vote  lrda_vote  grda_vote  \\\n",
       "0  3911565283      0.546477  0.153707  1.034728e-09   0.001832   0.000004   \n",
       "\n",
       "   other_vote  \n",
       "0     0.29798  "
      ]
     },
     "metadata": {},
     "output_type": "display_data"
    },
    {
     "name": "stdout",
     "output_type": "stream",
     "text": [
      "Sub row 0 sums to: 1.0000000951228645\n"
     ]
    }
   ],
   "source": [
    "# CREATE SUBMISSION.CSV\n",
    "from IPython.display import display\n",
    "\n",
    "sub = pd.DataFrame({'eeg_id':test.eeg_id.values})\n",
    "\n",
    "TARGETS = ['seizure_vote', 'lpd_vote', 'gpd_vote', 'lrda_vote', 'grda_vote', 'other_vote']\n",
    "sub[TARGETS] = sub_pred\n",
    "sub.to_csv('submission.csv',index=False)\n",
    "print('Submission shape',sub.shape)\n",
    "display( sub.head() )\n",
    "\n",
    "# SANITY CHECK TO CONFIRM PREDICTIONS SUM TO ONE\n",
    "print('Sub row 0 sums to:',sub.iloc[0,-6:].sum())"
   ]
  },
  {
   "cell_type": "code",
   "execution_count": null,
   "id": "b0f61823",
   "metadata": {
    "papermill": {
     "duration": 0.011323,
     "end_time": "2024-04-03T01:29:59.065052",
     "exception": false,
     "start_time": "2024-04-03T01:29:59.053729",
     "status": "completed"
    },
    "tags": []
   },
   "outputs": [],
   "source": []
  }
 ],
 "metadata": {
  "kaggle": {
   "accelerator": "nvidiaTeslaT4",
   "dataSources": [
    {
     "databundleVersionId": 7469972,
     "sourceId": 59093,
     "sourceType": "competition"
    },
    {
     "datasetId": 4719156,
     "sourceId": 8011206,
     "sourceType": "datasetVersion"
    },
    {
     "datasetId": 4721331,
     "sourceId": 8013891,
     "sourceType": "datasetVersion"
    },
    {
     "datasetId": 4721498,
     "sourceId": 8014144,
     "sourceType": "datasetVersion"
    },
    {
     "sourceId": 168829242,
     "sourceType": "kernelVersion"
    }
   ],
   "dockerImageVersionId": 30674,
   "isGpuEnabled": true,
   "isInternetEnabled": false,
   "language": "python",
   "sourceType": "notebook"
  },
  "kernelspec": {
   "display_name": "Python 3",
   "language": "python",
   "name": "python3"
  },
  "language_info": {
   "codemirror_mode": {
    "name": "ipython",
    "version": 3
   },
   "file_extension": ".py",
   "mimetype": "text/x-python",
   "name": "python",
   "nbconvert_exporter": "python",
   "pygments_lexer": "ipython3",
   "version": "3.10.13"
  },
  "papermill": {
   "default_parameters": {},
   "duration": 190.371087,
   "end_time": "2024-04-03T01:30:01.803934",
   "environment_variables": {},
   "exception": null,
   "input_path": "__notebook__.ipynb",
   "output_path": "__notebook__.ipynb",
   "parameters": {},
   "start_time": "2024-04-03T01:26:51.432847",
   "version": "2.5.0"
  }
 },
 "nbformat": 4,
 "nbformat_minor": 5
}
